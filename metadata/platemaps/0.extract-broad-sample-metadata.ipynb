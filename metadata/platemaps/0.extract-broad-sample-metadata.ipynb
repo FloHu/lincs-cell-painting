{
 "cells": [
  {
   "cell_type": "markdown",
   "metadata": {},
   "source": [
    "## Extract all Metadata for Broad IDs Assayed with Cell Painting"
   ]
  },
  {
   "cell_type": "code",
   "execution_count": 1,
   "metadata": {},
   "outputs": [
    {
     "data": {
      "application/javascript": [
       "\n",
       "            setTimeout(function() {\n",
       "                var nbb_cell_id = 1;\n",
       "                var nbb_unformatted_code = \"%load_ext nb_black\";\n",
       "                var nbb_formatted_code = \"%load_ext nb_black\";\n",
       "                var nbb_cells = Jupyter.notebook.get_cells();\n",
       "                for (var i = 0; i < nbb_cells.length; ++i) {\n",
       "                    if (nbb_cells[i].input_prompt_number == nbb_cell_id) {\n",
       "                        if (nbb_cells[i].get_text() == nbb_unformatted_code) {\n",
       "                             nbb_cells[i].set_text(nbb_formatted_code);\n",
       "                        }\n",
       "                        break;\n",
       "                    }\n",
       "                }\n",
       "            }, 500);\n",
       "            "
      ],
      "text/plain": [
       "<IPython.core.display.Javascript object>"
      ]
     },
     "metadata": {},
     "output_type": "display_data"
    }
   ],
   "source": [
    "%load_ext nb_black"
   ]
  },
  {
   "cell_type": "code",
   "execution_count": 2,
   "metadata": {},
   "outputs": [
    {
     "data": {
      "application/javascript": [
       "\n",
       "            setTimeout(function() {\n",
       "                var nbb_cell_id = 2;\n",
       "                var nbb_unformatted_code = \"import os\\nimport pathlib\\nimport pandas as pd\";\n",
       "                var nbb_formatted_code = \"import os\\nimport pathlib\\nimport pandas as pd\";\n",
       "                var nbb_cells = Jupyter.notebook.get_cells();\n",
       "                for (var i = 0; i < nbb_cells.length; ++i) {\n",
       "                    if (nbb_cells[i].input_prompt_number == nbb_cell_id) {\n",
       "                        if (nbb_cells[i].get_text() == nbb_unformatted_code) {\n",
       "                             nbb_cells[i].set_text(nbb_formatted_code);\n",
       "                        }\n",
       "                        break;\n",
       "                    }\n",
       "                }\n",
       "            }, 500);\n",
       "            "
      ],
      "text/plain": [
       "<IPython.core.display.Javascript object>"
      ]
     },
     "metadata": {},
     "output_type": "display_data"
    }
   ],
   "source": [
    "import os\n",
    "import pathlib\n",
    "import pandas as pd"
   ]
  },
  {
   "cell_type": "code",
   "execution_count": 3,
   "metadata": {},
   "outputs": [
    {
     "data": {
      "application/javascript": [
       "\n",
       "            setTimeout(function() {\n",
       "                var nbb_cell_id = 3;\n",
       "                var nbb_unformatted_code = \"all_platemaps = list()\\n\\nbatch = \\\"2016_04_01_a549_48hr_batch1\\\"\\nplatemap_dir = pathlib.Path(batch, \\\"platemap\\\")\\n\\nfor platemap_file in os.listdir(platemap_dir):\\n\\n    # Load platemap\\n    platemap = platemap_file.strip(\\\".txt\\\")\\n    platemap_df = pd.read_csv(os.path.join(platemap_dir, platemap_file), sep=\\\"\\\\t\\\")\\n\\n    assert platemap == platemap_df.plate_map_name.unique()[0]\\n\\n    # Process platemap\\n    platemap_df = platemap_df.assign(\\n        broad_id=platemap_df.broad_sample.str.extract(r\\\"(BRD[-N][A-Z0-9]+)\\\")\\n    )\\n\\n    platemap_df = (\\n        platemap_df.loc[:, [\\\"broad_sample\\\", \\\"broad_id\\\", \\\"plate_map_name\\\", \\\"solvent\\\"]]\\n        .drop_duplicates()\\n        .reset_index(drop=True)\\n    )\\n\\n    all_platemaps.append(platemap_df)\";\n",
       "                var nbb_formatted_code = \"all_platemaps = list()\\n\\nbatch = \\\"2016_04_01_a549_48hr_batch1\\\"\\nplatemap_dir = pathlib.Path(batch, \\\"platemap\\\")\\n\\nfor platemap_file in os.listdir(platemap_dir):\\n\\n    # Load platemap\\n    platemap = platemap_file.strip(\\\".txt\\\")\\n    platemap_df = pd.read_csv(os.path.join(platemap_dir, platemap_file), sep=\\\"\\\\t\\\")\\n\\n    assert platemap == platemap_df.plate_map_name.unique()[0]\\n\\n    # Process platemap\\n    platemap_df = platemap_df.assign(\\n        broad_id=platemap_df.broad_sample.str.extract(r\\\"(BRD[-N][A-Z0-9]+)\\\")\\n    )\\n\\n    platemap_df = (\\n        platemap_df.loc[:, [\\\"broad_sample\\\", \\\"broad_id\\\", \\\"plate_map_name\\\", \\\"solvent\\\"]]\\n        .drop_duplicates()\\n        .reset_index(drop=True)\\n    )\\n\\n    all_platemaps.append(platemap_df)\";\n",
       "                var nbb_cells = Jupyter.notebook.get_cells();\n",
       "                for (var i = 0; i < nbb_cells.length; ++i) {\n",
       "                    if (nbb_cells[i].input_prompt_number == nbb_cell_id) {\n",
       "                        if (nbb_cells[i].get_text() == nbb_unformatted_code) {\n",
       "                             nbb_cells[i].set_text(nbb_formatted_code);\n",
       "                        }\n",
       "                        break;\n",
       "                    }\n",
       "                }\n",
       "            }, 500);\n",
       "            "
      ],
      "text/plain": [
       "<IPython.core.display.Javascript object>"
      ]
     },
     "metadata": {},
     "output_type": "display_data"
    }
   ],
   "source": [
    "all_platemaps = list()\n",
    "\n",
    "batch = \"2016_04_01_a549_48hr_batch1\"\n",
    "platemap_dir = pathlib.Path(batch, \"platemap\")\n",
    "\n",
    "for platemap_file in os.listdir(platemap_dir):\n",
    "\n",
    "    # Load platemap\n",
    "    platemap = platemap_file.strip(\".txt\")\n",
    "    platemap_df = pd.read_csv(os.path.join(platemap_dir, platemap_file), sep=\"\\t\")\n",
    "\n",
    "    assert platemap == platemap_df.plate_map_name.unique()[0]\n",
    "\n",
    "    # Process platemap\n",
    "    platemap_df = platemap_df.assign(\n",
    "        broad_id=platemap_df.broad_sample.str.extract(r\"(BRD[-N][A-Z0-9]+)\")\n",
    "    )\n",
    "\n",
    "    platemap_df = (\n",
    "        platemap_df.loc[:, [\"broad_sample\", \"broad_id\", \"plate_map_name\", \"solvent\"]]\n",
    "        .drop_duplicates()\n",
    "        .reset_index(drop=True)\n",
    "    )\n",
    "\n",
    "    all_platemaps.append(platemap_df)"
   ]
  },
  {
   "cell_type": "code",
   "execution_count": 4,
   "metadata": {},
   "outputs": [
    {
     "name": "stdout",
     "output_type": "stream",
     "text": [
      "(1652, 4)\n"
     ]
    },
    {
     "data": {
      "text/html": [
       "<div>\n",
       "<style scoped>\n",
       "    .dataframe tbody tr th:only-of-type {\n",
       "        vertical-align: middle;\n",
       "    }\n",
       "\n",
       "    .dataframe tbody tr th {\n",
       "        vertical-align: top;\n",
       "    }\n",
       "\n",
       "    .dataframe thead th {\n",
       "        text-align: right;\n",
       "    }\n",
       "</style>\n",
       "<table border=\"1\" class=\"dataframe\">\n",
       "  <thead>\n",
       "    <tr style=\"text-align: right;\">\n",
       "      <th></th>\n",
       "      <th>broad_sample</th>\n",
       "      <th>broad_id</th>\n",
       "      <th>plate_map_name</th>\n",
       "      <th>solvent</th>\n",
       "    </tr>\n",
       "  </thead>\n",
       "  <tbody>\n",
       "    <tr>\n",
       "      <th>0</th>\n",
       "      <td>NaN</td>\n",
       "      <td>NaN</td>\n",
       "      <td>C-7161-01-LM6-018</td>\n",
       "      <td>DMSO</td>\n",
       "    </tr>\n",
       "    <tr>\n",
       "      <th>1</th>\n",
       "      <td>BRD-A62035778-004-03-6</td>\n",
       "      <td>BRD-A62035778</td>\n",
       "      <td>C-7161-01-LM6-018</td>\n",
       "      <td>DMSO</td>\n",
       "    </tr>\n",
       "    <tr>\n",
       "      <th>2</th>\n",
       "      <td>BRD-K62196610-001-01-6</td>\n",
       "      <td>BRD-K62196610</td>\n",
       "      <td>C-7161-01-LM6-018</td>\n",
       "      <td>DMSO</td>\n",
       "    </tr>\n",
       "    <tr>\n",
       "      <th>3</th>\n",
       "      <td>BRD-K62277907-001-01-6</td>\n",
       "      <td>BRD-K62277907</td>\n",
       "      <td>C-7161-01-LM6-018</td>\n",
       "      <td>DMSO</td>\n",
       "    </tr>\n",
       "    <tr>\n",
       "      <th>4</th>\n",
       "      <td>BRD-A62071884-001-04-6</td>\n",
       "      <td>BRD-A62071884</td>\n",
       "      <td>C-7161-01-LM6-018</td>\n",
       "      <td>DMSO</td>\n",
       "    </tr>\n",
       "  </tbody>\n",
       "</table>\n",
       "</div>"
      ],
      "text/plain": [
       "             broad_sample       broad_id     plate_map_name solvent\n",
       "0                     NaN            NaN  C-7161-01-LM6-018    DMSO\n",
       "1  BRD-A62035778-004-03-6  BRD-A62035778  C-7161-01-LM6-018    DMSO\n",
       "2  BRD-K62196610-001-01-6  BRD-K62196610  C-7161-01-LM6-018    DMSO\n",
       "3  BRD-K62277907-001-01-6  BRD-K62277907  C-7161-01-LM6-018    DMSO\n",
       "4  BRD-A62071884-001-04-6  BRD-A62071884  C-7161-01-LM6-018    DMSO"
      ]
     },
     "execution_count": 4,
     "metadata": {},
     "output_type": "execute_result"
    },
    {
     "data": {
      "application/javascript": [
       "\n",
       "            setTimeout(function() {\n",
       "                var nbb_cell_id = 4;\n",
       "                var nbb_unformatted_code = \"# Combine platemap info\\nall_platemap_df = pd.concat(all_platemaps, axis=\\\"rows\\\").drop_duplicates()\\n\\n# Output file\\noutput_file = \\\"broad_sample_info.tsv\\\"\\nall_platemap_df.to_csv(output_file, index=False, sep=\\\"\\\\t\\\")\\n\\nprint(all_platemap_df.shape)\\nall_platemap_df.head()\";\n",
       "                var nbb_formatted_code = \"# Combine platemap info\\nall_platemap_df = pd.concat(all_platemaps, axis=\\\"rows\\\").drop_duplicates()\\n\\n# Output file\\noutput_file = \\\"broad_sample_info.tsv\\\"\\nall_platemap_df.to_csv(output_file, index=False, sep=\\\"\\\\t\\\")\\n\\nprint(all_platemap_df.shape)\\nall_platemap_df.head()\";\n",
       "                var nbb_cells = Jupyter.notebook.get_cells();\n",
       "                for (var i = 0; i < nbb_cells.length; ++i) {\n",
       "                    if (nbb_cells[i].input_prompt_number == nbb_cell_id) {\n",
       "                        if (nbb_cells[i].get_text() == nbb_unformatted_code) {\n",
       "                             nbb_cells[i].set_text(nbb_formatted_code);\n",
       "                        }\n",
       "                        break;\n",
       "                    }\n",
       "                }\n",
       "            }, 500);\n",
       "            "
      ],
      "text/plain": [
       "<IPython.core.display.Javascript object>"
      ]
     },
     "metadata": {},
     "output_type": "display_data"
    }
   ],
   "source": [
    "# Combine platemap info\n",
    "all_platemap_df = pd.concat(all_platemaps, axis=\"rows\").drop_duplicates()\n",
    "\n",
    "# Output file\n",
    "output_file = \"broad_sample_info.tsv\"\n",
    "all_platemap_df.to_csv(output_file, index=False, sep=\"\\t\")\n",
    "\n",
    "print(all_platemap_df.shape)\n",
    "all_platemap_df.head()"
   ]
  }
 ],
 "metadata": {
  "kernelspec": {
   "display_name": "Python 3",
   "language": "python",
   "name": "python3"
  },
  "language_info": {
   "codemirror_mode": {
    "name": "ipython",
    "version": 3
   },
   "file_extension": ".py",
   "mimetype": "text/x-python",
   "name": "python",
   "nbconvert_exporter": "python",
   "pygments_lexer": "ipython3",
   "version": "3.7.6"
  }
 },
 "nbformat": 4,
 "nbformat_minor": 4
}
