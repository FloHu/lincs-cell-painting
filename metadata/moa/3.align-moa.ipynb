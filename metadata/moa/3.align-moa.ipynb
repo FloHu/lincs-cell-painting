{
 "cells": [
  {
   "cell_type": "markdown",
   "metadata": {},
   "source": [
    "# Align Platemap and MOA Data\n",
    "\n",
    "Here, I align Broad IDs in the Platemap Data to the Most Recent MOA/Target Info"
   ]
  },
  {
   "cell_type": "code",
   "execution_count": 1,
   "metadata": {},
   "outputs": [
    {
     "data": {
      "application/javascript": [
       "\n",
       "            setTimeout(function() {\n",
       "                var nbb_cell_id = 1;\n",
       "                var nbb_unformatted_code = \"%load_ext nb_black\\n%matplotlib inline\";\n",
       "                var nbb_formatted_code = \"%load_ext nb_black\\n%matplotlib inline\";\n",
       "                var nbb_cells = Jupyter.notebook.get_cells();\n",
       "                for (var i = 0; i < nbb_cells.length; ++i) {\n",
       "                    if (nbb_cells[i].input_prompt_number == nbb_cell_id) {\n",
       "                        if (nbb_cells[i].get_text() == nbb_unformatted_code) {\n",
       "                             nbb_cells[i].set_text(nbb_formatted_code);\n",
       "                        }\n",
       "                        break;\n",
       "                    }\n",
       "                }\n",
       "            }, 500);\n",
       "            "
      ],
      "text/plain": [
       "<IPython.core.display.Javascript object>"
      ]
     },
     "metadata": {},
     "output_type": "display_data"
    }
   ],
   "source": [
    "%load_ext nb_black\n",
    "%matplotlib inline"
   ]
  },
  {
   "cell_type": "code",
   "execution_count": 2,
   "metadata": {},
   "outputs": [
    {
     "data": {
      "application/javascript": [
       "\n",
       "            setTimeout(function() {\n",
       "                var nbb_cell_id = 2;\n",
       "                var nbb_unformatted_code = \"import pathlib\\nimport numpy as np\\nimport pandas as pd\\nimport matplotlib.pyplot as plt\";\n",
       "                var nbb_formatted_code = \"import pathlib\\nimport numpy as np\\nimport pandas as pd\\nimport matplotlib.pyplot as plt\";\n",
       "                var nbb_cells = Jupyter.notebook.get_cells();\n",
       "                for (var i = 0; i < nbb_cells.length; ++i) {\n",
       "                    if (nbb_cells[i].input_prompt_number == nbb_cell_id) {\n",
       "                        if (nbb_cells[i].get_text() == nbb_unformatted_code) {\n",
       "                             nbb_cells[i].set_text(nbb_formatted_code);\n",
       "                        }\n",
       "                        break;\n",
       "                    }\n",
       "                }\n",
       "            }, 500);\n",
       "            "
      ],
      "text/plain": [
       "<IPython.core.display.Javascript object>"
      ]
     },
     "metadata": {},
     "output_type": "display_data"
    }
   ],
   "source": [
    "import pathlib\n",
    "import numpy as np\n",
    "import pandas as pd\n",
    "import matplotlib.pyplot as plt"
   ]
  },
  {
   "cell_type": "code",
   "execution_count": 3,
   "metadata": {},
   "outputs": [
    {
     "data": {
      "application/javascript": [
       "\n",
       "            setTimeout(function() {\n",
       "                var nbb_cell_id = 3;\n",
       "                var nbb_unformatted_code = \"def split_pipe_broad_id(map_subset_df, broad_id_col):\\n    # Split a dataframe with broad_id_cols that have pipe delimiters\\n    broad_split_df = (\\n        pd.DataFrame(\\n            map_subset_df.loc[:, broad_id_col]\\n            .squeeze()\\n            .dropna()\\n            .str.split(\\\"|\\\")\\n            .tolist(),\\n            index=map_df.dropna(subset=[broad_id_col]).index,\\n        )\\n        .stack()\\n        .reset_index()\\n    )\\n    broad_split_df.columns = [\\\"map_index\\\", \\\"_\\\", \\\"broad_id_unique\\\"]\\n\\n    map_long_df = (\\n        map_subset_df.merge(\\n            broad_split_df.loc[:, [\\\"map_index\\\", \\\"broad_id_unique\\\"]],\\n            left_index=True,\\n            right_on=\\\"map_index\\\",\\n            how=\\\"left\\\",\\n        )\\n        .reset_index(drop=True)\\n        .loc[:, [\\\"InChIKey14\\\", \\\"broad_id_unique\\\"]]\\n        .drop_duplicates()\\n        .assign(broad_date=broad_id_col)\\n        .dropna()\\n        .reset_index(drop=True)\\n    )\\n\\n    return map_long_df\";\n",
       "                var nbb_formatted_code = \"def split_pipe_broad_id(map_subset_df, broad_id_col):\\n    # Split a dataframe with broad_id_cols that have pipe delimiters\\n    broad_split_df = (\\n        pd.DataFrame(\\n            map_subset_df.loc[:, broad_id_col]\\n            .squeeze()\\n            .dropna()\\n            .str.split(\\\"|\\\")\\n            .tolist(),\\n            index=map_df.dropna(subset=[broad_id_col]).index,\\n        )\\n        .stack()\\n        .reset_index()\\n    )\\n    broad_split_df.columns = [\\\"map_index\\\", \\\"_\\\", \\\"broad_id_unique\\\"]\\n\\n    map_long_df = (\\n        map_subset_df.merge(\\n            broad_split_df.loc[:, [\\\"map_index\\\", \\\"broad_id_unique\\\"]],\\n            left_index=True,\\n            right_on=\\\"map_index\\\",\\n            how=\\\"left\\\",\\n        )\\n        .reset_index(drop=True)\\n        .loc[:, [\\\"InChIKey14\\\", \\\"broad_id_unique\\\"]]\\n        .drop_duplicates()\\n        .assign(broad_date=broad_id_col)\\n        .dropna()\\n        .reset_index(drop=True)\\n    )\\n\\n    return map_long_df\";\n",
       "                var nbb_cells = Jupyter.notebook.get_cells();\n",
       "                for (var i = 0; i < nbb_cells.length; ++i) {\n",
       "                    if (nbb_cells[i].input_prompt_number == nbb_cell_id) {\n",
       "                        if (nbb_cells[i].get_text() == nbb_unformatted_code) {\n",
       "                             nbb_cells[i].set_text(nbb_formatted_code);\n",
       "                        }\n",
       "                        break;\n",
       "                    }\n",
       "                }\n",
       "            }, 500);\n",
       "            "
      ],
      "text/plain": [
       "<IPython.core.display.Javascript object>"
      ]
     },
     "metadata": {},
     "output_type": "display_data"
    }
   ],
   "source": [
    "def split_pipe_broad_id(map_subset_df, broad_id_col):\n",
    "    # Split a dataframe with broad_id_cols that have pipe delimiters\n",
    "    broad_split_df = (\n",
    "        pd.DataFrame(\n",
    "            map_subset_df.loc[:, broad_id_col]\n",
    "            .squeeze()\n",
    "            .dropna()\n",
    "            .str.split(\"|\")\n",
    "            .tolist(),\n",
    "            index=map_df.dropna(subset=[broad_id_col]).index,\n",
    "        )\n",
    "        .stack()\n",
    "        .reset_index()\n",
    "    )\n",
    "    broad_split_df.columns = [\"map_index\", \"_\", \"broad_id_unique\"]\n",
    "\n",
    "    map_long_df = (\n",
    "        map_subset_df.merge(\n",
    "            broad_split_df.loc[:, [\"map_index\", \"broad_id_unique\"]],\n",
    "            left_index=True,\n",
    "            right_on=\"map_index\",\n",
    "            how=\"left\",\n",
    "        )\n",
    "        .reset_index(drop=True)\n",
    "        .loc[:, [\"InChIKey14\", \"broad_id_unique\"]]\n",
    "        .drop_duplicates()\n",
    "        .assign(broad_date=broad_id_col)\n",
    "        .dropna()\n",
    "        .reset_index(drop=True)\n",
    "    )\n",
    "\n",
    "    return map_long_df"
   ]
  },
  {
   "cell_type": "markdown",
   "metadata": {},
   "source": [
    "## Step 1: Define InChIKey14-to-Broad ID Map"
   ]
  },
  {
   "cell_type": "code",
   "execution_count": 4,
   "metadata": {},
   "outputs": [
    {
     "data": {
      "application/javascript": [
       "\n",
       "            setTimeout(function() {\n",
       "                var nbb_cell_id = 4;\n",
       "                var nbb_unformatted_code = \"mapping_col = \\\"InChIKey14\\\"\\n\\nrepurposing_col = \\\"broad_id_20170327\\\"\\nbroad_id_other_dates = [\\\"20170327\\\", \\\"20180516\\\", \\\"20180907\\\", \\\"20200324\\\"]\";\n",
       "                var nbb_formatted_code = \"mapping_col = \\\"InChIKey14\\\"\\n\\nrepurposing_col = \\\"broad_id_20170327\\\"\\nbroad_id_other_dates = [\\\"20170327\\\", \\\"20180516\\\", \\\"20180907\\\", \\\"20200324\\\"]\";\n",
       "                var nbb_cells = Jupyter.notebook.get_cells();\n",
       "                for (var i = 0; i < nbb_cells.length; ++i) {\n",
       "                    if (nbb_cells[i].input_prompt_number == nbb_cell_id) {\n",
       "                        if (nbb_cells[i].get_text() == nbb_unformatted_code) {\n",
       "                             nbb_cells[i].set_text(nbb_formatted_code);\n",
       "                        }\n",
       "                        break;\n",
       "                    }\n",
       "                }\n",
       "            }, 500);\n",
       "            "
      ],
      "text/plain": [
       "<IPython.core.display.Javascript object>"
      ]
     },
     "metadata": {},
     "output_type": "display_data"
    }
   ],
   "source": [
    "mapping_col = \"InChIKey14\"\n",
    "\n",
    "repurposing_col = \"broad_id_20170327\"\n",
    "broad_id_other_dates = [\"20170327\", \"20180516\", \"20180907\", \"20200324\"]"
   ]
  },
  {
   "cell_type": "code",
   "execution_count": 5,
   "metadata": {},
   "outputs": [
    {
     "name": "stdout",
     "output_type": "stream",
     "text": [
      "(1624, 4)\n"
     ]
    },
    {
     "data": {
      "text/html": [
       "<div>\n",
       "<style scoped>\n",
       "    .dataframe tbody tr th:only-of-type {\n",
       "        vertical-align: middle;\n",
       "    }\n",
       "\n",
       "    .dataframe tbody tr th {\n",
       "        vertical-align: top;\n",
       "    }\n",
       "\n",
       "    .dataframe thead th {\n",
       "        text-align: right;\n",
       "    }\n",
       "</style>\n",
       "<table border=\"1\" class=\"dataframe\">\n",
       "  <thead>\n",
       "    <tr style=\"text-align: right;\">\n",
       "      <th></th>\n",
       "      <th>broad_sample</th>\n",
       "      <th>broad_id</th>\n",
       "      <th>plate_map_name</th>\n",
       "      <th>solvent</th>\n",
       "    </tr>\n",
       "  </thead>\n",
       "  <tbody>\n",
       "    <tr>\n",
       "      <th>1</th>\n",
       "      <td>BRD-A62035778-004-03-6</td>\n",
       "      <td>BRD-A62035778</td>\n",
       "      <td>C-7161-01-LM6-018</td>\n",
       "      <td>DMSO</td>\n",
       "    </tr>\n",
       "    <tr>\n",
       "      <th>2</th>\n",
       "      <td>BRD-K62196610-001-01-6</td>\n",
       "      <td>BRD-K62196610</td>\n",
       "      <td>C-7161-01-LM6-018</td>\n",
       "      <td>DMSO</td>\n",
       "    </tr>\n",
       "    <tr>\n",
       "      <th>3</th>\n",
       "      <td>BRD-K62277907-001-01-6</td>\n",
       "      <td>BRD-K62277907</td>\n",
       "      <td>C-7161-01-LM6-018</td>\n",
       "      <td>DMSO</td>\n",
       "    </tr>\n",
       "    <tr>\n",
       "      <th>4</th>\n",
       "      <td>BRD-A62071884-001-04-6</td>\n",
       "      <td>BRD-A62071884</td>\n",
       "      <td>C-7161-01-LM6-018</td>\n",
       "      <td>DMSO</td>\n",
       "    </tr>\n",
       "    <tr>\n",
       "      <th>5</th>\n",
       "      <td>BRD-K62200014-003-10-5</td>\n",
       "      <td>BRD-K62200014</td>\n",
       "      <td>C-7161-01-LM6-018</td>\n",
       "      <td>DMSO</td>\n",
       "    </tr>\n",
       "  </tbody>\n",
       "</table>\n",
       "</div>"
      ],
      "text/plain": [
       "             broad_sample       broad_id     plate_map_name solvent\n",
       "1  BRD-A62035778-004-03-6  BRD-A62035778  C-7161-01-LM6-018    DMSO\n",
       "2  BRD-K62196610-001-01-6  BRD-K62196610  C-7161-01-LM6-018    DMSO\n",
       "3  BRD-K62277907-001-01-6  BRD-K62277907  C-7161-01-LM6-018    DMSO\n",
       "4  BRD-A62071884-001-04-6  BRD-A62071884  C-7161-01-LM6-018    DMSO\n",
       "5  BRD-K62200014-003-10-5  BRD-K62200014  C-7161-01-LM6-018    DMSO"
      ]
     },
     "execution_count": 5,
     "metadata": {},
     "output_type": "execute_result"
    },
    {
     "data": {
      "application/javascript": [
       "\n",
       "            setTimeout(function() {\n",
       "                var nbb_cell_id = 5;\n",
       "                var nbb_unformatted_code = \"# Load platemap data\\nfile = pathlib.PurePath(\\\"../platemaps/broad_sample_info.tsv\\\")\\nall_platemap_df = pd.read_csv(file, sep=\\\"\\\\t\\\").dropna(\\n    subset=[\\\"broad_sample\\\", \\\"broad_id\\\"]\\n)\\n\\nprint(all_platemap_df.shape)\\nall_platemap_df.head()\";\n",
       "                var nbb_formatted_code = \"# Load platemap data\\nfile = pathlib.PurePath(\\\"../platemaps/broad_sample_info.tsv\\\")\\nall_platemap_df = pd.read_csv(file, sep=\\\"\\\\t\\\").dropna(\\n    subset=[\\\"broad_sample\\\", \\\"broad_id\\\"]\\n)\\n\\nprint(all_platemap_df.shape)\\nall_platemap_df.head()\";\n",
       "                var nbb_cells = Jupyter.notebook.get_cells();\n",
       "                for (var i = 0; i < nbb_cells.length; ++i) {\n",
       "                    if (nbb_cells[i].input_prompt_number == nbb_cell_id) {\n",
       "                        if (nbb_cells[i].get_text() == nbb_unformatted_code) {\n",
       "                             nbb_cells[i].set_text(nbb_formatted_code);\n",
       "                        }\n",
       "                        break;\n",
       "                    }\n",
       "                }\n",
       "            }, 500);\n",
       "            "
      ],
      "text/plain": [
       "<IPython.core.display.Javascript object>"
      ]
     },
     "metadata": {},
     "output_type": "display_data"
    }
   ],
   "source": [
    "# Load platemap data\n",
    "file = pathlib.PurePath(\"../platemaps/broad_sample_info.tsv\")\n",
    "all_platemap_df = pd.read_csv(file, sep=\"\\t\").dropna(\n",
    "    subset=[\"broad_sample\", \"broad_id\"]\n",
    ")\n",
    "\n",
    "print(all_platemap_df.shape)\n",
    "all_platemap_df.head()"
   ]
  },
  {
   "cell_type": "code",
   "execution_count": 6,
   "metadata": {},
   "outputs": [
    {
     "data": {
      "text/plain": [
       "1570"
      ]
     },
     "execution_count": 6,
     "metadata": {},
     "output_type": "execute_result"
    },
    {
     "data": {
      "application/javascript": [
       "\n",
       "            setTimeout(function() {\n",
       "                var nbb_cell_id = 6;\n",
       "                var nbb_unformatted_code = \"# How many unique broad IDs?\\nlen(all_platemap_df.broad_id.unique())\";\n",
       "                var nbb_formatted_code = \"# How many unique broad IDs?\\nlen(all_platemap_df.broad_id.unique())\";\n",
       "                var nbb_cells = Jupyter.notebook.get_cells();\n",
       "                for (var i = 0; i < nbb_cells.length; ++i) {\n",
       "                    if (nbb_cells[i].input_prompt_number == nbb_cell_id) {\n",
       "                        if (nbb_cells[i].get_text() == nbb_unformatted_code) {\n",
       "                             nbb_cells[i].set_text(nbb_formatted_code);\n",
       "                        }\n",
       "                        break;\n",
       "                    }\n",
       "                }\n",
       "            }, 500);\n",
       "            "
      ],
      "text/plain": [
       "<IPython.core.display.Javascript object>"
      ]
     },
     "metadata": {},
     "output_type": "display_data"
    }
   ],
   "source": [
    "# How many unique broad IDs?\n",
    "len(all_platemap_df.broad_id.unique())"
   ]
  },
  {
   "cell_type": "code",
   "execution_count": 7,
   "metadata": {},
   "outputs": [
    {
     "name": "stdout",
     "output_type": "stream",
     "text": [
      "(6959, 13)\n"
     ]
    },
    {
     "data": {
      "text/html": [
       "<div>\n",
       "<style scoped>\n",
       "    .dataframe tbody tr th:only-of-type {\n",
       "        vertical-align: middle;\n",
       "    }\n",
       "\n",
       "    .dataframe tbody tr th {\n",
       "        vertical-align: top;\n",
       "    }\n",
       "\n",
       "    .dataframe thead th {\n",
       "        text-align: right;\n",
       "    }\n",
       "</style>\n",
       "<table border=\"1\" class=\"dataframe\">\n",
       "  <thead>\n",
       "    <tr style=\"text-align: right;\">\n",
       "      <th></th>\n",
       "      <th>InChIKey14</th>\n",
       "      <th>broad_id_20170327</th>\n",
       "      <th>deprecated_broad_id_20170327</th>\n",
       "      <th>pert_iname_20170327</th>\n",
       "      <th>broad_id_20180516</th>\n",
       "      <th>deprecated_broad_id_20180516</th>\n",
       "      <th>pert_iname_20180516</th>\n",
       "      <th>broad_id_20180907</th>\n",
       "      <th>deprecated_broad_id_20180907</th>\n",
       "      <th>pert_iname_20180907</th>\n",
       "      <th>broad_id_20200324</th>\n",
       "      <th>deprecated_broad_id_20200324</th>\n",
       "      <th>pert_iname_20200324</th>\n",
       "    </tr>\n",
       "  </thead>\n",
       "  <tbody>\n",
       "    <tr>\n",
       "      <th>0</th>\n",
       "      <td>AAALVYBICLMAMA</td>\n",
       "      <td>BRD-K13087974</td>\n",
       "      <td>NaN</td>\n",
       "      <td>CGP-52411</td>\n",
       "      <td>BRD-K13087974</td>\n",
       "      <td>NaN</td>\n",
       "      <td>CGP-52411</td>\n",
       "      <td>BRD-K13087974</td>\n",
       "      <td>NaN</td>\n",
       "      <td>CGP-52411</td>\n",
       "      <td>BRD-K13087974</td>\n",
       "      <td>NaN</td>\n",
       "      <td>CGP-52411</td>\n",
       "    </tr>\n",
       "    <tr>\n",
       "      <th>1</th>\n",
       "      <td>AAAQFGUYHFJNHI</td>\n",
       "      <td>BRD-K08109215</td>\n",
       "      <td>NaN</td>\n",
       "      <td>I-BET-762</td>\n",
       "      <td>BRD-K08109215</td>\n",
       "      <td>NaN</td>\n",
       "      <td>I-BET-762</td>\n",
       "      <td>BRD-K08109215</td>\n",
       "      <td>NaN</td>\n",
       "      <td>I-BET-762</td>\n",
       "      <td>BRD-K08109215</td>\n",
       "      <td>NaN</td>\n",
       "      <td>I-BET-762</td>\n",
       "    </tr>\n",
       "    <tr>\n",
       "      <th>2</th>\n",
       "      <td>AADCDMQTJNYOSS</td>\n",
       "      <td>BRD-K50417881</td>\n",
       "      <td>NaN</td>\n",
       "      <td>eticlopride</td>\n",
       "      <td>BRD-K50417881</td>\n",
       "      <td>NaN</td>\n",
       "      <td>eticlopride</td>\n",
       "      <td>BRD-K50417881</td>\n",
       "      <td>NaN</td>\n",
       "      <td>eticlopride</td>\n",
       "      <td>BRD-K50417881</td>\n",
       "      <td>NaN</td>\n",
       "      <td>eticlopride</td>\n",
       "    </tr>\n",
       "    <tr>\n",
       "      <th>3</th>\n",
       "      <td>AAFJXZWCNVJTMK</td>\n",
       "      <td>BRD-K68502831</td>\n",
       "      <td>NaN</td>\n",
       "      <td>dianhydrogalactitol</td>\n",
       "      <td>BRD-K68502831</td>\n",
       "      <td>NaN</td>\n",
       "      <td>dianhydrogalactitol</td>\n",
       "      <td>BRD-K68502831</td>\n",
       "      <td>NaN</td>\n",
       "      <td>dianhydrogalactitol</td>\n",
       "      <td>BRD-K68502831</td>\n",
       "      <td>NaN</td>\n",
       "      <td>dianhydrogalactitol</td>\n",
       "    </tr>\n",
       "    <tr>\n",
       "      <th>4</th>\n",
       "      <td>AAGFPTSOPGCENQ</td>\n",
       "      <td>BRD-K10999968|BRD-K66845263</td>\n",
       "      <td>NaN</td>\n",
       "      <td>sophocarpine</td>\n",
       "      <td>BRD-K10999968|BRD-K66845263</td>\n",
       "      <td>NaN</td>\n",
       "      <td>sophocarpine</td>\n",
       "      <td>BRD-K66845263</td>\n",
       "      <td>BRD-K10999968</td>\n",
       "      <td>sophocarpine</td>\n",
       "      <td>BRD-K66845263</td>\n",
       "      <td>BRD-K10999968</td>\n",
       "      <td>sophocarpine</td>\n",
       "    </tr>\n",
       "  </tbody>\n",
       "</table>\n",
       "</div>"
      ],
      "text/plain": [
       "       InChIKey14            broad_id_20170327  deprecated_broad_id_20170327  \\\n",
       "0  AAALVYBICLMAMA                BRD-K13087974                           NaN   \n",
       "1  AAAQFGUYHFJNHI                BRD-K08109215                           NaN   \n",
       "2  AADCDMQTJNYOSS                BRD-K50417881                           NaN   \n",
       "3  AAFJXZWCNVJTMK                BRD-K68502831                           NaN   \n",
       "4  AAGFPTSOPGCENQ  BRD-K10999968|BRD-K66845263                           NaN   \n",
       "\n",
       "   pert_iname_20170327            broad_id_20180516  \\\n",
       "0            CGP-52411                BRD-K13087974   \n",
       "1            I-BET-762                BRD-K08109215   \n",
       "2          eticlopride                BRD-K50417881   \n",
       "3  dianhydrogalactitol                BRD-K68502831   \n",
       "4         sophocarpine  BRD-K10999968|BRD-K66845263   \n",
       "\n",
       "  deprecated_broad_id_20180516  pert_iname_20180516 broad_id_20180907  \\\n",
       "0                          NaN            CGP-52411     BRD-K13087974   \n",
       "1                          NaN            I-BET-762     BRD-K08109215   \n",
       "2                          NaN          eticlopride     BRD-K50417881   \n",
       "3                          NaN  dianhydrogalactitol     BRD-K68502831   \n",
       "4                          NaN         sophocarpine     BRD-K66845263   \n",
       "\n",
       "  deprecated_broad_id_20180907  pert_iname_20180907 broad_id_20200324  \\\n",
       "0                          NaN            CGP-52411     BRD-K13087974   \n",
       "1                          NaN            I-BET-762     BRD-K08109215   \n",
       "2                          NaN          eticlopride     BRD-K50417881   \n",
       "3                          NaN  dianhydrogalactitol     BRD-K68502831   \n",
       "4                BRD-K10999968         sophocarpine     BRD-K66845263   \n",
       "\n",
       "  deprecated_broad_id_20200324  pert_iname_20200324  \n",
       "0                          NaN            CGP-52411  \n",
       "1                          NaN            I-BET-762  \n",
       "2                          NaN          eticlopride  \n",
       "3                          NaN  dianhydrogalactitol  \n",
       "4                BRD-K10999968         sophocarpine  "
      ]
     },
     "execution_count": 7,
     "metadata": {},
     "output_type": "execute_result"
    },
    {
     "data": {
      "application/javascript": [
       "\n",
       "            setTimeout(function() {\n",
       "                var nbb_cell_id = 7;\n",
       "                var nbb_unformatted_code = \"# Load MOA map\\nmap_file = pathlib.PurePath(\\\"clue/broad_id_map.csv\\\")\\nmap_df = pd.read_csv(map_file)\\n\\nprint(map_df.shape)\\nmap_df.head()\";\n",
       "                var nbb_formatted_code = \"# Load MOA map\\nmap_file = pathlib.PurePath(\\\"clue/broad_id_map.csv\\\")\\nmap_df = pd.read_csv(map_file)\\n\\nprint(map_df.shape)\\nmap_df.head()\";\n",
       "                var nbb_cells = Jupyter.notebook.get_cells();\n",
       "                for (var i = 0; i < nbb_cells.length; ++i) {\n",
       "                    if (nbb_cells[i].input_prompt_number == nbb_cell_id) {\n",
       "                        if (nbb_cells[i].get_text() == nbb_unformatted_code) {\n",
       "                             nbb_cells[i].set_text(nbb_formatted_code);\n",
       "                        }\n",
       "                        break;\n",
       "                    }\n",
       "                }\n",
       "            }, 500);\n",
       "            "
      ],
      "text/plain": [
       "<IPython.core.display.Javascript object>"
      ]
     },
     "metadata": {},
     "output_type": "display_data"
    }
   ],
   "source": [
    "# Load MOA map\n",
    "map_file = pathlib.PurePath(\"clue/broad_id_map.csv\")\n",
    "map_df = pd.read_csv(map_file)\n",
    "\n",
    "print(map_df.shape)\n",
    "map_df.head()"
   ]
  },
  {
   "cell_type": "code",
   "execution_count": 8,
   "metadata": {},
   "outputs": [
    {
     "name": "stdout",
     "output_type": "stream",
     "text": [
      "(8481, 3)\n"
     ]
    },
    {
     "data": {
      "text/html": [
       "<div>\n",
       "<style scoped>\n",
       "    .dataframe tbody tr th:only-of-type {\n",
       "        vertical-align: middle;\n",
       "    }\n",
       "\n",
       "    .dataframe tbody tr th {\n",
       "        vertical-align: top;\n",
       "    }\n",
       "\n",
       "    .dataframe thead th {\n",
       "        text-align: right;\n",
       "    }\n",
       "</style>\n",
       "<table border=\"1\" class=\"dataframe\">\n",
       "  <thead>\n",
       "    <tr style=\"text-align: right;\">\n",
       "      <th></th>\n",
       "      <th>InChIKey14</th>\n",
       "      <th>broad_id_unique</th>\n",
       "      <th>broad_date</th>\n",
       "    </tr>\n",
       "  </thead>\n",
       "  <tbody>\n",
       "    <tr>\n",
       "      <th>0</th>\n",
       "      <td>AAALVYBICLMAMA</td>\n",
       "      <td>BRD-K13087974</td>\n",
       "      <td>broad_id_20170327</td>\n",
       "    </tr>\n",
       "    <tr>\n",
       "      <th>1</th>\n",
       "      <td>AAAQFGUYHFJNHI</td>\n",
       "      <td>BRD-K08109215</td>\n",
       "      <td>broad_id_20170327</td>\n",
       "    </tr>\n",
       "    <tr>\n",
       "      <th>2</th>\n",
       "      <td>AADCDMQTJNYOSS</td>\n",
       "      <td>BRD-K50417881</td>\n",
       "      <td>broad_id_20170327</td>\n",
       "    </tr>\n",
       "    <tr>\n",
       "      <th>3</th>\n",
       "      <td>AAFJXZWCNVJTMK</td>\n",
       "      <td>BRD-K68502831</td>\n",
       "      <td>broad_id_20170327</td>\n",
       "    </tr>\n",
       "    <tr>\n",
       "      <th>4</th>\n",
       "      <td>AAGFPTSOPGCENQ</td>\n",
       "      <td>BRD-K10999968</td>\n",
       "      <td>broad_id_20170327</td>\n",
       "    </tr>\n",
       "  </tbody>\n",
       "</table>\n",
       "</div>"
      ],
      "text/plain": [
       "       InChIKey14 broad_id_unique         broad_date\n",
       "0  AAALVYBICLMAMA   BRD-K13087974  broad_id_20170327\n",
       "1  AAAQFGUYHFJNHI   BRD-K08109215  broad_id_20170327\n",
       "2  AADCDMQTJNYOSS   BRD-K50417881  broad_id_20170327\n",
       "3  AAFJXZWCNVJTMK   BRD-K68502831  broad_id_20170327\n",
       "4  AAGFPTSOPGCENQ   BRD-K10999968  broad_id_20170327"
      ]
     },
     "execution_count": 8,
     "metadata": {},
     "output_type": "execute_result"
    },
    {
     "data": {
      "application/javascript": [
       "\n",
       "            setTimeout(function() {\n",
       "                var nbb_cell_id = 8;\n",
       "                var nbb_unformatted_code = \"# Create MOA map long mapping every Broad ID to InChIKey14\\nall_broad_map = []\\nfor date in broad_id_other_dates:\\n    broad_id_col = f\\\"broad_id_{date}\\\"\\n    deprecated_broad_id_col = f\\\"deprecated_broad_id_{date}\\\"\\n\\n    select_cols = [mapping_col, broad_id_col, deprecated_broad_id_col]\\n    map_subset_df = map_df.loc[:, select_cols]\\n\\n    broad_long_df = split_pipe_broad_id(map_subset_df, broad_id_col)\\n    all_broad_map.append(broad_long_df)\\n\\n    if date != \\\"20170327\\\":\\n        deprecated_broad_long_df = split_pipe_broad_id(\\n            map_subset_df, deprecated_broad_id_col\\n        )\\n        all_broad_map.append(deprecated_broad_long_df)\\n\\n# Combine full broad_id map\\nall_broad_map = (\\n    pd.concat(all_broad_map)\\n    # This step drops InChIKeys and Broad_ID combos that exist in multiple dates\\n    .drop_duplicates(subset=[mapping_col, \\\"broad_id_unique\\\"]).reset_index(drop=True)\\n)\\n\\nprint(all_broad_map.shape)\\nall_broad_map.head()\";\n",
       "                var nbb_formatted_code = \"# Create MOA map long mapping every Broad ID to InChIKey14\\nall_broad_map = []\\nfor date in broad_id_other_dates:\\n    broad_id_col = f\\\"broad_id_{date}\\\"\\n    deprecated_broad_id_col = f\\\"deprecated_broad_id_{date}\\\"\\n\\n    select_cols = [mapping_col, broad_id_col, deprecated_broad_id_col]\\n    map_subset_df = map_df.loc[:, select_cols]\\n\\n    broad_long_df = split_pipe_broad_id(map_subset_df, broad_id_col)\\n    all_broad_map.append(broad_long_df)\\n\\n    if date != \\\"20170327\\\":\\n        deprecated_broad_long_df = split_pipe_broad_id(\\n            map_subset_df, deprecated_broad_id_col\\n        )\\n        all_broad_map.append(deprecated_broad_long_df)\\n\\n# Combine full broad_id map\\nall_broad_map = (\\n    pd.concat(all_broad_map)\\n    # This step drops InChIKeys and Broad_ID combos that exist in multiple dates\\n    .drop_duplicates(subset=[mapping_col, \\\"broad_id_unique\\\"]).reset_index(drop=True)\\n)\\n\\nprint(all_broad_map.shape)\\nall_broad_map.head()\";\n",
       "                var nbb_cells = Jupyter.notebook.get_cells();\n",
       "                for (var i = 0; i < nbb_cells.length; ++i) {\n",
       "                    if (nbb_cells[i].input_prompt_number == nbb_cell_id) {\n",
       "                        if (nbb_cells[i].get_text() == nbb_unformatted_code) {\n",
       "                             nbb_cells[i].set_text(nbb_formatted_code);\n",
       "                        }\n",
       "                        break;\n",
       "                    }\n",
       "                }\n",
       "            }, 500);\n",
       "            "
      ],
      "text/plain": [
       "<IPython.core.display.Javascript object>"
      ]
     },
     "metadata": {},
     "output_type": "display_data"
    }
   ],
   "source": [
    "# Create MOA map long mapping every Broad ID to InChIKey14\n",
    "all_broad_map = []\n",
    "for date in broad_id_other_dates:\n",
    "    broad_id_col = f\"broad_id_{date}\"\n",
    "    deprecated_broad_id_col = f\"deprecated_broad_id_{date}\"\n",
    "\n",
    "    select_cols = [mapping_col, broad_id_col, deprecated_broad_id_col]\n",
    "    map_subset_df = map_df.loc[:, select_cols]\n",
    "\n",
    "    broad_long_df = split_pipe_broad_id(map_subset_df, broad_id_col)\n",
    "    all_broad_map.append(broad_long_df)\n",
    "\n",
    "    if date != \"20170327\":\n",
    "        deprecated_broad_long_df = split_pipe_broad_id(\n",
    "            map_subset_df, deprecated_broad_id_col\n",
    "        )\n",
    "        all_broad_map.append(deprecated_broad_long_df)\n",
    "\n",
    "# Combine full broad_id map\n",
    "all_broad_map = (\n",
    "    pd.concat(all_broad_map)\n",
    "    # This step drops InChIKeys and Broad_ID combos that exist in multiple dates\n",
    "    .drop_duplicates(subset=[mapping_col, \"broad_id_unique\"]).reset_index(drop=True)\n",
    ")\n",
    "\n",
    "print(all_broad_map.shape)\n",
    "all_broad_map.head()"
   ]
  },
  {
   "cell_type": "code",
   "execution_count": 9,
   "metadata": {},
   "outputs": [
    {
     "data": {
      "text/plain": [
       "<matplotlib.axes._subplots.AxesSubplot at 0x11fc641d0>"
      ]
     },
     "execution_count": 9,
     "metadata": {},
     "output_type": "execute_result"
    },
    {
     "data": {
      "image/png": "[encoded data removed]",
      "text/plain": [
       "<Figure size 432x288 with 1 Axes>"
      ]
     },
     "metadata": {
      "needs_background": "light"
     },
     "output_type": "display_data"
    },
    {
     "data": {
      "application/javascript": [
       "\n",
       "            setTimeout(function() {\n",
       "                var nbb_cell_id = 9;\n",
       "                var nbb_unformatted_code = \"# Are there Duplicate InChIKey14s?\\ninchi_counts = all_broad_map.loc[:, mapping_col].squeeze().value_counts()\\ninchi_counts.hist()\";\n",
       "                var nbb_formatted_code = \"# Are there Duplicate InChIKey14s?\\ninchi_counts = all_broad_map.loc[:, mapping_col].squeeze().value_counts()\\ninchi_counts.hist()\";\n",
       "                var nbb_cells = Jupyter.notebook.get_cells();\n",
       "                for (var i = 0; i < nbb_cells.length; ++i) {\n",
       "                    if (nbb_cells[i].input_prompt_number == nbb_cell_id) {\n",
       "                        if (nbb_cells[i].get_text() == nbb_unformatted_code) {\n",
       "                             nbb_cells[i].set_text(nbb_formatted_code);\n",
       "                        }\n",
       "                        break;\n",
       "                    }\n",
       "                }\n",
       "            }, 500);\n",
       "            "
      ],
      "text/plain": [
       "<IPython.core.display.Javascript object>"
      ]
     },
     "metadata": {},
     "output_type": "display_data"
    }
   ],
   "source": [
    "# Are there Duplicate InChIKey14s?\n",
    "inchi_counts = all_broad_map.loc[:, mapping_col].squeeze().value_counts()\n",
    "inchi_counts.hist()"
   ]
  },
  {
   "cell_type": "code",
   "execution_count": 10,
   "metadata": {},
   "outputs": [
    {
     "data": {
      "text/html": [
       "<div>\n",
       "<style scoped>\n",
       "    .dataframe tbody tr th:only-of-type {\n",
       "        vertical-align: middle;\n",
       "    }\n",
       "\n",
       "    .dataframe tbody tr th {\n",
       "        vertical-align: top;\n",
       "    }\n",
       "\n",
       "    .dataframe thead th {\n",
       "        text-align: right;\n",
       "    }\n",
       "</style>\n",
       "<table border=\"1\" class=\"dataframe\">\n",
       "  <thead>\n",
       "    <tr style=\"text-align: right;\">\n",
       "      <th></th>\n",
       "      <th>InChIKey14</th>\n",
       "      <th>broad_id_unique</th>\n",
       "      <th>broad_date</th>\n",
       "    </tr>\n",
       "  </thead>\n",
       "  <tbody>\n",
       "    <tr>\n",
       "      <th>4864</th>\n",
       "      <td>UREBDLICKHMUKA</td>\n",
       "      <td>BRD-A02180903</td>\n",
       "      <td>broad_id_20170327</td>\n",
       "    </tr>\n",
       "    <tr>\n",
       "      <th>4865</th>\n",
       "      <td>UREBDLICKHMUKA</td>\n",
       "      <td>BRD-A10188456</td>\n",
       "      <td>broad_id_20170327</td>\n",
       "    </tr>\n",
       "    <tr>\n",
       "      <th>4866</th>\n",
       "      <td>UREBDLICKHMUKA</td>\n",
       "      <td>BRD-A27572786</td>\n",
       "      <td>broad_id_20170327</td>\n",
       "    </tr>\n",
       "    <tr>\n",
       "      <th>4867</th>\n",
       "      <td>UREBDLICKHMUKA</td>\n",
       "      <td>BRD-K12955147</td>\n",
       "      <td>broad_id_20170327</td>\n",
       "    </tr>\n",
       "    <tr>\n",
       "      <th>4868</th>\n",
       "      <td>UREBDLICKHMUKA</td>\n",
       "      <td>BRD-K45192137</td>\n",
       "      <td>broad_id_20170327</td>\n",
       "    </tr>\n",
       "    <tr>\n",
       "      <th>6839</th>\n",
       "      <td>UREBDLICKHMUKA</td>\n",
       "      <td>BRD-K38775274</td>\n",
       "      <td>broad_id_20180907</td>\n",
       "    </tr>\n",
       "    <tr>\n",
       "      <th>7467</th>\n",
       "      <td>UREBDLICKHMUKA</td>\n",
       "      <td>BRD-K39188321</td>\n",
       "      <td>broad_id_20200324</td>\n",
       "    </tr>\n",
       "  </tbody>\n",
       "</table>\n",
       "</div>"
      ],
      "text/plain": [
       "          InChIKey14 broad_id_unique         broad_date\n",
       "4864  UREBDLICKHMUKA   BRD-A02180903  broad_id_20170327\n",
       "4865  UREBDLICKHMUKA   BRD-A10188456  broad_id_20170327\n",
       "4866  UREBDLICKHMUKA   BRD-A27572786  broad_id_20170327\n",
       "4867  UREBDLICKHMUKA   BRD-K12955147  broad_id_20170327\n",
       "4868  UREBDLICKHMUKA   BRD-K45192137  broad_id_20170327\n",
       "6839  UREBDLICKHMUKA   BRD-K38775274  broad_id_20180907\n",
       "7467  UREBDLICKHMUKA   BRD-K39188321  broad_id_20200324"
      ]
     },
     "execution_count": 10,
     "metadata": {},
     "output_type": "execute_result"
    },
    {
     "data": {
      "application/javascript": [
       "\n",
       "            setTimeout(function() {\n",
       "                var nbb_cell_id = 10;\n",
       "                var nbb_unformatted_code = \"# Show an example of the most egregious multi-mapping InChiKey14\\nall_broad_map.loc[all_broad_map.loc[:, mapping_col] == inchi_counts.index[0], :]\";\n",
       "                var nbb_formatted_code = \"# Show an example of the most egregious multi-mapping InChiKey14\\nall_broad_map.loc[all_broad_map.loc[:, mapping_col] == inchi_counts.index[0], :]\";\n",
       "                var nbb_cells = Jupyter.notebook.get_cells();\n",
       "                for (var i = 0; i < nbb_cells.length; ++i) {\n",
       "                    if (nbb_cells[i].input_prompt_number == nbb_cell_id) {\n",
       "                        if (nbb_cells[i].get_text() == nbb_unformatted_code) {\n",
       "                             nbb_cells[i].set_text(nbb_formatted_code);\n",
       "                        }\n",
       "                        break;\n",
       "                    }\n",
       "                }\n",
       "            }, 500);\n",
       "            "
      ],
      "text/plain": [
       "<IPython.core.display.Javascript object>"
      ]
     },
     "metadata": {},
     "output_type": "display_data"
    }
   ],
   "source": [
    "# Show an example of the most egregious multi-mapping InChiKey14\n",
    "all_broad_map.loc[all_broad_map.loc[:, mapping_col] == inchi_counts.index[0], :]"
   ]
  },
  {
   "cell_type": "markdown",
   "metadata": {},
   "source": [
    "## Step 2: Perform the Merge with the Platemap Data\n",
    "\n",
    "This step identifies the InChIKey14 map for the Cell Painting Repurposing Hub Data Subset."
   ]
  },
  {
   "cell_type": "code",
   "execution_count": 11,
   "metadata": {},
   "outputs": [
    {
     "name": "stdout",
     "output_type": "stream",
     "text": [
      "(1583, 4)\n"
     ]
    },
    {
     "data": {
      "text/html": [
       "<div>\n",
       "<style scoped>\n",
       "    .dataframe tbody tr th:only-of-type {\n",
       "        vertical-align: middle;\n",
       "    }\n",
       "\n",
       "    .dataframe tbody tr th {\n",
       "        vertical-align: top;\n",
       "    }\n",
       "\n",
       "    .dataframe thead th {\n",
       "        text-align: right;\n",
       "    }\n",
       "</style>\n",
       "<table border=\"1\" class=\"dataframe\">\n",
       "  <thead>\n",
       "    <tr style=\"text-align: right;\">\n",
       "      <th></th>\n",
       "      <th>broad_sample</th>\n",
       "      <th>broad_id</th>\n",
       "      <th>InChIKey14</th>\n",
       "      <th>broad_date</th>\n",
       "    </tr>\n",
       "  </thead>\n",
       "  <tbody>\n",
       "    <tr>\n",
       "      <th>0</th>\n",
       "      <td>BRD-A62035778-004-03-6</td>\n",
       "      <td>BRD-A62035778</td>\n",
       "      <td>STECJAGHUSJQJN</td>\n",
       "      <td>broad_id_20170327</td>\n",
       "    </tr>\n",
       "    <tr>\n",
       "      <th>1</th>\n",
       "      <td>BRD-K62196610-001-01-6</td>\n",
       "      <td>BRD-K62196610</td>\n",
       "      <td>GYCPCOJTCINIFZ</td>\n",
       "      <td>broad_id_20170327</td>\n",
       "    </tr>\n",
       "    <tr>\n",
       "      <th>2</th>\n",
       "      <td>BRD-K62277907-001-01-6</td>\n",
       "      <td>BRD-K62277907</td>\n",
       "      <td>GMBQZIIUCVWOCD</td>\n",
       "      <td>broad_id_20170327</td>\n",
       "    </tr>\n",
       "    <tr>\n",
       "      <th>3</th>\n",
       "      <td>BRD-A62071884-001-04-6</td>\n",
       "      <td>BRD-A62071884</td>\n",
       "      <td>NUHPODZZKHQQET</td>\n",
       "      <td>broad_id_20170327</td>\n",
       "    </tr>\n",
       "    <tr>\n",
       "      <th>4</th>\n",
       "      <td>BRD-K62200014-003-10-5</td>\n",
       "      <td>BRD-K62200014</td>\n",
       "      <td>OTBXOEAOVRKTNQ</td>\n",
       "      <td>broad_id_20170327</td>\n",
       "    </tr>\n",
       "  </tbody>\n",
       "</table>\n",
       "</div>"
      ],
      "text/plain": [
       "             broad_sample       broad_id      InChIKey14         broad_date\n",
       "0  BRD-A62035778-004-03-6  BRD-A62035778  STECJAGHUSJQJN  broad_id_20170327\n",
       "1  BRD-K62196610-001-01-6  BRD-K62196610  GYCPCOJTCINIFZ  broad_id_20170327\n",
       "2  BRD-K62277907-001-01-6  BRD-K62277907  GMBQZIIUCVWOCD  broad_id_20170327\n",
       "3  BRD-A62071884-001-04-6  BRD-A62071884  NUHPODZZKHQQET  broad_id_20170327\n",
       "4  BRD-K62200014-003-10-5  BRD-K62200014  OTBXOEAOVRKTNQ  broad_id_20170327"
      ]
     },
     "execution_count": 11,
     "metadata": {},
     "output_type": "execute_result"
    },
    {
     "data": {
      "application/javascript": [
       "\n",
       "            setTimeout(function() {\n",
       "                var nbb_cell_id = 11;\n",
       "                var nbb_unformatted_code = \"merged_platemap_df = (\\n    all_platemap_df.merge(\\n        all_broad_map, left_on=\\\"broad_id\\\", right_on=\\\"broad_id_unique\\\", how=\\\"left\\\"\\n    )\\n    # We don't care about plate info here\\n    .drop_duplicates(subset=[\\\"broad_id\\\", mapping_col]).loc[\\n        :, [\\\"broad_sample\\\", \\\"broad_id\\\", mapping_col, \\\"broad_date\\\"]\\n    ]\\n    # Drop DMSO\\n    .dropna(subset=[\\\"broad_sample\\\"])\\n)\\n\\nprint(merged_platemap_df.shape)\\nmerged_platemap_df.head()\";\n",
       "                var nbb_formatted_code = \"merged_platemap_df = (\\n    all_platemap_df.merge(\\n        all_broad_map, left_on=\\\"broad_id\\\", right_on=\\\"broad_id_unique\\\", how=\\\"left\\\"\\n    )\\n    # We don't care about plate info here\\n    .drop_duplicates(subset=[\\\"broad_id\\\", mapping_col]).loc[\\n        :, [\\\"broad_sample\\\", \\\"broad_id\\\", mapping_col, \\\"broad_date\\\"]\\n    ]\\n    # Drop DMSO\\n    .dropna(subset=[\\\"broad_sample\\\"])\\n)\\n\\nprint(merged_platemap_df.shape)\\nmerged_platemap_df.head()\";\n",
       "                var nbb_cells = Jupyter.notebook.get_cells();\n",
       "                for (var i = 0; i < nbb_cells.length; ++i) {\n",
       "                    if (nbb_cells[i].input_prompt_number == nbb_cell_id) {\n",
       "                        if (nbb_cells[i].get_text() == nbb_unformatted_code) {\n",
       "                             nbb_cells[i].set_text(nbb_formatted_code);\n",
       "                        }\n",
       "                        break;\n",
       "                    }\n",
       "                }\n",
       "            }, 500);\n",
       "            "
      ],
      "text/plain": [
       "<IPython.core.display.Javascript object>"
      ]
     },
     "metadata": {},
     "output_type": "display_data"
    }
   ],
   "source": [
    "merged_platemap_df = (\n",
    "    all_platemap_df.merge(\n",
    "        all_broad_map, left_on=\"broad_id\", right_on=\"broad_id_unique\", how=\"left\"\n",
    "    )\n",
    "    # We don't care about plate info here\n",
    "    .drop_duplicates(subset=[\"broad_id\", mapping_col]).loc[\n",
    "        :, [\"broad_sample\", \"broad_id\", mapping_col, \"broad_date\"]\n",
    "    ]\n",
    "    # Drop DMSO\n",
    "    .dropna(subset=[\"broad_sample\"])\n",
    ")\n",
    "\n",
    "print(merged_platemap_df.shape)\n",
    "merged_platemap_df.head()"
   ]
  },
  {
   "cell_type": "code",
   "execution_count": 12,
   "metadata": {},
   "outputs": [
    {
     "data": {
      "text/plain": [
       "<matplotlib.axes._subplots.AxesSubplot at 0x10c290b90>"
      ]
     },
     "execution_count": 12,
     "metadata": {},
     "output_type": "execute_result"
    },
    {
     "data": {
      "image/png": "[encoded data removed]",
      "text/plain": [
       "<Figure size 432x288 with 1 Axes>"
      ]
     },
     "metadata": {
      "needs_background": "light"
     },
     "output_type": "display_data"
    },
    {
     "data": {
      "application/javascript": [
       "\n",
       "            setTimeout(function() {\n",
       "                var nbb_cell_id = 12;\n",
       "                var nbb_unformatted_code = \"# Are there Duplicate Broad IDs\\nbroad_id_counts = merged_platemap_df.broad_id.value_counts()\\nbroad_id_counts.hist()\";\n",
       "                var nbb_formatted_code = \"# Are there Duplicate Broad IDs\\nbroad_id_counts = merged_platemap_df.broad_id.value_counts()\\nbroad_id_counts.hist()\";\n",
       "                var nbb_cells = Jupyter.notebook.get_cells();\n",
       "                for (var i = 0; i < nbb_cells.length; ++i) {\n",
       "                    if (nbb_cells[i].input_prompt_number == nbb_cell_id) {\n",
       "                        if (nbb_cells[i].get_text() == nbb_unformatted_code) {\n",
       "                             nbb_cells[i].set_text(nbb_formatted_code);\n",
       "                        }\n",
       "                        break;\n",
       "                    }\n",
       "                }\n",
       "            }, 500);\n",
       "            "
      ],
      "text/plain": [
       "<IPython.core.display.Javascript object>"
      ]
     },
     "metadata": {},
     "output_type": "display_data"
    }
   ],
   "source": [
    "# Are there Duplicate Broad IDs\n",
    "broad_id_counts = merged_platemap_df.broad_id.value_counts()\n",
    "broad_id_counts.hist()"
   ]
  },
  {
   "cell_type": "code",
   "execution_count": 13,
   "metadata": {},
   "outputs": [
    {
     "data": {
      "text/html": [
       "<div>\n",
       "<style scoped>\n",
       "    .dataframe tbody tr th:only-of-type {\n",
       "        vertical-align: middle;\n",
       "    }\n",
       "\n",
       "    .dataframe tbody tr th {\n",
       "        vertical-align: top;\n",
       "    }\n",
       "\n",
       "    .dataframe thead th {\n",
       "        text-align: right;\n",
       "    }\n",
       "</style>\n",
       "<table border=\"1\" class=\"dataframe\">\n",
       "  <thead>\n",
       "    <tr style=\"text-align: right;\">\n",
       "      <th></th>\n",
       "      <th>broad_sample</th>\n",
       "      <th>broad_id</th>\n",
       "      <th>InChIKey14</th>\n",
       "      <th>broad_date</th>\n",
       "    </tr>\n",
       "  </thead>\n",
       "  <tbody>\n",
       "    <tr>\n",
       "      <th>9</th>\n",
       "      <td>BRD-K50691590-001-02-2</td>\n",
       "      <td>BRD-K50691590</td>\n",
       "      <td>RFGAQTOFZHCFHG</td>\n",
       "      <td>broad_id_20170327</td>\n",
       "    </tr>\n",
       "    <tr>\n",
       "      <th>10</th>\n",
       "      <td>BRD-K50691590-001-02-2</td>\n",
       "      <td>BRD-K50691590</td>\n",
       "      <td>GXJABQQUPOEUTA</td>\n",
       "      <td>deprecated_broad_id_20180907</td>\n",
       "    </tr>\n",
       "    <tr>\n",
       "      <th>134</th>\n",
       "      <td>BRD-K98733875-001-01-4</td>\n",
       "      <td>BRD-K98733875</td>\n",
       "      <td>IKIIZLYTISPENI</td>\n",
       "      <td>broad_id_20170327</td>\n",
       "    </tr>\n",
       "    <tr>\n",
       "      <th>135</th>\n",
       "      <td>BRD-K98733875-001-01-4</td>\n",
       "      <td>BRD-K98733875</td>\n",
       "      <td>DAIGSUHCWOZEQG</td>\n",
       "      <td>deprecated_broad_id_20200324</td>\n",
       "    </tr>\n",
       "    <tr>\n",
       "      <th>361</th>\n",
       "      <td>BRD-K68103045-001-02-9</td>\n",
       "      <td>BRD-K68103045</td>\n",
       "      <td>XRUUVUYJUULCBQ</td>\n",
       "      <td>broad_id_20170327</td>\n",
       "    </tr>\n",
       "    <tr>\n",
       "      <th>362</th>\n",
       "      <td>BRD-K68103045-001-02-9</td>\n",
       "      <td>BRD-K68103045</td>\n",
       "      <td>UBLXQFIFWUEVGJ</td>\n",
       "      <td>broad_id_20200324</td>\n",
       "    </tr>\n",
       "    <tr>\n",
       "      <th>471</th>\n",
       "      <td>BRD-K72922393-003-15-2</td>\n",
       "      <td>BRD-K72922393</td>\n",
       "      <td>FKDHHVKWGRFRTG</td>\n",
       "      <td>broad_id_20170327</td>\n",
       "    </tr>\n",
       "    <tr>\n",
       "      <th>472</th>\n",
       "      <td>BRD-K72922393-003-15-2</td>\n",
       "      <td>BRD-K72922393</td>\n",
       "      <td>XZYRDNUZENBYFI</td>\n",
       "      <td>deprecated_broad_id_20180907</td>\n",
       "    </tr>\n",
       "    <tr>\n",
       "      <th>542</th>\n",
       "      <td>BRD-K28936863-051-33-0</td>\n",
       "      <td>BRD-K28936863</td>\n",
       "      <td>ZCVMWBYGMWKGHF</td>\n",
       "      <td>broad_id_20170327</td>\n",
       "    </tr>\n",
       "    <tr>\n",
       "      <th>543</th>\n",
       "      <td>BRD-K28936863-051-33-0</td>\n",
       "      <td>BRD-K28936863</td>\n",
       "      <td>OVJRNFMIYGGLDL</td>\n",
       "      <td>broad_id_20200324</td>\n",
       "    </tr>\n",
       "    <tr>\n",
       "      <th>596</th>\n",
       "      <td>BRD-K63712959-001-01-8</td>\n",
       "      <td>BRD-K63712959</td>\n",
       "      <td>LYPFDBRUNKHDGX</td>\n",
       "      <td>broad_id_20170327</td>\n",
       "    </tr>\n",
       "    <tr>\n",
       "      <th>597</th>\n",
       "      <td>BRD-K63712959-001-01-8</td>\n",
       "      <td>BRD-K63712959</td>\n",
       "      <td>JGLSWAGTNWZKQU</td>\n",
       "      <td>broad_id_20200324</td>\n",
       "    </tr>\n",
       "    <tr>\n",
       "      <th>686</th>\n",
       "      <td>BRD-K45152786-001-08-4</td>\n",
       "      <td>BRD-K45152786</td>\n",
       "      <td>JARCFMKMOFFIGZ</td>\n",
       "      <td>broad_id_20170327</td>\n",
       "    </tr>\n",
       "    <tr>\n",
       "      <th>687</th>\n",
       "      <td>BRD-K45152786-001-08-4</td>\n",
       "      <td>BRD-K45152786</td>\n",
       "      <td>GFYRZTLCYQQVHZ</td>\n",
       "      <td>broad_id_20200324</td>\n",
       "    </tr>\n",
       "    <tr>\n",
       "      <th>785</th>\n",
       "      <td>BRD-A08545410-311-01-8</td>\n",
       "      <td>BRD-A08545410</td>\n",
       "      <td>VXVNYCRICCVPTD</td>\n",
       "      <td>broad_id_20170327</td>\n",
       "    </tr>\n",
       "    <tr>\n",
       "      <th>786</th>\n",
       "      <td>BRD-A08545410-311-01-8</td>\n",
       "      <td>BRD-A08545410</td>\n",
       "      <td>LTLYEAJONXGNFG</td>\n",
       "      <td>deprecated_broad_id_20180516</td>\n",
       "    </tr>\n",
       "    <tr>\n",
       "      <th>851</th>\n",
       "      <td>BRD-K21450440-001-14-6</td>\n",
       "      <td>BRD-K21450440</td>\n",
       "      <td>NDTSRXAMMQDVSW</td>\n",
       "      <td>broad_id_20170327</td>\n",
       "    </tr>\n",
       "    <tr>\n",
       "      <th>852</th>\n",
       "      <td>BRD-K21450440-001-14-6</td>\n",
       "      <td>BRD-K21450440</td>\n",
       "      <td>MQMCZGVMQZPYQA</td>\n",
       "      <td>broad_id_20200324</td>\n",
       "    </tr>\n",
       "    <tr>\n",
       "      <th>1255</th>\n",
       "      <td>BRD-A47598013-004-16-0</td>\n",
       "      <td>BRD-A47598013</td>\n",
       "      <td>WSEQXVZVJXJVFP</td>\n",
       "      <td>broad_id_20170327</td>\n",
       "    </tr>\n",
       "    <tr>\n",
       "      <th>1256</th>\n",
       "      <td>BRD-A47598013-004-16-0</td>\n",
       "      <td>BRD-A47598013</td>\n",
       "      <td>KTGRHKOEFSJQNS</td>\n",
       "      <td>deprecated_broad_id_20200324</td>\n",
       "    </tr>\n",
       "    <tr>\n",
       "      <th>1302</th>\n",
       "      <td>BRD-A61767428-001-01-9</td>\n",
       "      <td>BRD-A61767428</td>\n",
       "      <td>FZRIRHAXJWMMFP</td>\n",
       "      <td>broad_id_20170327</td>\n",
       "    </tr>\n",
       "    <tr>\n",
       "      <th>1303</th>\n",
       "      <td>BRD-A61767428-001-01-9</td>\n",
       "      <td>BRD-A61767428</td>\n",
       "      <td>WCGUUGGRBIKTOS</td>\n",
       "      <td>deprecated_broad_id_20180907</td>\n",
       "    </tr>\n",
       "    <tr>\n",
       "      <th>1358</th>\n",
       "      <td>BRD-K07572174-001-17-0</td>\n",
       "      <td>BRD-K07572174</td>\n",
       "      <td>VFLDPWHFBUODDF</td>\n",
       "      <td>broad_id_20170327</td>\n",
       "    </tr>\n",
       "    <tr>\n",
       "      <th>1359</th>\n",
       "      <td>BRD-K07572174-001-17-0</td>\n",
       "      <td>BRD-K07572174</td>\n",
       "      <td>ZIUSSTSXXLLKKK</td>\n",
       "      <td>broad_id_20200324</td>\n",
       "    </tr>\n",
       "    <tr>\n",
       "      <th>1601</th>\n",
       "      <td>BRD-K30331124-001-01-7</td>\n",
       "      <td>BRD-K30331124</td>\n",
       "      <td>HMJSBVCDPKODEX</td>\n",
       "      <td>broad_id_20170327</td>\n",
       "    </tr>\n",
       "    <tr>\n",
       "      <th>1602</th>\n",
       "      <td>BRD-K30331124-001-01-7</td>\n",
       "      <td>BRD-K30331124</td>\n",
       "      <td>ZMGUKFHHNQMKJI</td>\n",
       "      <td>broad_id_20200324</td>\n",
       "    </tr>\n",
       "  </tbody>\n",
       "</table>\n",
       "</div>"
      ],
      "text/plain": [
       "                broad_sample       broad_id      InChIKey14  \\\n",
       "9     BRD-K50691590-001-02-2  BRD-K50691590  RFGAQTOFZHCFHG   \n",
       "10    BRD-K50691590-001-02-2  BRD-K50691590  GXJABQQUPOEUTA   \n",
       "134   BRD-K98733875-001-01-4  BRD-K98733875  IKIIZLYTISPENI   \n",
       "135   BRD-K98733875-001-01-4  BRD-K98733875  DAIGSUHCWOZEQG   \n",
       "361   BRD-K68103045-001-02-9  BRD-K68103045  XRUUVUYJUULCBQ   \n",
       "362   BRD-K68103045-001-02-9  BRD-K68103045  UBLXQFIFWUEVGJ   \n",
       "471   BRD-K72922393-003-15-2  BRD-K72922393  FKDHHVKWGRFRTG   \n",
       "472   BRD-K72922393-003-15-2  BRD-K72922393  XZYRDNUZENBYFI   \n",
       "542   BRD-K28936863-051-33-0  BRD-K28936863  ZCVMWBYGMWKGHF   \n",
       "543   BRD-K28936863-051-33-0  BRD-K28936863  OVJRNFMIYGGLDL   \n",
       "596   BRD-K63712959-001-01-8  BRD-K63712959  LYPFDBRUNKHDGX   \n",
       "597   BRD-K63712959-001-01-8  BRD-K63712959  JGLSWAGTNWZKQU   \n",
       "686   BRD-K45152786-001-08-4  BRD-K45152786  JARCFMKMOFFIGZ   \n",
       "687   BRD-K45152786-001-08-4  BRD-K45152786  GFYRZTLCYQQVHZ   \n",
       "785   BRD-A08545410-311-01-8  BRD-A08545410  VXVNYCRICCVPTD   \n",
       "786   BRD-A08545410-311-01-8  BRD-A08545410  LTLYEAJONXGNFG   \n",
       "851   BRD-K21450440-001-14-6  BRD-K21450440  NDTSRXAMMQDVSW   \n",
       "852   BRD-K21450440-001-14-6  BRD-K21450440  MQMCZGVMQZPYQA   \n",
       "1255  BRD-A47598013-004-16-0  BRD-A47598013  WSEQXVZVJXJVFP   \n",
       "1256  BRD-A47598013-004-16-0  BRD-A47598013  KTGRHKOEFSJQNS   \n",
       "1302  BRD-A61767428-001-01-9  BRD-A61767428  FZRIRHAXJWMMFP   \n",
       "1303  BRD-A61767428-001-01-9  BRD-A61767428  WCGUUGGRBIKTOS   \n",
       "1358  BRD-K07572174-001-17-0  BRD-K07572174  VFLDPWHFBUODDF   \n",
       "1359  BRD-K07572174-001-17-0  BRD-K07572174  ZIUSSTSXXLLKKK   \n",
       "1601  BRD-K30331124-001-01-7  BRD-K30331124  HMJSBVCDPKODEX   \n",
       "1602  BRD-K30331124-001-01-7  BRD-K30331124  ZMGUKFHHNQMKJI   \n",
       "\n",
       "                        broad_date  \n",
       "9                broad_id_20170327  \n",
       "10    deprecated_broad_id_20180907  \n",
       "134              broad_id_20170327  \n",
       "135   deprecated_broad_id_20200324  \n",
       "361              broad_id_20170327  \n",
       "362              broad_id_20200324  \n",
       "471              broad_id_20170327  \n",
       "472   deprecated_broad_id_20180907  \n",
       "542              broad_id_20170327  \n",
       "543              broad_id_20200324  \n",
       "596              broad_id_20170327  \n",
       "597              broad_id_20200324  \n",
       "686              broad_id_20170327  \n",
       "687              broad_id_20200324  \n",
       "785              broad_id_20170327  \n",
       "786   deprecated_broad_id_20180516  \n",
       "851              broad_id_20170327  \n",
       "852              broad_id_20200324  \n",
       "1255             broad_id_20170327  \n",
       "1256  deprecated_broad_id_20200324  \n",
       "1302             broad_id_20170327  \n",
       "1303  deprecated_broad_id_20180907  \n",
       "1358             broad_id_20170327  \n",
       "1359             broad_id_20200324  \n",
       "1601             broad_id_20170327  \n",
       "1602             broad_id_20200324  "
      ]
     },
     "execution_count": 13,
     "metadata": {},
     "output_type": "execute_result"
    },
    {
     "data": {
      "application/javascript": [
       "\n",
       "            setTimeout(function() {\n",
       "                var nbb_cell_id = 13;\n",
       "                var nbb_unformatted_code = \"# There are indeed duplicated broad IDs!\\n# This means that some of these broad IDs will recieve alternative MOA/Targets\\nduplicate_broad_ids = broad_id_counts[broad_id_counts > 1].index.tolist()\\nmerged_platemap_df.query(\\\"broad_id in @duplicate_broad_ids\\\")\";\n",
       "                var nbb_formatted_code = \"# There are indeed duplicated broad IDs!\\n# This means that some of these broad IDs will recieve alternative MOA/Targets\\nduplicate_broad_ids = broad_id_counts[broad_id_counts > 1].index.tolist()\\nmerged_platemap_df.query(\\\"broad_id in @duplicate_broad_ids\\\")\";\n",
       "                var nbb_cells = Jupyter.notebook.get_cells();\n",
       "                for (var i = 0; i < nbb_cells.length; ++i) {\n",
       "                    if (nbb_cells[i].input_prompt_number == nbb_cell_id) {\n",
       "                        if (nbb_cells[i].get_text() == nbb_unformatted_code) {\n",
       "                             nbb_cells[i].set_text(nbb_formatted_code);\n",
       "                        }\n",
       "                        break;\n",
       "                    }\n",
       "                }\n",
       "            }, 500);\n",
       "            "
      ],
      "text/plain": [
       "<IPython.core.display.Javascript object>"
      ]
     },
     "metadata": {},
     "output_type": "display_data"
    }
   ],
   "source": [
    "# There are indeed duplicated broad IDs!\n",
    "# This means that some of these broad IDs will recieve alternative MOA/Targets\n",
    "duplicate_broad_ids = broad_id_counts[broad_id_counts > 1].index.tolist()\n",
    "merged_platemap_df.query(\"broad_id in @duplicate_broad_ids\")"
   ]
  },
  {
   "cell_type": "markdown",
   "metadata": {},
   "source": [
    "## Step 3: Align Repurposing Platemap with Most Recent MOA/Target Info"
   ]
  },
  {
   "cell_type": "code",
   "execution_count": 14,
   "metadata": {},
   "outputs": [
    {
     "name": "stdout",
     "output_type": "stream",
     "text": [
      "(13553, 18)\n"
     ]
    },
    {
     "data": {
      "text/html": [
       "<div>\n",
       "<style scoped>\n",
       "    .dataframe tbody tr th:only-of-type {\n",
       "        vertical-align: middle;\n",
       "    }\n",
       "\n",
       "    .dataframe tbody tr th {\n",
       "        vertical-align: top;\n",
       "    }\n",
       "\n",
       "    .dataframe thead th {\n",
       "        text-align: right;\n",
       "    }\n",
       "</style>\n",
       "<table border=\"1\" class=\"dataframe\">\n",
       "  <thead>\n",
       "    <tr style=\"text-align: right;\">\n",
       "      <th></th>\n",
       "      <th>broad_id</th>\n",
       "      <th>pert_iname</th>\n",
       "      <th>clinical_phase</th>\n",
       "      <th>moa</th>\n",
       "      <th>target</th>\n",
       "      <th>disease_area</th>\n",
       "      <th>indication</th>\n",
       "      <th>qc_incompatible</th>\n",
       "      <th>purity</th>\n",
       "      <th>vendor</th>\n",
       "      <th>catalog_no</th>\n",
       "      <th>vendor_name</th>\n",
       "      <th>expected_mass</th>\n",
       "      <th>smiles</th>\n",
       "      <th>InChIKey</th>\n",
       "      <th>pubchem_cid</th>\n",
       "      <th>deprecated_broad_id</th>\n",
       "      <th>InChIKey14</th>\n",
       "    </tr>\n",
       "  </thead>\n",
       "  <tbody>\n",
       "    <tr>\n",
       "      <th>0</th>\n",
       "      <td>BRD-K76022557-003-28-9</td>\n",
       "      <td>(R)-(-)-apomorphine</td>\n",
       "      <td>Launched</td>\n",
       "      <td>dopamine receptor agonist</td>\n",
       "      <td>ADRA2A|ADRA2B|ADRA2C|CALY|DRD1|DRD2|DRD3|DRD4|...</td>\n",
       "      <td>neurology/psychiatry</td>\n",
       "      <td>Parkinson's Disease</td>\n",
       "      <td>0</td>\n",
       "      <td>98.90</td>\n",
       "      <td>MedChemEx</td>\n",
       "      <td>HY-12723A</td>\n",
       "      <td>Apomorphine (hydrochloride hemihydrate)</td>\n",
       "      <td>267.126</td>\n",
       "      <td>CN1CCc2cccc-3c2[C@H]1Cc1ccc(O)c(O)c-31</td>\n",
       "      <td>VMWNQDUVQKEIOC-CYBMUJFWSA-N</td>\n",
       "      <td>6005.0</td>\n",
       "      <td>NaN</td>\n",
       "      <td>VMWNQDUVQKEIOC</td>\n",
       "    </tr>\n",
       "    <tr>\n",
       "      <th>1</th>\n",
       "      <td>BRD-K76022557-003-02-7</td>\n",
       "      <td>(R)-(-)-apomorphine</td>\n",
       "      <td>Launched</td>\n",
       "      <td>dopamine receptor agonist</td>\n",
       "      <td>ADRA2A|ADRA2B|ADRA2C|CALY|DRD1|DRD2|DRD3|DRD4|...</td>\n",
       "      <td>neurology/psychiatry</td>\n",
       "      <td>Parkinson's Disease</td>\n",
       "      <td>0</td>\n",
       "      <td>97.34</td>\n",
       "      <td>Tocris</td>\n",
       "      <td>2073</td>\n",
       "      <td>(R)-(-)-Apomorphine hydrochloride</td>\n",
       "      <td>267.126</td>\n",
       "      <td>CN1CCc2cccc-3c2[C@H]1Cc1ccc(O)c(O)c-31</td>\n",
       "      <td>VMWNQDUVQKEIOC-CYBMUJFWSA-N</td>\n",
       "      <td>6005.0</td>\n",
       "      <td>NaN</td>\n",
       "      <td>VMWNQDUVQKEIOC</td>\n",
       "    </tr>\n",
       "    <tr>\n",
       "      <th>2</th>\n",
       "      <td>BRD-K76022557-003-29-9</td>\n",
       "      <td>(R)-(-)-apomorphine</td>\n",
       "      <td>Launched</td>\n",
       "      <td>dopamine receptor agonist</td>\n",
       "      <td>ADRA2A|ADRA2B|ADRA2C|CALY|DRD1|DRD2|DRD3|DRD4|...</td>\n",
       "      <td>neurology/psychiatry</td>\n",
       "      <td>Parkinson's Disease</td>\n",
       "      <td>0</td>\n",
       "      <td>97.36</td>\n",
       "      <td>Tocris</td>\n",
       "      <td>2073</td>\n",
       "      <td>(R)-(-)-Apomorphine hydrochloride</td>\n",
       "      <td>267.126</td>\n",
       "      <td>CN1CCc2cccc-3c2[C@H]1Cc1ccc(O)c(O)c-31</td>\n",
       "      <td>VMWNQDUVQKEIOC-CYBMUJFWSA-N</td>\n",
       "      <td>6005.0</td>\n",
       "      <td>NaN</td>\n",
       "      <td>VMWNQDUVQKEIOC</td>\n",
       "    </tr>\n",
       "    <tr>\n",
       "      <th>3</th>\n",
       "      <td>BRD-K76022557-001-03-9</td>\n",
       "      <td>(R)-(-)-apomorphine</td>\n",
       "      <td>Launched</td>\n",
       "      <td>dopamine receptor agonist</td>\n",
       "      <td>ADRA2A|ADRA2B|ADRA2C|CALY|DRD1|DRD2|DRD3|DRD4|...</td>\n",
       "      <td>neurology/psychiatry</td>\n",
       "      <td>Parkinson's Disease</td>\n",
       "      <td>0</td>\n",
       "      <td>95.80</td>\n",
       "      <td>Selleck</td>\n",
       "      <td>S4350</td>\n",
       "      <td>R-(-)-Apomorphine HCl Hemihydrate</td>\n",
       "      <td>267.126</td>\n",
       "      <td>CN1CCc2cccc-3c2[C@H]1Cc1ccc(O)c(O)c-31</td>\n",
       "      <td>VMWNQDUVQKEIOC-CYBMUJFWSA-N</td>\n",
       "      <td>6005.0</td>\n",
       "      <td>NaN</td>\n",
       "      <td>VMWNQDUVQKEIOC</td>\n",
       "    </tr>\n",
       "    <tr>\n",
       "      <th>4</th>\n",
       "      <td>BRD-K75516118-001-04-1</td>\n",
       "      <td>(R)-(-)-rolipram</td>\n",
       "      <td>Phase 1</td>\n",
       "      <td>phosphodiesterase inhibitor</td>\n",
       "      <td>PDE4A|PDE4B|PDE4C|PDE4D|PDE5A</td>\n",
       "      <td>NaN</td>\n",
       "      <td>NaN</td>\n",
       "      <td>0</td>\n",
       "      <td>93.92</td>\n",
       "      <td>Tocris</td>\n",
       "      <td>1349</td>\n",
       "      <td>(R)-(-)-Rolipram</td>\n",
       "      <td>275.152</td>\n",
       "      <td>COc1ccc(cc1OC1CCCC1)[C@@H]1CNC(=O)C1</td>\n",
       "      <td>HJORMJIFDVBMOB-LBPRGKRZSA-N</td>\n",
       "      <td>448055.0</td>\n",
       "      <td>NaN</td>\n",
       "      <td>HJORMJIFDVBMOB</td>\n",
       "    </tr>\n",
       "  </tbody>\n",
       "</table>\n",
       "</div>"
      ],
      "text/plain": [
       "                 broad_id           pert_iname clinical_phase  \\\n",
       "0  BRD-K76022557-003-28-9  (R)-(-)-apomorphine       Launched   \n",
       "1  BRD-K76022557-003-02-7  (R)-(-)-apomorphine       Launched   \n",
       "2  BRD-K76022557-003-29-9  (R)-(-)-apomorphine       Launched   \n",
       "3  BRD-K76022557-001-03-9  (R)-(-)-apomorphine       Launched   \n",
       "4  BRD-K75516118-001-04-1     (R)-(-)-rolipram        Phase 1   \n",
       "\n",
       "                           moa  \\\n",
       "0    dopamine receptor agonist   \n",
       "1    dopamine receptor agonist   \n",
       "2    dopamine receptor agonist   \n",
       "3    dopamine receptor agonist   \n",
       "4  phosphodiesterase inhibitor   \n",
       "\n",
       "                                              target          disease_area  \\\n",
       "0  ADRA2A|ADRA2B|ADRA2C|CALY|DRD1|DRD2|DRD3|DRD4|...  neurology/psychiatry   \n",
       "1  ADRA2A|ADRA2B|ADRA2C|CALY|DRD1|DRD2|DRD3|DRD4|...  neurology/psychiatry   \n",
       "2  ADRA2A|ADRA2B|ADRA2C|CALY|DRD1|DRD2|DRD3|DRD4|...  neurology/psychiatry   \n",
       "3  ADRA2A|ADRA2B|ADRA2C|CALY|DRD1|DRD2|DRD3|DRD4|...  neurology/psychiatry   \n",
       "4                      PDE4A|PDE4B|PDE4C|PDE4D|PDE5A                   NaN   \n",
       "\n",
       "            indication  qc_incompatible  purity     vendor catalog_no  \\\n",
       "0  Parkinson's Disease                0   98.90  MedChemEx  HY-12723A   \n",
       "1  Parkinson's Disease                0   97.34     Tocris       2073   \n",
       "2  Parkinson's Disease                0   97.36     Tocris       2073   \n",
       "3  Parkinson's Disease                0   95.80    Selleck      S4350   \n",
       "4                  NaN                0   93.92     Tocris       1349   \n",
       "\n",
       "                               vendor_name expected_mass  \\\n",
       "0  Apomorphine (hydrochloride hemihydrate)       267.126   \n",
       "1        (R)-(-)-Apomorphine hydrochloride       267.126   \n",
       "2        (R)-(-)-Apomorphine hydrochloride       267.126   \n",
       "3        R-(-)-Apomorphine HCl Hemihydrate       267.126   \n",
       "4                         (R)-(-)-Rolipram       275.152   \n",
       "\n",
       "                                   smiles                     InChIKey  \\\n",
       "0  CN1CCc2cccc-3c2[C@H]1Cc1ccc(O)c(O)c-31  VMWNQDUVQKEIOC-CYBMUJFWSA-N   \n",
       "1  CN1CCc2cccc-3c2[C@H]1Cc1ccc(O)c(O)c-31  VMWNQDUVQKEIOC-CYBMUJFWSA-N   \n",
       "2  CN1CCc2cccc-3c2[C@H]1Cc1ccc(O)c(O)c-31  VMWNQDUVQKEIOC-CYBMUJFWSA-N   \n",
       "3  CN1CCc2cccc-3c2[C@H]1Cc1ccc(O)c(O)c-31  VMWNQDUVQKEIOC-CYBMUJFWSA-N   \n",
       "4    COc1ccc(cc1OC1CCCC1)[C@@H]1CNC(=O)C1  HJORMJIFDVBMOB-LBPRGKRZSA-N   \n",
       "\n",
       "   pubchem_cid deprecated_broad_id      InChIKey14  \n",
       "0       6005.0                 NaN  VMWNQDUVQKEIOC  \n",
       "1       6005.0                 NaN  VMWNQDUVQKEIOC  \n",
       "2       6005.0                 NaN  VMWNQDUVQKEIOC  \n",
       "3       6005.0                 NaN  VMWNQDUVQKEIOC  \n",
       "4     448055.0                 NaN  HJORMJIFDVBMOB  "
      ]
     },
     "execution_count": 14,
     "metadata": {},
     "output_type": "execute_result"
    },
    {
     "data": {
      "application/javascript": [
       "\n",
       "            setTimeout(function() {\n",
       "                var nbb_cell_id = 14;\n",
       "                var nbb_unformatted_code = \"# Load Data\\nmoa_file = \\\"repurposing_info.tsv\\\"\\nmoa_df = pd.read_csv(moa_file, sep=\\\"\\\\t\\\")\\n\\nprint(moa_df.shape)\\nmoa_df.head()\";\n",
       "                var nbb_formatted_code = \"# Load Data\\nmoa_file = \\\"repurposing_info.tsv\\\"\\nmoa_df = pd.read_csv(moa_file, sep=\\\"\\\\t\\\")\\n\\nprint(moa_df.shape)\\nmoa_df.head()\";\n",
       "                var nbb_cells = Jupyter.notebook.get_cells();\n",
       "                for (var i = 0; i < nbb_cells.length; ++i) {\n",
       "                    if (nbb_cells[i].input_prompt_number == nbb_cell_id) {\n",
       "                        if (nbb_cells[i].get_text() == nbb_unformatted_code) {\n",
       "                             nbb_cells[i].set_text(nbb_formatted_code);\n",
       "                        }\n",
       "                        break;\n",
       "                    }\n",
       "                }\n",
       "            }, 500);\n",
       "            "
      ],
      "text/plain": [
       "<IPython.core.display.Javascript object>"
      ]
     },
     "metadata": {},
     "output_type": "display_data"
    }
   ],
   "source": [
    "# Load Data\n",
    "moa_file = \"repurposing_info.tsv\"\n",
    "moa_df = pd.read_csv(moa_file, sep=\"\\t\")\n",
    "\n",
    "print(moa_df.shape)\n",
    "moa_df.head()"
   ]
  },
  {
   "cell_type": "code",
   "execution_count": 15,
   "metadata": {},
   "outputs": [
    {
     "name": "stdout",
     "output_type": "stream",
     "text": [
      "(1631, 8)\n"
     ]
    },
    {
     "data": {
      "text/html": [
       "<div>\n",
       "<style scoped>\n",
       "    .dataframe tbody tr th:only-of-type {\n",
       "        vertical-align: middle;\n",
       "    }\n",
       "\n",
       "    .dataframe tbody tr th {\n",
       "        vertical-align: top;\n",
       "    }\n",
       "\n",
       "    .dataframe thead th {\n",
       "        text-align: right;\n",
       "    }\n",
       "</style>\n",
       "<table border=\"1\" class=\"dataframe\">\n",
       "  <thead>\n",
       "    <tr style=\"text-align: right;\">\n",
       "      <th></th>\n",
       "      <th>broad_sample</th>\n",
       "      <th>broad_id</th>\n",
       "      <th>pert_iname</th>\n",
       "      <th>InChIKey14</th>\n",
       "      <th>moa</th>\n",
       "      <th>target</th>\n",
       "      <th>broad_date</th>\n",
       "      <th>clinical_phase</th>\n",
       "    </tr>\n",
       "  </thead>\n",
       "  <tbody>\n",
       "    <tr>\n",
       "      <th>0</th>\n",
       "      <td>BRD-A62035778-004-03-6</td>\n",
       "      <td>BRD-A62035778</td>\n",
       "      <td>scopolamine</td>\n",
       "      <td>STECJAGHUSJQJN</td>\n",
       "      <td>acetylcholine receptor antagonist</td>\n",
       "      <td>CHRM1|CHRM2|CHRM3|CHRM4|CHRM5|SI</td>\n",
       "      <td>broad_id_20170327</td>\n",
       "      <td>Launched</td>\n",
       "    </tr>\n",
       "    <tr>\n",
       "      <th>1</th>\n",
       "      <td>BRD-K62196610-001-01-6</td>\n",
       "      <td>BRD-K62196610</td>\n",
       "      <td>AVN-944</td>\n",
       "      <td>GYCPCOJTCINIFZ</td>\n",
       "      <td>inosine monophosphate dehydrogenase inhibitor</td>\n",
       "      <td>IMPDH1|IMPDH2</td>\n",
       "      <td>broad_id_20170327</td>\n",
       "      <td>Phase 2</td>\n",
       "    </tr>\n",
       "    <tr>\n",
       "      <th>2</th>\n",
       "      <td>BRD-K62277907-001-01-6</td>\n",
       "      <td>BRD-K62277907</td>\n",
       "      <td>PYM50028</td>\n",
       "      <td>GMBQZIIUCVWOCD</td>\n",
       "      <td>neurotrophic agent</td>\n",
       "      <td>NaN</td>\n",
       "      <td>broad_id_20170327</td>\n",
       "      <td>Phase 2</td>\n",
       "    </tr>\n",
       "    <tr>\n",
       "      <th>3</th>\n",
       "      <td>BRD-A62071884-001-04-6</td>\n",
       "      <td>BRD-A62071884</td>\n",
       "      <td>siguazodan</td>\n",
       "      <td>NUHPODZZKHQQET</td>\n",
       "      <td>phosphodiesterase inhibitor</td>\n",
       "      <td>PDE3A</td>\n",
       "      <td>broad_id_20170327</td>\n",
       "      <td>Phase 1</td>\n",
       "    </tr>\n",
       "    <tr>\n",
       "      <th>4</th>\n",
       "      <td>BRD-K62200014-003-10-5</td>\n",
       "      <td>BRD-K62200014</td>\n",
       "      <td>anagrelide</td>\n",
       "      <td>OTBXOEAOVRKTNQ</td>\n",
       "      <td>phosphodiesterase inhibitor</td>\n",
       "      <td>PDE3A</td>\n",
       "      <td>broad_id_20170327</td>\n",
       "      <td>Launched</td>\n",
       "    </tr>\n",
       "  </tbody>\n",
       "</table>\n",
       "</div>"
      ],
      "text/plain": [
       "             broad_sample       broad_id   pert_iname      InChIKey14  \\\n",
       "0  BRD-A62035778-004-03-6  BRD-A62035778  scopolamine  STECJAGHUSJQJN   \n",
       "1  BRD-K62196610-001-01-6  BRD-K62196610      AVN-944  GYCPCOJTCINIFZ   \n",
       "2  BRD-K62277907-001-01-6  BRD-K62277907     PYM50028  GMBQZIIUCVWOCD   \n",
       "3  BRD-A62071884-001-04-6  BRD-A62071884   siguazodan  NUHPODZZKHQQET   \n",
       "4  BRD-K62200014-003-10-5  BRD-K62200014   anagrelide  OTBXOEAOVRKTNQ   \n",
       "\n",
       "                                             moa  \\\n",
       "0              acetylcholine receptor antagonist   \n",
       "1  inosine monophosphate dehydrogenase inhibitor   \n",
       "2                             neurotrophic agent   \n",
       "3                    phosphodiesterase inhibitor   \n",
       "4                    phosphodiesterase inhibitor   \n",
       "\n",
       "                             target         broad_date clinical_phase  \n",
       "0  CHRM1|CHRM2|CHRM3|CHRM4|CHRM5|SI  broad_id_20170327       Launched  \n",
       "1                     IMPDH1|IMPDH2  broad_id_20170327        Phase 2  \n",
       "2                               NaN  broad_id_20170327        Phase 2  \n",
       "3                             PDE3A  broad_id_20170327        Phase 1  \n",
       "4                             PDE3A  broad_id_20170327       Launched  "
      ]
     },
     "execution_count": 15,
     "metadata": {},
     "output_type": "execute_result"
    },
    {
     "data": {
      "application/javascript": [
       "\n",
       "            setTimeout(function() {\n",
       "                var nbb_cell_id = 15;\n",
       "                var nbb_unformatted_code = \"# Perform the alignment\\nplatemap_moa_df = merged_platemap_df.merge(\\n    moa_df.loc[\\n        :, [mapping_col, \\\"pert_iname\\\", \\\"clinical_phase\\\", \\\"moa\\\", \\\"target\\\"]\\n    ].drop_duplicates(),\\n    on=mapping_col,\\n    how=\\\"left\\\",\\n).loc[\\n    :,\\n    [\\n        \\\"broad_sample\\\",\\n        \\\"broad_id\\\",\\n        \\\"pert_iname\\\",\\n        mapping_col,\\n        \\\"moa\\\",\\n        \\\"target\\\",\\n        \\\"broad_date\\\",\\n        \\\"clinical_phase\\\",\\n    ],\\n]\\n\\nprint(platemap_moa_df.shape)\\nplatemap_moa_df.head()\";\n",
       "                var nbb_formatted_code = \"# Perform the alignment\\nplatemap_moa_df = merged_platemap_df.merge(\\n    moa_df.loc[\\n        :, [mapping_col, \\\"pert_iname\\\", \\\"clinical_phase\\\", \\\"moa\\\", \\\"target\\\"]\\n    ].drop_duplicates(),\\n    on=mapping_col,\\n    how=\\\"left\\\",\\n).loc[\\n    :,\\n    [\\n        \\\"broad_sample\\\",\\n        \\\"broad_id\\\",\\n        \\\"pert_iname\\\",\\n        mapping_col,\\n        \\\"moa\\\",\\n        \\\"target\\\",\\n        \\\"broad_date\\\",\\n        \\\"clinical_phase\\\",\\n    ],\\n]\\n\\nprint(platemap_moa_df.shape)\\nplatemap_moa_df.head()\";\n",
       "                var nbb_cells = Jupyter.notebook.get_cells();\n",
       "                for (var i = 0; i < nbb_cells.length; ++i) {\n",
       "                    if (nbb_cells[i].input_prompt_number == nbb_cell_id) {\n",
       "                        if (nbb_cells[i].get_text() == nbb_unformatted_code) {\n",
       "                             nbb_cells[i].set_text(nbb_formatted_code);\n",
       "                        }\n",
       "                        break;\n",
       "                    }\n",
       "                }\n",
       "            }, 500);\n",
       "            "
      ],
      "text/plain": [
       "<IPython.core.display.Javascript object>"
      ]
     },
     "metadata": {},
     "output_type": "display_data"
    }
   ],
   "source": [
    "# Perform the alignment\n",
    "platemap_moa_df = merged_platemap_df.merge(\n",
    "    moa_df.loc[\n",
    "        :, [mapping_col, \"pert_iname\", \"clinical_phase\", \"moa\", \"target\"]\n",
    "    ].drop_duplicates(),\n",
    "    on=mapping_col,\n",
    "    how=\"left\",\n",
    ").loc[\n",
    "    :,\n",
    "    [\n",
    "        \"broad_sample\",\n",
    "        \"broad_id\",\n",
    "        \"pert_iname\",\n",
    "        mapping_col,\n",
    "        \"moa\",\n",
    "        \"target\",\n",
    "        \"broad_date\",\n",
    "        \"clinical_phase\",\n",
    "    ],\n",
    "]\n",
    "\n",
    "print(platemap_moa_df.shape)\n",
    "platemap_moa_df.head()"
   ]
  },
  {
   "cell_type": "code",
   "execution_count": 16,
   "metadata": {},
   "outputs": [
    {
     "data": {
      "text/html": [
       "<div>\n",
       "<style scoped>\n",
       "    .dataframe tbody tr th:only-of-type {\n",
       "        vertical-align: middle;\n",
       "    }\n",
       "\n",
       "    .dataframe tbody tr th {\n",
       "        vertical-align: top;\n",
       "    }\n",
       "\n",
       "    .dataframe thead th {\n",
       "        text-align: right;\n",
       "    }\n",
       "</style>\n",
       "<table border=\"1\" class=\"dataframe\">\n",
       "  <thead>\n",
       "    <tr style=\"text-align: right;\">\n",
       "      <th></th>\n",
       "      <th>broad_sample</th>\n",
       "      <th>broad_id</th>\n",
       "      <th>pert_iname</th>\n",
       "      <th>InChIKey14</th>\n",
       "      <th>moa</th>\n",
       "      <th>target</th>\n",
       "      <th>broad_date</th>\n",
       "      <th>clinical_phase</th>\n",
       "    </tr>\n",
       "  </thead>\n",
       "  <tbody>\n",
       "    <tr>\n",
       "      <th>1587</th>\n",
       "      <td>BRD-K56844688-003-01-2</td>\n",
       "      <td>BRD-K56844688</td>\n",
       "      <td>doxorubicin</td>\n",
       "      <td>AOJJSUZBOXZQNB</td>\n",
       "      <td>topoisomerase inhibitor</td>\n",
       "      <td>TOP2A</td>\n",
       "      <td>broad_id_20170327</td>\n",
       "      <td>Launched</td>\n",
       "    </tr>\n",
       "    <tr>\n",
       "      <th>1588</th>\n",
       "      <td>BRD-K56844688-003-01-2</td>\n",
       "      <td>BRD-K56844688</td>\n",
       "      <td>epirubicin</td>\n",
       "      <td>AOJJSUZBOXZQNB</td>\n",
       "      <td>topoisomerase inhibitor</td>\n",
       "      <td>CHD1|TOP2A</td>\n",
       "      <td>broad_id_20170327</td>\n",
       "      <td>Launched</td>\n",
       "    </tr>\n",
       "  </tbody>\n",
       "</table>\n",
       "</div>"
      ],
      "text/plain": [
       "                broad_sample       broad_id   pert_iname      InChIKey14  \\\n",
       "1587  BRD-K56844688-003-01-2  BRD-K56844688  doxorubicin  AOJJSUZBOXZQNB   \n",
       "1588  BRD-K56844688-003-01-2  BRD-K56844688   epirubicin  AOJJSUZBOXZQNB   \n",
       "\n",
       "                          moa      target         broad_date clinical_phase  \n",
       "1587  topoisomerase inhibitor       TOP2A  broad_id_20170327       Launched  \n",
       "1588  topoisomerase inhibitor  CHD1|TOP2A  broad_id_20170327       Launched  "
      ]
     },
     "execution_count": 16,
     "metadata": {},
     "output_type": "execute_result"
    },
    {
     "data": {
      "application/javascript": [
       "\n",
       "            setTimeout(function() {\n",
       "                var nbb_cell_id = 16;\n",
       "                var nbb_unformatted_code = \"# Show an example of a broad_id that must be resolved\\nplatemap_moa_df.query(\\\"broad_id == 'BRD-K56844688'\\\")\";\n",
       "                var nbb_formatted_code = \"# Show an example of a broad_id that must be resolved\\nplatemap_moa_df.query(\\\"broad_id == 'BRD-K56844688'\\\")\";\n",
       "                var nbb_cells = Jupyter.notebook.get_cells();\n",
       "                for (var i = 0; i < nbb_cells.length; ++i) {\n",
       "                    if (nbb_cells[i].input_prompt_number == nbb_cell_id) {\n",
       "                        if (nbb_cells[i].get_text() == nbb_unformatted_code) {\n",
       "                             nbb_cells[i].set_text(nbb_formatted_code);\n",
       "                        }\n",
       "                        break;\n",
       "                    }\n",
       "                }\n",
       "            }, 500);\n",
       "            "
      ],
      "text/plain": [
       "<IPython.core.display.Javascript object>"
      ]
     },
     "metadata": {},
     "output_type": "display_data"
    }
   ],
   "source": [
    "# Show an example of a broad_id that must be resolved\n",
    "platemap_moa_df.query(\"broad_id == 'BRD-K56844688'\")"
   ]
  },
  {
   "cell_type": "markdown",
   "metadata": {},
   "source": [
    "## Step 5 - Quantify what's missing"
   ]
  },
  {
   "cell_type": "code",
   "execution_count": 17,
   "metadata": {},
   "outputs": [
    {
     "name": "stdout",
     "output_type": "stream",
     "text": [
      "(1613, 8)\n"
     ]
    },
    {
     "data": {
      "text/html": [
       "<div>\n",
       "<style scoped>\n",
       "    .dataframe tbody tr th:only-of-type {\n",
       "        vertical-align: middle;\n",
       "    }\n",
       "\n",
       "    .dataframe tbody tr th {\n",
       "        vertical-align: top;\n",
       "    }\n",
       "\n",
       "    .dataframe thead th {\n",
       "        text-align: right;\n",
       "    }\n",
       "</style>\n",
       "<table border=\"1\" class=\"dataframe\">\n",
       "  <thead>\n",
       "    <tr style=\"text-align: right;\">\n",
       "      <th></th>\n",
       "      <th>broad_sample</th>\n",
       "      <th>broad_id</th>\n",
       "      <th>pert_iname</th>\n",
       "      <th>InChIKey14</th>\n",
       "      <th>moa</th>\n",
       "      <th>target</th>\n",
       "      <th>broad_date</th>\n",
       "      <th>clinical_phase</th>\n",
       "    </tr>\n",
       "  </thead>\n",
       "  <tbody>\n",
       "    <tr>\n",
       "      <th>0</th>\n",
       "      <td>BRD-A62035778-004-03-6</td>\n",
       "      <td>BRD-A62035778</td>\n",
       "      <td>scopolamine</td>\n",
       "      <td>STECJAGHUSJQJN</td>\n",
       "      <td>acetylcholine receptor antagonist</td>\n",
       "      <td>CHRM1|CHRM2|CHRM3|CHRM4|CHRM5|SI</td>\n",
       "      <td>broad_id_20170327</td>\n",
       "      <td>Launched</td>\n",
       "    </tr>\n",
       "    <tr>\n",
       "      <th>1</th>\n",
       "      <td>BRD-K62196610-001-01-6</td>\n",
       "      <td>BRD-K62196610</td>\n",
       "      <td>AVN-944</td>\n",
       "      <td>GYCPCOJTCINIFZ</td>\n",
       "      <td>inosine monophosphate dehydrogenase inhibitor</td>\n",
       "      <td>IMPDH1|IMPDH2</td>\n",
       "      <td>broad_id_20170327</td>\n",
       "      <td>Phase 2</td>\n",
       "    </tr>\n",
       "    <tr>\n",
       "      <th>2</th>\n",
       "      <td>BRD-K62277907-001-01-6</td>\n",
       "      <td>BRD-K62277907</td>\n",
       "      <td>PYM50028</td>\n",
       "      <td>GMBQZIIUCVWOCD</td>\n",
       "      <td>neurotrophic agent</td>\n",
       "      <td>NaN</td>\n",
       "      <td>broad_id_20170327</td>\n",
       "      <td>Phase 2</td>\n",
       "    </tr>\n",
       "    <tr>\n",
       "      <th>3</th>\n",
       "      <td>BRD-A62071884-001-04-6</td>\n",
       "      <td>BRD-A62071884</td>\n",
       "      <td>siguazodan</td>\n",
       "      <td>NUHPODZZKHQQET</td>\n",
       "      <td>phosphodiesterase inhibitor</td>\n",
       "      <td>PDE3A</td>\n",
       "      <td>broad_id_20170327</td>\n",
       "      <td>Phase 1</td>\n",
       "    </tr>\n",
       "    <tr>\n",
       "      <th>4</th>\n",
       "      <td>BRD-K62200014-003-10-5</td>\n",
       "      <td>BRD-K62200014</td>\n",
       "      <td>anagrelide</td>\n",
       "      <td>OTBXOEAOVRKTNQ</td>\n",
       "      <td>phosphodiesterase inhibitor</td>\n",
       "      <td>PDE3A</td>\n",
       "      <td>broad_id_20170327</td>\n",
       "      <td>Launched</td>\n",
       "    </tr>\n",
       "  </tbody>\n",
       "</table>\n",
       "</div>"
      ],
      "text/plain": [
       "             broad_sample       broad_id   pert_iname      InChIKey14  \\\n",
       "0  BRD-A62035778-004-03-6  BRD-A62035778  scopolamine  STECJAGHUSJQJN   \n",
       "1  BRD-K62196610-001-01-6  BRD-K62196610      AVN-944  GYCPCOJTCINIFZ   \n",
       "2  BRD-K62277907-001-01-6  BRD-K62277907     PYM50028  GMBQZIIUCVWOCD   \n",
       "3  BRD-A62071884-001-04-6  BRD-A62071884   siguazodan  NUHPODZZKHQQET   \n",
       "4  BRD-K62200014-003-10-5  BRD-K62200014   anagrelide  OTBXOEAOVRKTNQ   \n",
       "\n",
       "                                             moa  \\\n",
       "0              acetylcholine receptor antagonist   \n",
       "1  inosine monophosphate dehydrogenase inhibitor   \n",
       "2                             neurotrophic agent   \n",
       "3                    phosphodiesterase inhibitor   \n",
       "4                    phosphodiesterase inhibitor   \n",
       "\n",
       "                             target         broad_date clinical_phase  \n",
       "0  CHRM1|CHRM2|CHRM3|CHRM4|CHRM5|SI  broad_id_20170327       Launched  \n",
       "1                     IMPDH1|IMPDH2  broad_id_20170327        Phase 2  \n",
       "2                               NaN  broad_id_20170327        Phase 2  \n",
       "3                             PDE3A  broad_id_20170327        Phase 1  \n",
       "4                             PDE3A  broad_id_20170327       Launched  "
      ]
     },
     "execution_count": 17,
     "metadata": {},
     "output_type": "execute_result"
    },
    {
     "data": {
      "application/javascript": [
       "\n",
       "            setTimeout(function() {\n",
       "                var nbb_cell_id = 17;\n",
       "                var nbb_unformatted_code = \"# Some samples are missing an InChIKey14\\nplatemap_moa_with_inchi_df = platemap_moa_df.dropna(subset=[mapping_col])\\n\\nprint(platemap_moa_with_inchi_df.shape)\\nplatemap_moa_with_inchi_df.head()\";\n",
       "                var nbb_formatted_code = \"# Some samples are missing an InChIKey14\\nplatemap_moa_with_inchi_df = platemap_moa_df.dropna(subset=[mapping_col])\\n\\nprint(platemap_moa_with_inchi_df.shape)\\nplatemap_moa_with_inchi_df.head()\";\n",
       "                var nbb_cells = Jupyter.notebook.get_cells();\n",
       "                for (var i = 0; i < nbb_cells.length; ++i) {\n",
       "                    if (nbb_cells[i].input_prompt_number == nbb_cell_id) {\n",
       "                        if (nbb_cells[i].get_text() == nbb_unformatted_code) {\n",
       "                             nbb_cells[i].set_text(nbb_formatted_code);\n",
       "                        }\n",
       "                        break;\n",
       "                    }\n",
       "                }\n",
       "            }, 500);\n",
       "            "
      ],
      "text/plain": [
       "<IPython.core.display.Javascript object>"
      ]
     },
     "metadata": {},
     "output_type": "display_data"
    }
   ],
   "source": [
    "# Some samples are missing an InChIKey14\n",
    "platemap_moa_with_inchi_df = platemap_moa_df.dropna(subset=[mapping_col])\n",
    "\n",
    "print(platemap_moa_with_inchi_df.shape)\n",
    "platemap_moa_with_inchi_df.head()"
   ]
  },
  {
   "cell_type": "code",
   "execution_count": 18,
   "metadata": {},
   "outputs": [
    {
     "data": {
      "text/plain": [
       "18"
      ]
     },
     "execution_count": 18,
     "metadata": {},
     "output_type": "execute_result"
    },
    {
     "data": {
      "application/javascript": [
       "\n",
       "            setTimeout(function() {\n",
       "                var nbb_cell_id = 18;\n",
       "                var nbb_unformatted_code = \"# How many broad ids are missing an inchi key?\\nmissing_inchi_key = set(platemap_moa_df.broad_id.unique()).difference(\\n    set(platemap_moa_with_inchi_df.broad_id)\\n)\\nlen(missing_inchi_key)\";\n",
       "                var nbb_formatted_code = \"# How many broad ids are missing an inchi key?\\nmissing_inchi_key = set(platemap_moa_df.broad_id.unique()).difference(\\n    set(platemap_moa_with_inchi_df.broad_id)\\n)\\nlen(missing_inchi_key)\";\n",
       "                var nbb_cells = Jupyter.notebook.get_cells();\n",
       "                for (var i = 0; i < nbb_cells.length; ++i) {\n",
       "                    if (nbb_cells[i].input_prompt_number == nbb_cell_id) {\n",
       "                        if (nbb_cells[i].get_text() == nbb_unformatted_code) {\n",
       "                             nbb_cells[i].set_text(nbb_formatted_code);\n",
       "                        }\n",
       "                        break;\n",
       "                    }\n",
       "                }\n",
       "            }, 500);\n",
       "            "
      ],
      "text/plain": [
       "<IPython.core.display.Javascript object>"
      ]
     },
     "metadata": {},
     "output_type": "display_data"
    }
   ],
   "source": [
    "# How many broad ids are missing an inchi key?\n",
    "missing_inchi_key = set(platemap_moa_df.broad_id.unique()).difference(\n",
    "    set(platemap_moa_with_inchi_df.broad_id)\n",
    ")\n",
    "len(missing_inchi_key)"
   ]
  },
  {
   "cell_type": "code",
   "execution_count": 19,
   "metadata": {},
   "outputs": [
    {
     "data": {
      "text/plain": [
       "1570"
      ]
     },
     "execution_count": 19,
     "metadata": {},
     "output_type": "execute_result"
    },
    {
     "data": {
      "application/javascript": [
       "\n",
       "            setTimeout(function() {\n",
       "                var nbb_cell_id = 19;\n",
       "                var nbb_unformatted_code = \"# How many unique broad ids?\\nall_unique_broad_platemap_ids = set(platemap_moa_df.broad_id.unique())\\nlen(all_unique_broad_platemap_ids)\";\n",
       "                var nbb_formatted_code = \"# How many unique broad ids?\\nall_unique_broad_platemap_ids = set(platemap_moa_df.broad_id.unique())\\nlen(all_unique_broad_platemap_ids)\";\n",
       "                var nbb_cells = Jupyter.notebook.get_cells();\n",
       "                for (var i = 0; i < nbb_cells.length; ++i) {\n",
       "                    if (nbb_cells[i].input_prompt_number == nbb_cell_id) {\n",
       "                        if (nbb_cells[i].get_text() == nbb_unformatted_code) {\n",
       "                             nbb_cells[i].set_text(nbb_formatted_code);\n",
       "                        }\n",
       "                        break;\n",
       "                    }\n",
       "                }\n",
       "            }, 500);\n",
       "            "
      ],
      "text/plain": [
       "<IPython.core.display.Javascript object>"
      ]
     },
     "metadata": {},
     "output_type": "display_data"
    }
   ],
   "source": [
    "# How many unique broad ids?\n",
    "all_unique_broad_platemap_ids = set(platemap_moa_df.broad_id.unique())\n",
    "len(all_unique_broad_platemap_ids)"
   ]
  },
  {
   "cell_type": "code",
   "execution_count": 20,
   "metadata": {},
   "outputs": [
    {
     "data": {
      "text/plain": [
       "1553"
      ]
     },
     "execution_count": 20,
     "metadata": {},
     "output_type": "execute_result"
    },
    {
     "data": {
      "application/javascript": [
       "\n",
       "            setTimeout(function() {\n",
       "                var nbb_cell_id = 20;\n",
       "                var nbb_unformatted_code = \"# How many unique pert inames\\nlen(set(platemap_moa_with_inchi_df.pert_iname))\";\n",
       "                var nbb_formatted_code = \"# How many unique pert inames\\nlen(set(platemap_moa_with_inchi_df.pert_iname))\";\n",
       "                var nbb_cells = Jupyter.notebook.get_cells();\n",
       "                for (var i = 0; i < nbb_cells.length; ++i) {\n",
       "                    if (nbb_cells[i].input_prompt_number == nbb_cell_id) {\n",
       "                        if (nbb_cells[i].get_text() == nbb_unformatted_code) {\n",
       "                             nbb_cells[i].set_text(nbb_formatted_code);\n",
       "                        }\n",
       "                        break;\n",
       "                    }\n",
       "                }\n",
       "            }, 500);\n",
       "            "
      ],
      "text/plain": [
       "<IPython.core.display.Javascript object>"
      ]
     },
     "metadata": {},
     "output_type": "display_data"
    }
   ],
   "source": [
    "# How many unique pert inames\n",
    "len(set(platemap_moa_with_inchi_df.pert_iname))"
   ]
  },
  {
   "cell_type": "code",
   "execution_count": 21,
   "metadata": {},
   "outputs": [
    {
     "data": {
      "text/plain": [
       "1285"
      ]
     },
     "execution_count": 21,
     "metadata": {},
     "output_type": "execute_result"
    },
    {
     "data": {
      "application/javascript": [
       "\n",
       "            setTimeout(function() {\n",
       "                var nbb_cell_id = 21;\n",
       "                var nbb_unformatted_code = \"# How many broad ids with complete moa and target info?\\ncomplete_info = set(\\n    platemap_moa_with_inchi_df.loc[\\n        ~(\\n            platemap_moa_with_inchi_df.moa.isna()\\n            | platemap_moa_with_inchi_df.target.isna()\\n        ),\\n        \\\"broad_id\\\",\\n    ].values\\n)\\nlen(complete_info)\";\n",
       "                var nbb_formatted_code = \"# How many broad ids with complete moa and target info?\\ncomplete_info = set(\\n    platemap_moa_with_inchi_df.loc[\\n        ~(\\n            platemap_moa_with_inchi_df.moa.isna()\\n            | platemap_moa_with_inchi_df.target.isna()\\n        ),\\n        \\\"broad_id\\\",\\n    ].values\\n)\\nlen(complete_info)\";\n",
       "                var nbb_cells = Jupyter.notebook.get_cells();\n",
       "                for (var i = 0; i < nbb_cells.length; ++i) {\n",
       "                    if (nbb_cells[i].input_prompt_number == nbb_cell_id) {\n",
       "                        if (nbb_cells[i].get_text() == nbb_unformatted_code) {\n",
       "                             nbb_cells[i].set_text(nbb_formatted_code);\n",
       "                        }\n",
       "                        break;\n",
       "                    }\n",
       "                }\n",
       "            }, 500);\n",
       "            "
      ],
      "text/plain": [
       "<IPython.core.display.Javascript object>"
      ]
     },
     "metadata": {},
     "output_type": "display_data"
    }
   ],
   "source": [
    "# How many broad ids with complete moa and target info?\n",
    "complete_info = set(\n",
    "    platemap_moa_with_inchi_df.loc[\n",
    "        ~(\n",
    "            platemap_moa_with_inchi_df.moa.isna()\n",
    "            | platemap_moa_with_inchi_df.target.isna()\n",
    "        ),\n",
    "        \"broad_id\",\n",
    "    ].values\n",
    ")\n",
    "len(complete_info)"
   ]
  },
  {
   "cell_type": "code",
   "execution_count": 22,
   "metadata": {},
   "outputs": [
    {
     "data": {
      "text/plain": [
       "34"
      ]
     },
     "execution_count": 22,
     "metadata": {},
     "output_type": "execute_result"
    },
    {
     "data": {
      "application/javascript": [
       "\n",
       "            setTimeout(function() {\n",
       "                var nbb_cell_id = 22;\n",
       "                var nbb_unformatted_code = \"# How many examples of broad ids with missing moa?\\nmoa_missing = set(\\n    platemap_moa_with_inchi_df.sort_values(by=\\\"moa\\\", na_position=\\\"last\\\")\\n    .drop_duplicates(subset=\\\"broad_id\\\", keep=\\\"first\\\")\\n    .loc[platemap_moa_with_inchi_df.moa.isna(), \\\"broad_id\\\"]\\n    .values\\n).difference(complete_info)\\n\\nmoa_present = all_unique_broad_platemap_ids.difference(moa_missing)\\nlen(moa_missing)\";\n",
       "                var nbb_formatted_code = \"# How many examples of broad ids with missing moa?\\nmoa_missing = set(\\n    platemap_moa_with_inchi_df.sort_values(by=\\\"moa\\\", na_position=\\\"last\\\")\\n    .drop_duplicates(subset=\\\"broad_id\\\", keep=\\\"first\\\")\\n    .loc[platemap_moa_with_inchi_df.moa.isna(), \\\"broad_id\\\"]\\n    .values\\n).difference(complete_info)\\n\\nmoa_present = all_unique_broad_platemap_ids.difference(moa_missing)\\nlen(moa_missing)\";\n",
       "                var nbb_cells = Jupyter.notebook.get_cells();\n",
       "                for (var i = 0; i < nbb_cells.length; ++i) {\n",
       "                    if (nbb_cells[i].input_prompt_number == nbb_cell_id) {\n",
       "                        if (nbb_cells[i].get_text() == nbb_unformatted_code) {\n",
       "                             nbb_cells[i].set_text(nbb_formatted_code);\n",
       "                        }\n",
       "                        break;\n",
       "                    }\n",
       "                }\n",
       "            }, 500);\n",
       "            "
      ],
      "text/plain": [
       "<IPython.core.display.Javascript object>"
      ]
     },
     "metadata": {},
     "output_type": "display_data"
    }
   ],
   "source": [
    "# How many examples of broad ids with missing moa?\n",
    "moa_missing = set(\n",
    "    platemap_moa_with_inchi_df.sort_values(by=\"moa\", na_position=\"last\")\n",
    "    .drop_duplicates(subset=\"broad_id\", keep=\"first\")\n",
    "    .loc[platemap_moa_with_inchi_df.moa.isna(), \"broad_id\"]\n",
    "    .values\n",
    ").difference(complete_info)\n",
    "\n",
    "moa_present = all_unique_broad_platemap_ids.difference(moa_missing)\n",
    "len(moa_missing)"
   ]
  },
  {
   "cell_type": "code",
   "execution_count": 23,
   "metadata": {},
   "outputs": [
    {
     "data": {
      "text/plain": [
       "266"
      ]
     },
     "execution_count": 23,
     "metadata": {},
     "output_type": "execute_result"
    },
    {
     "data": {
      "application/javascript": [
       "\n",
       "            setTimeout(function() {\n",
       "                var nbb_cell_id = 23;\n",
       "                var nbb_unformatted_code = \"# How many examples of broad ids with missing targets?\\ntarget_missing = set(\\n    platemap_moa_with_inchi_df.sort_values(by=\\\"target\\\", na_position=\\\"last\\\")\\n    .drop_duplicates(subset=\\\"broad_id\\\", keep=\\\"first\\\")\\n    .loc[platemap_moa_with_inchi_df.target.isna(), \\\"broad_id\\\"]\\n    .values\\n).difference(complete_info)\\n\\ntarget_present = all_unique_broad_platemap_ids.difference(target_missing)\\nlen(target_missing)\";\n",
       "                var nbb_formatted_code = \"# How many examples of broad ids with missing targets?\\ntarget_missing = set(\\n    platemap_moa_with_inchi_df.sort_values(by=\\\"target\\\", na_position=\\\"last\\\")\\n    .drop_duplicates(subset=\\\"broad_id\\\", keep=\\\"first\\\")\\n    .loc[platemap_moa_with_inchi_df.target.isna(), \\\"broad_id\\\"]\\n    .values\\n).difference(complete_info)\\n\\ntarget_present = all_unique_broad_platemap_ids.difference(target_missing)\\nlen(target_missing)\";\n",
       "                var nbb_cells = Jupyter.notebook.get_cells();\n",
       "                for (var i = 0; i < nbb_cells.length; ++i) {\n",
       "                    if (nbb_cells[i].input_prompt_number == nbb_cell_id) {\n",
       "                        if (nbb_cells[i].get_text() == nbb_unformatted_code) {\n",
       "                             nbb_cells[i].set_text(nbb_formatted_code);\n",
       "                        }\n",
       "                        break;\n",
       "                    }\n",
       "                }\n",
       "            }, 500);\n",
       "            "
      ],
      "text/plain": [
       "<IPython.core.display.Javascript object>"
      ]
     },
     "metadata": {},
     "output_type": "display_data"
    }
   ],
   "source": [
    "# How many examples of broad ids with missing targets?\n",
    "target_missing = set(\n",
    "    platemap_moa_with_inchi_df.sort_values(by=\"target\", na_position=\"last\")\n",
    "    .drop_duplicates(subset=\"broad_id\", keep=\"first\")\n",
    "    .loc[platemap_moa_with_inchi_df.target.isna(), \"broad_id\"]\n",
    "    .values\n",
    ").difference(complete_info)\n",
    "\n",
    "target_present = all_unique_broad_platemap_ids.difference(target_missing)\n",
    "len(target_missing)"
   ]
  },
  {
   "cell_type": "code",
   "execution_count": 24,
   "metadata": {},
   "outputs": [
    {
     "data": {
      "text/plain": [
       "1"
      ]
     },
     "execution_count": 24,
     "metadata": {},
     "output_type": "execute_result"
    },
    {
     "data": {
      "application/javascript": [
       "\n",
       "            setTimeout(function() {\n",
       "                var nbb_cell_id = 24;\n",
       "                var nbb_unformatted_code = \"missing_moa_info = moa_missing.difference(target_missing)\\nlen(missing_moa_info)\";\n",
       "                var nbb_formatted_code = \"missing_moa_info = moa_missing.difference(target_missing)\\nlen(missing_moa_info)\";\n",
       "                var nbb_cells = Jupyter.notebook.get_cells();\n",
       "                for (var i = 0; i < nbb_cells.length; ++i) {\n",
       "                    if (nbb_cells[i].input_prompt_number == nbb_cell_id) {\n",
       "                        if (nbb_cells[i].get_text() == nbb_unformatted_code) {\n",
       "                             nbb_cells[i].set_text(nbb_formatted_code);\n",
       "                        }\n",
       "                        break;\n",
       "                    }\n",
       "                }\n",
       "            }, 500);\n",
       "            "
      ],
      "text/plain": [
       "<IPython.core.display.Javascript object>"
      ]
     },
     "metadata": {},
     "output_type": "display_data"
    }
   ],
   "source": [
    "missing_moa_info = moa_missing.difference(target_missing)\n",
    "len(missing_moa_info)"
   ]
  },
  {
   "cell_type": "code",
   "execution_count": 25,
   "metadata": {},
   "outputs": [
    {
     "data": {
      "text/plain": [
       "233"
      ]
     },
     "execution_count": 25,
     "metadata": {},
     "output_type": "execute_result"
    },
    {
     "data": {
      "application/javascript": [
       "\n",
       "            setTimeout(function() {\n",
       "                var nbb_cell_id = 25;\n",
       "                var nbb_unformatted_code = \"missing_target_info = target_missing.difference(moa_missing)\\nlen(missing_target_info)\";\n",
       "                var nbb_formatted_code = \"missing_target_info = target_missing.difference(moa_missing)\\nlen(missing_target_info)\";\n",
       "                var nbb_cells = Jupyter.notebook.get_cells();\n",
       "                for (var i = 0; i < nbb_cells.length; ++i) {\n",
       "                    if (nbb_cells[i].input_prompt_number == nbb_cell_id) {\n",
       "                        if (nbb_cells[i].get_text() == nbb_unformatted_code) {\n",
       "                             nbb_cells[i].set_text(nbb_formatted_code);\n",
       "                        }\n",
       "                        break;\n",
       "                    }\n",
       "                }\n",
       "            }, 500);\n",
       "            "
      ],
      "text/plain": [
       "<IPython.core.display.Javascript object>"
      ]
     },
     "metadata": {},
     "output_type": "display_data"
    }
   ],
   "source": [
    "missing_target_info = target_missing.difference(moa_missing)\n",
    "len(missing_target_info)"
   ]
  },
  {
   "cell_type": "code",
   "execution_count": 26,
   "metadata": {},
   "outputs": [
    {
     "data": {
      "text/plain": [
       "33"
      ]
     },
     "execution_count": 26,
     "metadata": {},
     "output_type": "execute_result"
    },
    {
     "data": {
      "application/javascript": [
       "\n",
       "            setTimeout(function() {\n",
       "                var nbb_cell_id = 26;\n",
       "                var nbb_unformatted_code = \"missing_both_info = moa_missing.intersection(target_missing)\\n\\nmissing_both_info = (\\n    missing_both_info.difference(complete_info)\\n    .difference(target_present)\\n    .difference(moa_present)\\n)\\nlen(missing_both_info)\";\n",
       "                var nbb_formatted_code = \"missing_both_info = moa_missing.intersection(target_missing)\\n\\nmissing_both_info = (\\n    missing_both_info.difference(complete_info)\\n    .difference(target_present)\\n    .difference(moa_present)\\n)\\nlen(missing_both_info)\";\n",
       "                var nbb_cells = Jupyter.notebook.get_cells();\n",
       "                for (var i = 0; i < nbb_cells.length; ++i) {\n",
       "                    if (nbb_cells[i].input_prompt_number == nbb_cell_id) {\n",
       "                        if (nbb_cells[i].get_text() == nbb_unformatted_code) {\n",
       "                             nbb_cells[i].set_text(nbb_formatted_code);\n",
       "                        }\n",
       "                        break;\n",
       "                    }\n",
       "                }\n",
       "            }, 500);\n",
       "            "
      ],
      "text/plain": [
       "<IPython.core.display.Javascript object>"
      ]
     },
     "metadata": {},
     "output_type": "display_data"
    }
   ],
   "source": [
    "missing_both_info = moa_missing.intersection(target_missing)\n",
    "\n",
    "missing_both_info = (\n",
    "    missing_both_info.difference(complete_info)\n",
    "    .difference(target_present)\n",
    "    .difference(moa_present)\n",
    ")\n",
    "len(missing_both_info)"
   ]
  },
  {
   "cell_type": "code",
   "execution_count": 27,
   "metadata": {},
   "outputs": [
    {
     "data": {
      "text/html": [
       "<div>\n",
       "<style scoped>\n",
       "    .dataframe tbody tr th:only-of-type {\n",
       "        vertical-align: middle;\n",
       "    }\n",
       "\n",
       "    .dataframe tbody tr th {\n",
       "        vertical-align: top;\n",
       "    }\n",
       "\n",
       "    .dataframe thead th {\n",
       "        text-align: right;\n",
       "    }\n",
       "</style>\n",
       "<table border=\"1\" class=\"dataframe\">\n",
       "  <thead>\n",
       "    <tr style=\"text-align: right;\">\n",
       "      <th></th>\n",
       "      <th>count</th>\n",
       "    </tr>\n",
       "  </thead>\n",
       "  <tbody>\n",
       "    <tr>\n",
       "      <th>Unique Broad IDs</th>\n",
       "      <td>1570</td>\n",
       "    </tr>\n",
       "    <tr>\n",
       "      <th>Broad IDs with Complete MOA/Target</th>\n",
       "      <td>1285</td>\n",
       "    </tr>\n",
       "    <tr>\n",
       "      <th>Missing InChIKey14</th>\n",
       "      <td>18</td>\n",
       "    </tr>\n",
       "    <tr>\n",
       "      <th>Broad IDs with Only Missing MOA Info</th>\n",
       "      <td>1</td>\n",
       "    </tr>\n",
       "    <tr>\n",
       "      <th>Broad IDs with Only Missing Target Info</th>\n",
       "      <td>233</td>\n",
       "    </tr>\n",
       "    <tr>\n",
       "      <th>Broad IDs Missing Both MOA and Target</th>\n",
       "      <td>33</td>\n",
       "    </tr>\n",
       "  </tbody>\n",
       "</table>\n",
       "</div>"
      ],
      "text/plain": [
       "                                         count\n",
       "Unique Broad IDs                          1570\n",
       "Broad IDs with Complete MOA/Target        1285\n",
       "Missing InChIKey14                          18\n",
       "Broad IDs with Only Missing MOA Info         1\n",
       "Broad IDs with Only Missing Target Info    233\n",
       "Broad IDs Missing Both MOA and Target       33"
      ]
     },
     "execution_count": 27,
     "metadata": {},
     "output_type": "execute_result"
    },
    {
     "data": {
      "application/javascript": [
       "\n",
       "            setTimeout(function() {\n",
       "                var nbb_cell_id = 27;\n",
       "                var nbb_unformatted_code = \"pd.DataFrame(\\n    {\\n        \\\"Unique Broad IDs\\\": len(all_unique_broad_platemap_ids),\\n        \\\"Broad IDs with Complete MOA/Target\\\": len(complete_info),\\n        \\\"Missing InChIKey14\\\": len(missing_inchi_key),\\n        \\\"Broad IDs with Only Missing MOA Info\\\": len(missing_moa_info),\\n        \\\"Broad IDs with Only Missing Target Info\\\": len(missing_target_info),\\n        \\\"Broad IDs Missing Both MOA and Target\\\": len(missing_both_info),\\n    },\\n    index=[\\\"count\\\"],\\n).transpose()\";\n",
       "                var nbb_formatted_code = \"pd.DataFrame(\\n    {\\n        \\\"Unique Broad IDs\\\": len(all_unique_broad_platemap_ids),\\n        \\\"Broad IDs with Complete MOA/Target\\\": len(complete_info),\\n        \\\"Missing InChIKey14\\\": len(missing_inchi_key),\\n        \\\"Broad IDs with Only Missing MOA Info\\\": len(missing_moa_info),\\n        \\\"Broad IDs with Only Missing Target Info\\\": len(missing_target_info),\\n        \\\"Broad IDs Missing Both MOA and Target\\\": len(missing_both_info),\\n    },\\n    index=[\\\"count\\\"],\\n).transpose()\";\n",
       "                var nbb_cells = Jupyter.notebook.get_cells();\n",
       "                for (var i = 0; i < nbb_cells.length; ++i) {\n",
       "                    if (nbb_cells[i].input_prompt_number == nbb_cell_id) {\n",
       "                        if (nbb_cells[i].get_text() == nbb_unformatted_code) {\n",
       "                             nbb_cells[i].set_text(nbb_formatted_code);\n",
       "                        }\n",
       "                        break;\n",
       "                    }\n",
       "                }\n",
       "            }, 500);\n",
       "            "
      ],
      "text/plain": [
       "<IPython.core.display.Javascript object>"
      ]
     },
     "metadata": {},
     "output_type": "display_data"
    }
   ],
   "source": [
    "pd.DataFrame(\n",
    "    {\n",
    "        \"Unique Broad IDs\": len(all_unique_broad_platemap_ids),\n",
    "        \"Broad IDs with Complete MOA/Target\": len(complete_info),\n",
    "        \"Missing InChIKey14\": len(missing_inchi_key),\n",
    "        \"Broad IDs with Only Missing MOA Info\": len(missing_moa_info),\n",
    "        \"Broad IDs with Only Missing Target Info\": len(missing_target_info),\n",
    "        \"Broad IDs Missing Both MOA and Target\": len(missing_both_info),\n",
    "    },\n",
    "    index=[\"count\"],\n",
    ").transpose()"
   ]
  },
  {
   "cell_type": "markdown",
   "metadata": {},
   "source": [
    "## Step 6 - Resolve Stereochemistry Differences"
   ]
  },
  {
   "cell_type": "code",
   "execution_count": 28,
   "metadata": {},
   "outputs": [
    {
     "data": {
      "application/javascript": [
       "\n",
       "            setTimeout(function() {\n",
       "                var nbb_cell_id = 28;\n",
       "                var nbb_unformatted_code = \"alternative_delim = \\\";\\\"\";\n",
       "                var nbb_formatted_code = \"alternative_delim = \\\";\\\"\";\n",
       "                var nbb_cells = Jupyter.notebook.get_cells();\n",
       "                for (var i = 0; i < nbb_cells.length; ++i) {\n",
       "                    if (nbb_cells[i].input_prompt_number == nbb_cell_id) {\n",
       "                        if (nbb_cells[i].get_text() == nbb_unformatted_code) {\n",
       "                             nbb_cells[i].set_text(nbb_formatted_code);\n",
       "                        }\n",
       "                        break;\n",
       "                    }\n",
       "                }\n",
       "            }, 500);\n",
       "            "
      ],
      "text/plain": [
       "<IPython.core.display.Javascript object>"
      ]
     },
     "metadata": {},
     "output_type": "display_data"
    }
   ],
   "source": [
    "alternative_delim = \";\""
   ]
  },
  {
   "cell_type": "code",
   "execution_count": 29,
   "metadata": {},
   "outputs": [
    {
     "name": "stdout",
     "output_type": "stream",
     "text": [
      "Only one InChIKey14: 1497\n",
      "More than one InChIKey14: 55\n"
     ]
    },
    {
     "data": {
      "application/javascript": [
       "\n",
       "            setTimeout(function() {\n",
       "                var nbb_cell_id = 29;\n",
       "                var nbb_unformatted_code = \"# Drop rows in the following scenario:\\n# 1. The broad_id is assigned with two or more InChIKey14\\n# 2. Drop InChIKey14s in these rows that have missing values in both moa and target\\n\\nbroad_id_with_multiple_inchi = (\\n    platemap_moa_with_inchi_df.groupby(\\\"broad_id\\\")[mapping_col]\\n    .count()\\n    .sort_values(ascending=False)\\n)\\n\\nbroad_id_with_singular_inchi = set(\\n    broad_id_with_multiple_inchi[broad_id_with_multiple_inchi == 1].index\\n)\\nprint(f\\\"Only one InChIKey14: {len(broad_id_with_singular_inchi)}\\\")\\n\\nbroad_id_with_multiple_inchi = set(\\n    broad_id_with_multiple_inchi[broad_id_with_multiple_inchi > 1].index\\n)\\nprint(f\\\"More than one InChIKey14: {len(broad_id_with_multiple_inchi)}\\\")\";\n",
       "                var nbb_formatted_code = \"# Drop rows in the following scenario:\\n# 1. The broad_id is assigned with two or more InChIKey14\\n# 2. Drop InChIKey14s in these rows that have missing values in both moa and target\\n\\nbroad_id_with_multiple_inchi = (\\n    platemap_moa_with_inchi_df.groupby(\\\"broad_id\\\")[mapping_col]\\n    .count()\\n    .sort_values(ascending=False)\\n)\\n\\nbroad_id_with_singular_inchi = set(\\n    broad_id_with_multiple_inchi[broad_id_with_multiple_inchi == 1].index\\n)\\nprint(f\\\"Only one InChIKey14: {len(broad_id_with_singular_inchi)}\\\")\\n\\nbroad_id_with_multiple_inchi = set(\\n    broad_id_with_multiple_inchi[broad_id_with_multiple_inchi > 1].index\\n)\\nprint(f\\\"More than one InChIKey14: {len(broad_id_with_multiple_inchi)}\\\")\";\n",
       "                var nbb_cells = Jupyter.notebook.get_cells();\n",
       "                for (var i = 0; i < nbb_cells.length; ++i) {\n",
       "                    if (nbb_cells[i].input_prompt_number == nbb_cell_id) {\n",
       "                        if (nbb_cells[i].get_text() == nbb_unformatted_code) {\n",
       "                             nbb_cells[i].set_text(nbb_formatted_code);\n",
       "                        }\n",
       "                        break;\n",
       "                    }\n",
       "                }\n",
       "            }, 500);\n",
       "            "
      ],
      "text/plain": [
       "<IPython.core.display.Javascript object>"
      ]
     },
     "metadata": {},
     "output_type": "display_data"
    }
   ],
   "source": [
    "# Drop rows in the following scenario:\n",
    "# 1. The broad_id is assigned with two or more InChIKey14\n",
    "# 2. Drop InChIKey14s in these rows that have missing values in both moa and target\n",
    "\n",
    "broad_id_with_multiple_inchi = (\n",
    "    platemap_moa_with_inchi_df.groupby(\"broad_id\")[mapping_col]\n",
    "    .count()\n",
    "    .sort_values(ascending=False)\n",
    ")\n",
    "\n",
    "broad_id_with_singular_inchi = set(\n",
    "    broad_id_with_multiple_inchi[broad_id_with_multiple_inchi == 1].index\n",
    ")\n",
    "print(f\"Only one InChIKey14: {len(broad_id_with_singular_inchi)}\")\n",
    "\n",
    "broad_id_with_multiple_inchi = set(\n",
    "    broad_id_with_multiple_inchi[broad_id_with_multiple_inchi > 1].index\n",
    ")\n",
    "print(f\"More than one InChIKey14: {len(broad_id_with_multiple_inchi)}\")"
   ]
  },
  {
   "cell_type": "code",
   "execution_count": 30,
   "metadata": {},
   "outputs": [
    {
     "name": "stdout",
     "output_type": "stream",
     "text": [
      "(101, 8)\n"
     ]
    },
    {
     "data": {
      "application/javascript": [
       "\n",
       "            setTimeout(function() {\n",
       "                var nbb_cell_id = 30;\n",
       "                var nbb_unformatted_code = \"# First, drop entries that have missing values in BOTH moa and target\\n# Also drop duplicated columns\\nplatemap_multiple_inchi_select_df = platemap_moa_with_inchi_df.query(\\n    \\\"broad_id in @broad_id_with_multiple_inchi\\\"\\n)\\n\\nplatemap_multiple_inchi_select_df = platemap_multiple_inchi_select_df.loc[\\n    ~(\\n        platemap_multiple_inchi_select_df.moa.isna()\\n        & platemap_multiple_inchi_select_df.target.isna()\\n    )\\n].drop_duplicates()\\n\\nprint(platemap_multiple_inchi_select_df.shape)\\nplatemap_multiple_inchi_select_df.head(20)\\n\\nassert len(broad_id_with_multiple_inchi) == len(\\n    platemap_multiple_inchi_select_df.broad_id.unique()\\n), \\\"Stop, a broad ID was dropped somewhere that shouldn't have\\\"\";\n",
       "                var nbb_formatted_code = \"# First, drop entries that have missing values in BOTH moa and target\\n# Also drop duplicated columns\\nplatemap_multiple_inchi_select_df = platemap_moa_with_inchi_df.query(\\n    \\\"broad_id in @broad_id_with_multiple_inchi\\\"\\n)\\n\\nplatemap_multiple_inchi_select_df = platemap_multiple_inchi_select_df.loc[\\n    ~(\\n        platemap_multiple_inchi_select_df.moa.isna()\\n        & platemap_multiple_inchi_select_df.target.isna()\\n    )\\n].drop_duplicates()\\n\\nprint(platemap_multiple_inchi_select_df.shape)\\nplatemap_multiple_inchi_select_df.head(20)\\n\\nassert len(broad_id_with_multiple_inchi) == len(\\n    platemap_multiple_inchi_select_df.broad_id.unique()\\n), \\\"Stop, a broad ID was dropped somewhere that shouldn't have\\\"\";\n",
       "                var nbb_cells = Jupyter.notebook.get_cells();\n",
       "                for (var i = 0; i < nbb_cells.length; ++i) {\n",
       "                    if (nbb_cells[i].input_prompt_number == nbb_cell_id) {\n",
       "                        if (nbb_cells[i].get_text() == nbb_unformatted_code) {\n",
       "                             nbb_cells[i].set_text(nbb_formatted_code);\n",
       "                        }\n",
       "                        break;\n",
       "                    }\n",
       "                }\n",
       "            }, 500);\n",
       "            "
      ],
      "text/plain": [
       "<IPython.core.display.Javascript object>"
      ]
     },
     "metadata": {},
     "output_type": "display_data"
    }
   ],
   "source": [
    "# First, drop entries that have missing values in BOTH moa and target\n",
    "# Also drop duplicated columns\n",
    "platemap_multiple_inchi_select_df = platemap_moa_with_inchi_df.query(\n",
    "    \"broad_id in @broad_id_with_multiple_inchi\"\n",
    ")\n",
    "\n",
    "platemap_multiple_inchi_select_df = platemap_multiple_inchi_select_df.loc[\n",
    "    ~(\n",
    "        platemap_multiple_inchi_select_df.moa.isna()\n",
    "        & platemap_multiple_inchi_select_df.target.isna()\n",
    "    )\n",
    "].drop_duplicates()\n",
    "\n",
    "print(platemap_multiple_inchi_select_df.shape)\n",
    "platemap_multiple_inchi_select_df.head(20)\n",
    "\n",
    "assert len(broad_id_with_multiple_inchi) == len(\n",
    "    platemap_multiple_inchi_select_df.broad_id.unique()\n",
    "), \"Stop, a broad ID was dropped somewhere that shouldn't have\""
   ]
  },
  {
   "cell_type": "code",
   "execution_count": 31,
   "metadata": {},
   "outputs": [
    {
     "name": "stdout",
     "output_type": "stream",
     "text": [
      "(14, 8)\n"
     ]
    },
    {
     "data": {
      "text/html": [
       "<div>\n",
       "<style scoped>\n",
       "    .dataframe tbody tr th:only-of-type {\n",
       "        vertical-align: middle;\n",
       "    }\n",
       "\n",
       "    .dataframe tbody tr th {\n",
       "        vertical-align: top;\n",
       "    }\n",
       "\n",
       "    .dataframe thead th {\n",
       "        text-align: right;\n",
       "    }\n",
       "</style>\n",
       "<table border=\"1\" class=\"dataframe\">\n",
       "  <thead>\n",
       "    <tr style=\"text-align: right;\">\n",
       "      <th></th>\n",
       "      <th>broad_sample</th>\n",
       "      <th>broad_id</th>\n",
       "      <th>pert_iname</th>\n",
       "      <th>InChIKey14</th>\n",
       "      <th>moa</th>\n",
       "      <th>target</th>\n",
       "      <th>broad_date</th>\n",
       "      <th>clinical_phase</th>\n",
       "    </tr>\n",
       "  </thead>\n",
       "  <tbody>\n",
       "    <tr>\n",
       "      <th>0</th>\n",
       "      <td>BRD-K50691590-001-02-2</td>\n",
       "      <td>BRD-K50691590</td>\n",
       "      <td>bortezomib</td>\n",
       "      <td>GXJABQQUPOEUTA</td>\n",
       "      <td>NFkB pathway inhibitor|proteasome inhibitor</td>\n",
       "      <td>PSMA1|PSMA2|PSMA3|PSMA4|PSMA5|PSMA6|PSMA7|PSMA...</td>\n",
       "      <td>deprecated_broad_id_20180907</td>\n",
       "      <td>Launched</td>\n",
       "    </tr>\n",
       "    <tr>\n",
       "      <th>1</th>\n",
       "      <td>BRD-K98733875-001-01-4</td>\n",
       "      <td>BRD-K98733875</td>\n",
       "      <td>baicalin</td>\n",
       "      <td>DAIGSUHCWOZEQG</td>\n",
       "      <td>beta glucuronidase inhibitor</td>\n",
       "      <td>PREP</td>\n",
       "      <td>deprecated_broad_id_20200324</td>\n",
       "      <td>Launched</td>\n",
       "    </tr>\n",
       "    <tr>\n",
       "      <th>2</th>\n",
       "      <td>BRD-K68103045-001-02-9</td>\n",
       "      <td>BRD-K68103045</td>\n",
       "      <td>CGS-20625</td>\n",
       "      <td>UBLXQFIFWUEVGJ</td>\n",
       "      <td>benzodiazepine receptor agonist|GABA benzodiaz...</td>\n",
       "      <td>GABRA1|GABRA2|GABRA3|GABRA4|GABRA5|GABRA6</td>\n",
       "      <td>broad_id_20200324</td>\n",
       "      <td>Phase 1</td>\n",
       "    </tr>\n",
       "    <tr>\n",
       "      <th>3</th>\n",
       "      <td>BRD-K72922393-003-15-2</td>\n",
       "      <td>BRD-K72922393</td>\n",
       "      <td>linsidomine</td>\n",
       "      <td>XZYRDNUZENBYFI</td>\n",
       "      <td>nitric oxide donor</td>\n",
       "      <td>NaN</td>\n",
       "      <td>deprecated_broad_id_20180907</td>\n",
       "      <td>Launched</td>\n",
       "    </tr>\n",
       "    <tr>\n",
       "      <th>4</th>\n",
       "      <td>BRD-K28936863-051-33-0</td>\n",
       "      <td>BRD-K28936863</td>\n",
       "      <td>ketotifen</td>\n",
       "      <td>OVJRNFMIYGGLDL</td>\n",
       "      <td>histamine receptor agonist|leukotriene recepto...</td>\n",
       "      <td>HRH1</td>\n",
       "      <td>broad_id_20200324</td>\n",
       "      <td>Launched</td>\n",
       "    </tr>\n",
       "  </tbody>\n",
       "</table>\n",
       "</div>"
      ],
      "text/plain": [
       "             broad_sample       broad_id   pert_iname      InChIKey14  \\\n",
       "0  BRD-K50691590-001-02-2  BRD-K50691590   bortezomib  GXJABQQUPOEUTA   \n",
       "1  BRD-K98733875-001-01-4  BRD-K98733875     baicalin  DAIGSUHCWOZEQG   \n",
       "2  BRD-K68103045-001-02-9  BRD-K68103045    CGS-20625  UBLXQFIFWUEVGJ   \n",
       "3  BRD-K72922393-003-15-2  BRD-K72922393  linsidomine  XZYRDNUZENBYFI   \n",
       "4  BRD-K28936863-051-33-0  BRD-K28936863    ketotifen  OVJRNFMIYGGLDL   \n",
       "\n",
       "                                                 moa  \\\n",
       "0        NFkB pathway inhibitor|proteasome inhibitor   \n",
       "1                       beta glucuronidase inhibitor   \n",
       "2  benzodiazepine receptor agonist|GABA benzodiaz...   \n",
       "3                                 nitric oxide donor   \n",
       "4  histamine receptor agonist|leukotriene recepto...   \n",
       "\n",
       "                                              target  \\\n",
       "0  PSMA1|PSMA2|PSMA3|PSMA4|PSMA5|PSMA6|PSMA7|PSMA...   \n",
       "1                                               PREP   \n",
       "2          GABRA1|GABRA2|GABRA3|GABRA4|GABRA5|GABRA6   \n",
       "3                                                NaN   \n",
       "4                                               HRH1   \n",
       "\n",
       "                     broad_date clinical_phase  \n",
       "0  deprecated_broad_id_20180907       Launched  \n",
       "1  deprecated_broad_id_20200324       Launched  \n",
       "2             broad_id_20200324        Phase 1  \n",
       "3  deprecated_broad_id_20180907       Launched  \n",
       "4             broad_id_20200324       Launched  "
      ]
     },
     "execution_count": 31,
     "metadata": {},
     "output_type": "execute_result"
    },
    {
     "data": {
      "application/javascript": [
       "\n",
       "            setTimeout(function() {\n",
       "                var nbb_cell_id = 31;\n",
       "                var nbb_unformatted_code = \"# After this step, are there any resolved broad_ids?\\nfirst_step_resolve = platemap_multiple_inchi_select_df.broad_id.value_counts()\\nfirst_step_resolve = list(first_step_resolve[first_step_resolve == 1].index)\\n\\nfirst_step_resolve_df = platemap_multiple_inchi_select_df.query(\\n    \\\"broad_id in @first_step_resolve\\\"\\n).reset_index(drop=True)\\n\\nprint(first_step_resolve_df.shape)\\nfirst_step_resolve_df.head()\";\n",
       "                var nbb_formatted_code = \"# After this step, are there any resolved broad_ids?\\nfirst_step_resolve = platemap_multiple_inchi_select_df.broad_id.value_counts()\\nfirst_step_resolve = list(first_step_resolve[first_step_resolve == 1].index)\\n\\nfirst_step_resolve_df = platemap_multiple_inchi_select_df.query(\\n    \\\"broad_id in @first_step_resolve\\\"\\n).reset_index(drop=True)\\n\\nprint(first_step_resolve_df.shape)\\nfirst_step_resolve_df.head()\";\n",
       "                var nbb_cells = Jupyter.notebook.get_cells();\n",
       "                for (var i = 0; i < nbb_cells.length; ++i) {\n",
       "                    if (nbb_cells[i].input_prompt_number == nbb_cell_id) {\n",
       "                        if (nbb_cells[i].get_text() == nbb_unformatted_code) {\n",
       "                             nbb_cells[i].set_text(nbb_formatted_code);\n",
       "                        }\n",
       "                        break;\n",
       "                    }\n",
       "                }\n",
       "            }, 500);\n",
       "            "
      ],
      "text/plain": [
       "<IPython.core.display.Javascript object>"
      ]
     },
     "metadata": {},
     "output_type": "display_data"
    }
   ],
   "source": [
    "# After this step, are there any resolved broad_ids?\n",
    "first_step_resolve = platemap_multiple_inchi_select_df.broad_id.value_counts()\n",
    "first_step_resolve = list(first_step_resolve[first_step_resolve == 1].index)\n",
    "\n",
    "first_step_resolve_df = platemap_multiple_inchi_select_df.query(\n",
    "    \"broad_id in @first_step_resolve\"\n",
    ").reset_index(drop=True)\n",
    "\n",
    "print(first_step_resolve_df.shape)\n",
    "first_step_resolve_df.head()"
   ]
  },
  {
   "cell_type": "code",
   "execution_count": 32,
   "metadata": {},
   "outputs": [
    {
     "name": "stdout",
     "output_type": "stream",
     "text": [
      "(80, 9)\n"
     ]
    },
    {
     "data": {
      "text/html": [
       "<div>\n",
       "<style scoped>\n",
       "    .dataframe tbody tr th:only-of-type {\n",
       "        vertical-align: middle;\n",
       "    }\n",
       "\n",
       "    .dataframe tbody tr th {\n",
       "        vertical-align: top;\n",
       "    }\n",
       "\n",
       "    .dataframe thead th {\n",
       "        text-align: right;\n",
       "    }\n",
       "</style>\n",
       "<table border=\"1\" class=\"dataframe\">\n",
       "  <thead>\n",
       "    <tr style=\"text-align: right;\">\n",
       "      <th></th>\n",
       "      <th>broad_sample</th>\n",
       "      <th>broad_id</th>\n",
       "      <th>pert_iname</th>\n",
       "      <th>InChIKey14</th>\n",
       "      <th>moa</th>\n",
       "      <th>target</th>\n",
       "      <th>broad_date</th>\n",
       "      <th>clinical_phase</th>\n",
       "      <th>deprecated</th>\n",
       "    </tr>\n",
       "  </thead>\n",
       "  <tbody>\n",
       "    <tr>\n",
       "      <th>63</th>\n",
       "      <td>BRD-A20239487-001-24-9</td>\n",
       "      <td>BRD-A20239487</td>\n",
       "      <td>atenolol-(+)</td>\n",
       "      <td>METKIMKYRPQLGS</td>\n",
       "      <td>adrenergic receptor antagonist</td>\n",
       "      <td>NaN</td>\n",
       "      <td>broad_id_20170327</td>\n",
       "      <td>Preclinical</td>\n",
       "      <td>broad</td>\n",
       "    </tr>\n",
       "    <tr>\n",
       "      <th>64</th>\n",
       "      <td>BRD-A20239487-001-24-9</td>\n",
       "      <td>BRD-A20239487</td>\n",
       "      <td>atenolol-(+/-)</td>\n",
       "      <td>METKIMKYRPQLGS</td>\n",
       "      <td>adrenergic receptor antagonist</td>\n",
       "      <td>ADRB1|ADRB2|LTF|PLA2G2E</td>\n",
       "      <td>broad_id_20170327</td>\n",
       "      <td>Launched</td>\n",
       "      <td>broad</td>\n",
       "    </tr>\n",
       "    <tr>\n",
       "      <th>106</th>\n",
       "      <td>BRD-K78431006-001-10-2</td>\n",
       "      <td>BRD-K78431006</td>\n",
       "      <td>crizotinib</td>\n",
       "      <td>KTEIFNKAUNYNJU</td>\n",
       "      <td>ALK tyrosine kinase receptor inhibitor</td>\n",
       "      <td>ALK|MET</td>\n",
       "      <td>broad_id_20170327</td>\n",
       "      <td>Launched</td>\n",
       "      <td>broad</td>\n",
       "    </tr>\n",
       "    <tr>\n",
       "      <th>107</th>\n",
       "      <td>BRD-K78431006-001-10-2</td>\n",
       "      <td>BRD-K78431006</td>\n",
       "      <td>crizotinib-(S)</td>\n",
       "      <td>KTEIFNKAUNYNJU</td>\n",
       "      <td>MTH1 inhibitor</td>\n",
       "      <td>NUDT1</td>\n",
       "      <td>broad_id_20170327</td>\n",
       "      <td>Preclinical</td>\n",
       "      <td>broad</td>\n",
       "    </tr>\n",
       "    <tr>\n",
       "      <th>118</th>\n",
       "      <td>BRD-A97701745-001-16-0</td>\n",
       "      <td>BRD-A97701745</td>\n",
       "      <td>pindolol</td>\n",
       "      <td>JZQKKSLKJUAGIC</td>\n",
       "      <td>adrenergic receptor antagonist</td>\n",
       "      <td>ADRB1|ADRB2|HTR1A|HTR2A|HTR2B</td>\n",
       "      <td>broad_id_20170327</td>\n",
       "      <td>Launched</td>\n",
       "      <td>broad</td>\n",
       "    </tr>\n",
       "  </tbody>\n",
       "</table>\n",
       "</div>"
      ],
      "text/plain": [
       "               broad_sample       broad_id      pert_iname      InChIKey14  \\\n",
       "63   BRD-A20239487-001-24-9  BRD-A20239487    atenolol-(+)  METKIMKYRPQLGS   \n",
       "64   BRD-A20239487-001-24-9  BRD-A20239487  atenolol-(+/-)  METKIMKYRPQLGS   \n",
       "106  BRD-K78431006-001-10-2  BRD-K78431006      crizotinib  KTEIFNKAUNYNJU   \n",
       "107  BRD-K78431006-001-10-2  BRD-K78431006  crizotinib-(S)  KTEIFNKAUNYNJU   \n",
       "118  BRD-A97701745-001-16-0  BRD-A97701745        pindolol  JZQKKSLKJUAGIC   \n",
       "\n",
       "                                        moa                         target  \\\n",
       "63           adrenergic receptor antagonist                            NaN   \n",
       "64           adrenergic receptor antagonist        ADRB1|ADRB2|LTF|PLA2G2E   \n",
       "106  ALK tyrosine kinase receptor inhibitor                        ALK|MET   \n",
       "107                          MTH1 inhibitor                          NUDT1   \n",
       "118          adrenergic receptor antagonist  ADRB1|ADRB2|HTR1A|HTR2A|HTR2B   \n",
       "\n",
       "            broad_date clinical_phase deprecated  \n",
       "63   broad_id_20170327    Preclinical      broad  \n",
       "64   broad_id_20170327       Launched      broad  \n",
       "106  broad_id_20170327       Launched      broad  \n",
       "107  broad_id_20170327    Preclinical      broad  \n",
       "118  broad_id_20170327       Launched      broad  "
      ]
     },
     "execution_count": 32,
     "metadata": {},
     "output_type": "execute_result"
    },
    {
     "data": {
      "application/javascript": [
       "\n",
       "            setTimeout(function() {\n",
       "                var nbb_cell_id = 32;\n",
       "                var nbb_unformatted_code = \"# Remove these from other broad IDs that need to be resolved\\nplatemap_alternative_inchi_df = platemap_multiple_inchi_select_df.query(\\n    \\\"broad_id not in @first_step_resolve\\\"\\n).drop_duplicates([\\\"broad_id\\\", \\\"moa\\\", \\\"target\\\"])\\n\\nplatemap_alternative_inchi_df = platemap_alternative_inchi_df.assign(\\n    deprecated=[x[0] for x in platemap_alternative_inchi_df.broad_date.str.split(\\\"_\\\")]\\n)\\n\\nassert (\\n    len(platemap_alternative_inchi_df.deprecated.unique()) == 1\\n), \\\"Warning! Deprecated info should not be resolved\\\"\\n\\nprint(platemap_alternative_inchi_df.shape)\\nplatemap_alternative_inchi_df.head()\";\n",
       "                var nbb_formatted_code = \"# Remove these from other broad IDs that need to be resolved\\nplatemap_alternative_inchi_df = platemap_multiple_inchi_select_df.query(\\n    \\\"broad_id not in @first_step_resolve\\\"\\n).drop_duplicates([\\\"broad_id\\\", \\\"moa\\\", \\\"target\\\"])\\n\\nplatemap_alternative_inchi_df = platemap_alternative_inchi_df.assign(\\n    deprecated=[x[0] for x in platemap_alternative_inchi_df.broad_date.str.split(\\\"_\\\")]\\n)\\n\\nassert (\\n    len(platemap_alternative_inchi_df.deprecated.unique()) == 1\\n), \\\"Warning! Deprecated info should not be resolved\\\"\\n\\nprint(platemap_alternative_inchi_df.shape)\\nplatemap_alternative_inchi_df.head()\";\n",
       "                var nbb_cells = Jupyter.notebook.get_cells();\n",
       "                for (var i = 0; i < nbb_cells.length; ++i) {\n",
       "                    if (nbb_cells[i].input_prompt_number == nbb_cell_id) {\n",
       "                        if (nbb_cells[i].get_text() == nbb_unformatted_code) {\n",
       "                             nbb_cells[i].set_text(nbb_formatted_code);\n",
       "                        }\n",
       "                        break;\n",
       "                    }\n",
       "                }\n",
       "            }, 500);\n",
       "            "
      ],
      "text/plain": [
       "<IPython.core.display.Javascript object>"
      ]
     },
     "metadata": {},
     "output_type": "display_data"
    }
   ],
   "source": [
    "# Remove these from other broad IDs that need to be resolved\n",
    "platemap_alternative_inchi_df = platemap_multiple_inchi_select_df.query(\n",
    "    \"broad_id not in @first_step_resolve\"\n",
    ").drop_duplicates([\"broad_id\", \"moa\", \"target\"])\n",
    "\n",
    "platemap_alternative_inchi_df = platemap_alternative_inchi_df.assign(\n",
    "    deprecated=[x[0] for x in platemap_alternative_inchi_df.broad_date.str.split(\"_\")]\n",
    ")\n",
    "\n",
    "assert (\n",
    "    len(platemap_alternative_inchi_df.deprecated.unique()) == 1\n",
    "), \"Warning! Deprecated info should not be resolved\"\n",
    "\n",
    "print(platemap_alternative_inchi_df.shape)\n",
    "platemap_alternative_inchi_df.head()"
   ]
  },
  {
   "cell_type": "code",
   "execution_count": 33,
   "metadata": {},
   "outputs": [
    {
     "name": "stdout",
     "output_type": "stream",
     "text": [
      "(41, 11)\n"
     ]
    },
    {
     "data": {
      "text/html": [
       "<div>\n",
       "<style scoped>\n",
       "    .dataframe tbody tr th:only-of-type {\n",
       "        vertical-align: middle;\n",
       "    }\n",
       "\n",
       "    .dataframe tbody tr th {\n",
       "        vertical-align: top;\n",
       "    }\n",
       "\n",
       "    .dataframe thead th {\n",
       "        text-align: right;\n",
       "    }\n",
       "</style>\n",
       "<table border=\"1\" class=\"dataframe\">\n",
       "  <thead>\n",
       "    <tr style=\"text-align: right;\">\n",
       "      <th></th>\n",
       "      <th>broad_sample</th>\n",
       "      <th>broad_id</th>\n",
       "      <th>pert_iname</th>\n",
       "      <th>InChIKey14</th>\n",
       "      <th>moa</th>\n",
       "      <th>target</th>\n",
       "      <th>broad_date</th>\n",
       "      <th>clinical_phase</th>\n",
       "      <th>deprecated</th>\n",
       "      <th>alternative_moa</th>\n",
       "      <th>alternative_target</th>\n",
       "    </tr>\n",
       "  </thead>\n",
       "  <tbody>\n",
       "    <tr>\n",
       "      <th>0</th>\n",
       "      <td>BRD-A20239487-001-24-9</td>\n",
       "      <td>BRD-A20239487</td>\n",
       "      <td>atenolol-(+)</td>\n",
       "      <td>METKIMKYRPQLGS</td>\n",
       "      <td>adrenergic receptor antagonist</td>\n",
       "      <td>NaN</td>\n",
       "      <td>broad_id_20170327</td>\n",
       "      <td>Preclinical</td>\n",
       "      <td>broad</td>\n",
       "      <td>adrenergic receptor antagonist</td>\n",
       "      <td>ADRB1|ADRB2|LTF|PLA2G2E</td>\n",
       "    </tr>\n",
       "    <tr>\n",
       "      <th>0</th>\n",
       "      <td>BRD-K78431006-001-10-2</td>\n",
       "      <td>BRD-K78431006</td>\n",
       "      <td>crizotinib</td>\n",
       "      <td>KTEIFNKAUNYNJU</td>\n",
       "      <td>ALK tyrosine kinase receptor inhibitor</td>\n",
       "      <td>ALK|MET</td>\n",
       "      <td>broad_id_20170327</td>\n",
       "      <td>Launched</td>\n",
       "      <td>broad</td>\n",
       "      <td>MTH1 inhibitor</td>\n",
       "      <td>NUDT1</td>\n",
       "    </tr>\n",
       "    <tr>\n",
       "      <th>0</th>\n",
       "      <td>BRD-A97701745-001-16-0</td>\n",
       "      <td>BRD-A97701745</td>\n",
       "      <td>pindolol</td>\n",
       "      <td>JZQKKSLKJUAGIC</td>\n",
       "      <td>adrenergic receptor antagonist</td>\n",
       "      <td>ADRB1|ADRB2|HTR1A|HTR2A|HTR2B</td>\n",
       "      <td>broad_id_20170327</td>\n",
       "      <td>Launched</td>\n",
       "      <td>broad</td>\n",
       "      <td>adrenergic receptor antagonist|serotonin recep...</td>\n",
       "      <td>HTR1A</td>\n",
       "    </tr>\n",
       "    <tr>\n",
       "      <th>0</th>\n",
       "      <td>BRD-K87300616-001-01-9</td>\n",
       "      <td>BRD-K87300616</td>\n",
       "      <td>chenodeoxycholic-acid</td>\n",
       "      <td>RUDATBOHQWOJDD</td>\n",
       "      <td>11-beta hydroxysteroid dehydrogenase inhibitor...</td>\n",
       "      <td>HSD11B1|NR1H4</td>\n",
       "      <td>broad_id_20170327</td>\n",
       "      <td>Launched</td>\n",
       "      <td>broad</td>\n",
       "      <td>nuclear factor erythroid derived|like (NRF2) a...</td>\n",
       "      <td>AKR1C2|NR1H4</td>\n",
       "    </tr>\n",
       "    <tr>\n",
       "      <th>0</th>\n",
       "      <td>BRD-A05457250-001-05-0</td>\n",
       "      <td>BRD-A05457250</td>\n",
       "      <td>BAY-K-8644-(+/-)</td>\n",
       "      <td>ZFLWDHHVRRZMEI</td>\n",
       "      <td>L-type calcium channel blocker</td>\n",
       "      <td>NaN</td>\n",
       "      <td>broad_id_20170327</td>\n",
       "      <td>Preclinical</td>\n",
       "      <td>broad</td>\n",
       "      <td>L-type calcium channel activator</td>\n",
       "      <td>CACNA1C</td>\n",
       "    </tr>\n",
       "  </tbody>\n",
       "</table>\n",
       "</div>"
      ],
      "text/plain": [
       "             broad_sample       broad_id             pert_iname  \\\n",
       "0  BRD-A20239487-001-24-9  BRD-A20239487           atenolol-(+)   \n",
       "0  BRD-K78431006-001-10-2  BRD-K78431006             crizotinib   \n",
       "0  BRD-A97701745-001-16-0  BRD-A97701745               pindolol   \n",
       "0  BRD-K87300616-001-01-9  BRD-K87300616  chenodeoxycholic-acid   \n",
       "0  BRD-A05457250-001-05-0  BRD-A05457250       BAY-K-8644-(+/-)   \n",
       "\n",
       "       InChIKey14                                                moa  \\\n",
       "0  METKIMKYRPQLGS                     adrenergic receptor antagonist   \n",
       "0  KTEIFNKAUNYNJU             ALK tyrosine kinase receptor inhibitor   \n",
       "0  JZQKKSLKJUAGIC                     adrenergic receptor antagonist   \n",
       "0  RUDATBOHQWOJDD  11-beta hydroxysteroid dehydrogenase inhibitor...   \n",
       "0  ZFLWDHHVRRZMEI                     L-type calcium channel blocker   \n",
       "\n",
       "                          target         broad_date clinical_phase deprecated  \\\n",
       "0                            NaN  broad_id_20170327    Preclinical      broad   \n",
       "0                        ALK|MET  broad_id_20170327       Launched      broad   \n",
       "0  ADRB1|ADRB2|HTR1A|HTR2A|HTR2B  broad_id_20170327       Launched      broad   \n",
       "0                  HSD11B1|NR1H4  broad_id_20170327       Launched      broad   \n",
       "0                            NaN  broad_id_20170327    Preclinical      broad   \n",
       "\n",
       "                                     alternative_moa       alternative_target  \n",
       "0                     adrenergic receptor antagonist  ADRB1|ADRB2|LTF|PLA2G2E  \n",
       "0                                     MTH1 inhibitor                    NUDT1  \n",
       "0  adrenergic receptor antagonist|serotonin recep...                    HTR1A  \n",
       "0  nuclear factor erythroid derived|like (NRF2) a...             AKR1C2|NR1H4  \n",
       "0                   L-type calcium channel activator                  CACNA1C  "
      ]
     },
     "execution_count": 33,
     "metadata": {},
     "output_type": "execute_result"
    },
    {
     "data": {
      "application/javascript": [
       "\n",
       "            setTimeout(function() {\n",
       "                var nbb_cell_id = 33;\n",
       "                var nbb_unformatted_code = \"# Now resolve the remaining broad_ids\\nalternative_resolved_df = []\\nfor broad_id in platemap_alternative_inchi_df.broad_id.unique():\\n    subset_platemap_alternative_inchi_df = platemap_alternative_inchi_df.query(\\n        \\\"broad_id == @broad_id\\\"\\n    ).reset_index(drop=True)\\n\\n    primary_moa_df = subset_platemap_alternative_inchi_df.iloc[0, :]\\n    alternative_moa_df = subset_platemap_alternative_inchi_df.drop(\\n        primary_moa_df.name, axis=\\\"rows\\\"\\n    )\\n\\n    moa_join = alternative_delim.join([str(x) for x in alternative_moa_df.moa.tolist()])\\n    target_join = alternative_delim.join(\\n        [str(x) for x in alternative_moa_df.target.tolist()]\\n    )\\n    alternative_resolved_df.append(\\n        pd.DataFrame(primary_moa_df)\\n        .transpose()\\n        .assign(alternative_moa=moa_join, alternative_target=target_join)\\n    )\\n\\nalternative_resolved_df = pd.concat(alternative_resolved_df)\\n\\nassert sorted(alternative_resolved_df.broad_id) == sorted(\\n    platemap_alternative_inchi_df.broad_id.unique()\\n), \\\"Warning, something went missing along the way\\\"\\n\\nassert (\\n    alternative_resolved_df.broad_id.value_counts().sum()\\n    == alternative_resolved_df.shape[0]\\n), \\\"Warning, there are still duplicate broad_ids\\\"\\n\\nprint(alternative_resolved_df.shape)\\nalternative_resolved_df.head()\";\n",
       "                var nbb_formatted_code = \"# Now resolve the remaining broad_ids\\nalternative_resolved_df = []\\nfor broad_id in platemap_alternative_inchi_df.broad_id.unique():\\n    subset_platemap_alternative_inchi_df = platemap_alternative_inchi_df.query(\\n        \\\"broad_id == @broad_id\\\"\\n    ).reset_index(drop=True)\\n\\n    primary_moa_df = subset_platemap_alternative_inchi_df.iloc[0, :]\\n    alternative_moa_df = subset_platemap_alternative_inchi_df.drop(\\n        primary_moa_df.name, axis=\\\"rows\\\"\\n    )\\n\\n    moa_join = alternative_delim.join([str(x) for x in alternative_moa_df.moa.tolist()])\\n    target_join = alternative_delim.join(\\n        [str(x) for x in alternative_moa_df.target.tolist()]\\n    )\\n    alternative_resolved_df.append(\\n        pd.DataFrame(primary_moa_df)\\n        .transpose()\\n        .assign(alternative_moa=moa_join, alternative_target=target_join)\\n    )\\n\\nalternative_resolved_df = pd.concat(alternative_resolved_df)\\n\\nassert sorted(alternative_resolved_df.broad_id) == sorted(\\n    platemap_alternative_inchi_df.broad_id.unique()\\n), \\\"Warning, something went missing along the way\\\"\\n\\nassert (\\n    alternative_resolved_df.broad_id.value_counts().sum()\\n    == alternative_resolved_df.shape[0]\\n), \\\"Warning, there are still duplicate broad_ids\\\"\\n\\nprint(alternative_resolved_df.shape)\\nalternative_resolved_df.head()\";\n",
       "                var nbb_cells = Jupyter.notebook.get_cells();\n",
       "                for (var i = 0; i < nbb_cells.length; ++i) {\n",
       "                    if (nbb_cells[i].input_prompt_number == nbb_cell_id) {\n",
       "                        if (nbb_cells[i].get_text() == nbb_unformatted_code) {\n",
       "                             nbb_cells[i].set_text(nbb_formatted_code);\n",
       "                        }\n",
       "                        break;\n",
       "                    }\n",
       "                }\n",
       "            }, 500);\n",
       "            "
      ],
      "text/plain": [
       "<IPython.core.display.Javascript object>"
      ]
     },
     "metadata": {},
     "output_type": "display_data"
    }
   ],
   "source": [
    "# Now resolve the remaining broad_ids\n",
    "alternative_resolved_df = []\n",
    "for broad_id in platemap_alternative_inchi_df.broad_id.unique():\n",
    "    subset_platemap_alternative_inchi_df = platemap_alternative_inchi_df.query(\n",
    "        \"broad_id == @broad_id\"\n",
    "    ).reset_index(drop=True)\n",
    "\n",
    "    primary_moa_df = subset_platemap_alternative_inchi_df.iloc[0, :]\n",
    "    alternative_moa_df = subset_platemap_alternative_inchi_df.drop(\n",
    "        primary_moa_df.name, axis=\"rows\"\n",
    "    )\n",
    "\n",
    "    moa_join = alternative_delim.join([str(x) for x in alternative_moa_df.moa.tolist()])\n",
    "    target_join = alternative_delim.join(\n",
    "        [str(x) for x in alternative_moa_df.target.tolist()]\n",
    "    )\n",
    "    alternative_resolved_df.append(\n",
    "        pd.DataFrame(primary_moa_df)\n",
    "        .transpose()\n",
    "        .assign(alternative_moa=moa_join, alternative_target=target_join)\n",
    "    )\n",
    "\n",
    "alternative_resolved_df = pd.concat(alternative_resolved_df)\n",
    "\n",
    "assert sorted(alternative_resolved_df.broad_id) == sorted(\n",
    "    platemap_alternative_inchi_df.broad_id.unique()\n",
    "), \"Warning, something went missing along the way\"\n",
    "\n",
    "assert (\n",
    "    alternative_resolved_df.broad_id.value_counts().sum()\n",
    "    == alternative_resolved_df.shape[0]\n",
    "), \"Warning, there are still duplicate broad_ids\"\n",
    "\n",
    "print(alternative_resolved_df.shape)\n",
    "alternative_resolved_df.head()"
   ]
  },
  {
   "cell_type": "markdown",
   "metadata": {},
   "source": [
    "## Step 7 - Combine Annotated Platemap with Resolution"
   ]
  },
  {
   "cell_type": "code",
   "execution_count": 34,
   "metadata": {},
   "outputs": [
    {
     "data": {
      "application/javascript": [
       "\n",
       "            setTimeout(function() {\n",
       "                var nbb_cell_id = 34;\n",
       "                var nbb_unformatted_code = \"# First, remove the broad_ids that needed to be resolved\\nresolved_broad_ids = (\\n    alternative_resolved_df.broad_id.tolist() + first_step_resolve_df.broad_id.tolist()\\n)\\n\\nplatemap_moa_easy_df = platemap_moa_df.query(\\\"broad_id not in @resolved_broad_ids\\\")\\n\\nassert (\\n    platemap_moa_easy_df.broad_id.value_counts().sum() == platemap_moa_easy_df.shape[0]\\n), \\\"Error, there are still broad_ids that require resolution\\\"\";\n",
       "                var nbb_formatted_code = \"# First, remove the broad_ids that needed to be resolved\\nresolved_broad_ids = (\\n    alternative_resolved_df.broad_id.tolist() + first_step_resolve_df.broad_id.tolist()\\n)\\n\\nplatemap_moa_easy_df = platemap_moa_df.query(\\\"broad_id not in @resolved_broad_ids\\\")\\n\\nassert (\\n    platemap_moa_easy_df.broad_id.value_counts().sum() == platemap_moa_easy_df.shape[0]\\n), \\\"Error, there are still broad_ids that require resolution\\\"\";\n",
       "                var nbb_cells = Jupyter.notebook.get_cells();\n",
       "                for (var i = 0; i < nbb_cells.length; ++i) {\n",
       "                    if (nbb_cells[i].input_prompt_number == nbb_cell_id) {\n",
       "                        if (nbb_cells[i].get_text() == nbb_unformatted_code) {\n",
       "                             nbb_cells[i].set_text(nbb_formatted_code);\n",
       "                        }\n",
       "                        break;\n",
       "                    }\n",
       "                }\n",
       "            }, 500);\n",
       "            "
      ],
      "text/plain": [
       "<IPython.core.display.Javascript object>"
      ]
     },
     "metadata": {},
     "output_type": "display_data"
    }
   ],
   "source": [
    "# First, remove the broad_ids that needed to be resolved\n",
    "resolved_broad_ids = (\n",
    "    alternative_resolved_df.broad_id.tolist() + first_step_resolve_df.broad_id.tolist()\n",
    ")\n",
    "\n",
    "platemap_moa_easy_df = platemap_moa_df.query(\"broad_id not in @resolved_broad_ids\")\n",
    "\n",
    "assert (\n",
    "    platemap_moa_easy_df.broad_id.value_counts().sum() == platemap_moa_easy_df.shape[0]\n",
    "), \"Error, there are still broad_ids that require resolution\""
   ]
  },
  {
   "cell_type": "code",
   "execution_count": 35,
   "metadata": {},
   "outputs": [
    {
     "data": {
      "application/javascript": [
       "\n",
       "            setTimeout(function() {\n",
       "                var nbb_cell_id = 35;\n",
       "                var nbb_unformatted_code = \"platemap_moa_easy_df = platemap_moa_easy_df.assign(\\n    alternative_moa=np.nan, alternative_target=np.nan\\n)\\n\\nfirst_step_resolve_df = first_step_resolve_df.assign(\\n    alternative_moa=np.nan, alternative_target=np.nan\\n)\";\n",
       "                var nbb_formatted_code = \"platemap_moa_easy_df = platemap_moa_easy_df.assign(\\n    alternative_moa=np.nan, alternative_target=np.nan\\n)\\n\\nfirst_step_resolve_df = first_step_resolve_df.assign(\\n    alternative_moa=np.nan, alternative_target=np.nan\\n)\";\n",
       "                var nbb_cells = Jupyter.notebook.get_cells();\n",
       "                for (var i = 0; i < nbb_cells.length; ++i) {\n",
       "                    if (nbb_cells[i].input_prompt_number == nbb_cell_id) {\n",
       "                        if (nbb_cells[i].get_text() == nbb_unformatted_code) {\n",
       "                             nbb_cells[i].set_text(nbb_formatted_code);\n",
       "                        }\n",
       "                        break;\n",
       "                    }\n",
       "                }\n",
       "            }, 500);\n",
       "            "
      ],
      "text/plain": [
       "<IPython.core.display.Javascript object>"
      ]
     },
     "metadata": {},
     "output_type": "display_data"
    }
   ],
   "source": [
    "platemap_moa_easy_df = platemap_moa_easy_df.assign(\n",
    "    alternative_moa=np.nan, alternative_target=np.nan\n",
    ")\n",
    "\n",
    "first_step_resolve_df = first_step_resolve_df.assign(\n",
    "    alternative_moa=np.nan, alternative_target=np.nan\n",
    ")"
   ]
  },
  {
   "cell_type": "code",
   "execution_count": 36,
   "metadata": {},
   "outputs": [
    {
     "name": "stdout",
     "output_type": "stream",
     "text": [
      "(1570, 10)\n"
     ]
    },
    {
     "data": {
      "text/html": [
       "<div>\n",
       "<style scoped>\n",
       "    .dataframe tbody tr th:only-of-type {\n",
       "        vertical-align: middle;\n",
       "    }\n",
       "\n",
       "    .dataframe tbody tr th {\n",
       "        vertical-align: top;\n",
       "    }\n",
       "\n",
       "    .dataframe thead th {\n",
       "        text-align: right;\n",
       "    }\n",
       "</style>\n",
       "<table border=\"1\" class=\"dataframe\">\n",
       "  <thead>\n",
       "    <tr style=\"text-align: right;\">\n",
       "      <th></th>\n",
       "      <th>broad_sample</th>\n",
       "      <th>broad_id</th>\n",
       "      <th>pert_iname</th>\n",
       "      <th>InChIKey14</th>\n",
       "      <th>moa</th>\n",
       "      <th>target</th>\n",
       "      <th>broad_date</th>\n",
       "      <th>clinical_phase</th>\n",
       "      <th>alternative_moa</th>\n",
       "      <th>alternative_target</th>\n",
       "    </tr>\n",
       "  </thead>\n",
       "  <tbody>\n",
       "    <tr>\n",
       "      <th>0</th>\n",
       "      <td>BRD-A00147595-001-01-5</td>\n",
       "      <td>BRD-A00147595</td>\n",
       "      <td>balaglitazone</td>\n",
       "      <td>IETKPTYAGKZLKY</td>\n",
       "      <td>insulin sensitizer|PPAR receptor partial agonist</td>\n",
       "      <td>PPARG</td>\n",
       "      <td>broad_id_20170327</td>\n",
       "      <td>Phase 3</td>\n",
       "      <td>NaN</td>\n",
       "      <td>NaN</td>\n",
       "    </tr>\n",
       "    <tr>\n",
       "      <th>1</th>\n",
       "      <td>BRD-A00218260-001-03-4</td>\n",
       "      <td>BRD-A00218260</td>\n",
       "      <td>flutrimazole</td>\n",
       "      <td>QHMWCHQXCUNUAK</td>\n",
       "      <td>sterol demethylase inhibitor</td>\n",
       "      <td>NaN</td>\n",
       "      <td>broad_id_20170327</td>\n",
       "      <td>Launched</td>\n",
       "      <td>NaN</td>\n",
       "      <td>NaN</td>\n",
       "    </tr>\n",
       "    <tr>\n",
       "      <th>2</th>\n",
       "      <td>BRD-A00376169-001-01-6</td>\n",
       "      <td>BRD-A00376169</td>\n",
       "      <td>KBG</td>\n",
       "      <td>FOLRUCXBTYDAQK</td>\n",
       "      <td>neprilysin inhibitor</td>\n",
       "      <td>MME</td>\n",
       "      <td>broad_id_20170327</td>\n",
       "      <td>Phase 2</td>\n",
       "      <td>NaN</td>\n",
       "      <td>NaN</td>\n",
       "    </tr>\n",
       "    <tr>\n",
       "      <th>3</th>\n",
       "      <td>BRD-A00546892-001-02-6</td>\n",
       "      <td>BRD-A00546892</td>\n",
       "      <td>biperiden</td>\n",
       "      <td>YSXKPIUOCJLQIE</td>\n",
       "      <td>acetylcholine receptor antagonist</td>\n",
       "      <td>CHRM1|CHRM2|CHRM3|CHRM4|CHRM5</td>\n",
       "      <td>broad_id_20170327</td>\n",
       "      <td>Launched</td>\n",
       "      <td>NaN</td>\n",
       "      <td>NaN</td>\n",
       "    </tr>\n",
       "    <tr>\n",
       "      <th>4</th>\n",
       "      <td>BRD-A00938334-001-01-3</td>\n",
       "      <td>BRD-A00938334</td>\n",
       "      <td>drospirenone</td>\n",
       "      <td>METQSPRSQINEEU</td>\n",
       "      <td>mineralocorticoid receptor antagonist</td>\n",
       "      <td>AR|NR3C2|PGR</td>\n",
       "      <td>broad_id_20170327</td>\n",
       "      <td>Launched</td>\n",
       "      <td>NaN</td>\n",
       "      <td>NaN</td>\n",
       "    </tr>\n",
       "  </tbody>\n",
       "</table>\n",
       "</div>"
      ],
      "text/plain": [
       "             broad_sample       broad_id     pert_iname      InChIKey14  \\\n",
       "0  BRD-A00147595-001-01-5  BRD-A00147595  balaglitazone  IETKPTYAGKZLKY   \n",
       "1  BRD-A00218260-001-03-4  BRD-A00218260   flutrimazole  QHMWCHQXCUNUAK   \n",
       "2  BRD-A00376169-001-01-6  BRD-A00376169            KBG  FOLRUCXBTYDAQK   \n",
       "3  BRD-A00546892-001-02-6  BRD-A00546892      biperiden  YSXKPIUOCJLQIE   \n",
       "4  BRD-A00938334-001-01-3  BRD-A00938334   drospirenone  METQSPRSQINEEU   \n",
       "\n",
       "                                                moa  \\\n",
       "0  insulin sensitizer|PPAR receptor partial agonist   \n",
       "1                      sterol demethylase inhibitor   \n",
       "2                              neprilysin inhibitor   \n",
       "3                 acetylcholine receptor antagonist   \n",
       "4             mineralocorticoid receptor antagonist   \n",
       "\n",
       "                          target         broad_date clinical_phase  \\\n",
       "0                          PPARG  broad_id_20170327        Phase 3   \n",
       "1                            NaN  broad_id_20170327       Launched   \n",
       "2                            MME  broad_id_20170327        Phase 2   \n",
       "3  CHRM1|CHRM2|CHRM3|CHRM4|CHRM5  broad_id_20170327       Launched   \n",
       "4                   AR|NR3C2|PGR  broad_id_20170327       Launched   \n",
       "\n",
       "  alternative_moa alternative_target  \n",
       "0             NaN                NaN  \n",
       "1             NaN                NaN  \n",
       "2             NaN                NaN  \n",
       "3             NaN                NaN  \n",
       "4             NaN                NaN  "
      ]
     },
     "execution_count": 36,
     "metadata": {},
     "output_type": "execute_result"
    },
    {
     "data": {
      "application/javascript": [
       "\n",
       "            setTimeout(function() {\n",
       "                var nbb_cell_id = 36;\n",
       "                var nbb_unformatted_code = \"moa_map_df = (\\n    pd.concat([platemap_moa_easy_df, first_step_resolve_df, alternative_resolved_df])\\n    .sort_values(by=\\\"broad_id\\\")\\n    .reset_index(drop=True)\\n    .drop(\\\"deprecated\\\", axis=\\\"columns\\\")\\n)\\n\\nassert (\\n    moa_map_df.broad_id.value_counts().sum() == moa_map_df.shape[0]\\n), \\\"Error, broad_ids have been duplicated somewhere along the way\\\"\\n\\nprint(moa_map_df.shape)\\nmoa_map_df.head()\";\n",
       "                var nbb_formatted_code = \"moa_map_df = (\\n    pd.concat([platemap_moa_easy_df, first_step_resolve_df, alternative_resolved_df])\\n    .sort_values(by=\\\"broad_id\\\")\\n    .reset_index(drop=True)\\n    .drop(\\\"deprecated\\\", axis=\\\"columns\\\")\\n)\\n\\nassert (\\n    moa_map_df.broad_id.value_counts().sum() == moa_map_df.shape[0]\\n), \\\"Error, broad_ids have been duplicated somewhere along the way\\\"\\n\\nprint(moa_map_df.shape)\\nmoa_map_df.head()\";\n",
       "                var nbb_cells = Jupyter.notebook.get_cells();\n",
       "                for (var i = 0; i < nbb_cells.length; ++i) {\n",
       "                    if (nbb_cells[i].input_prompt_number == nbb_cell_id) {\n",
       "                        if (nbb_cells[i].get_text() == nbb_unformatted_code) {\n",
       "                             nbb_cells[i].set_text(nbb_formatted_code);\n",
       "                        }\n",
       "                        break;\n",
       "                    }\n",
       "                }\n",
       "            }, 500);\n",
       "            "
      ],
      "text/plain": [
       "<IPython.core.display.Javascript object>"
      ]
     },
     "metadata": {},
     "output_type": "display_data"
    }
   ],
   "source": [
    "moa_map_df = (\n",
    "    pd.concat([platemap_moa_easy_df, first_step_resolve_df, alternative_resolved_df])\n",
    "    .sort_values(by=\"broad_id\")\n",
    "    .reset_index(drop=True)\n",
    "    .drop(\"deprecated\", axis=\"columns\")\n",
    ")\n",
    "\n",
    "assert (\n",
    "    moa_map_df.broad_id.value_counts().sum() == moa_map_df.shape[0]\n",
    "), \"Error, broad_ids have been duplicated somewhere along the way\"\n",
    "\n",
    "print(moa_map_df.shape)\n",
    "moa_map_df.head()"
   ]
  },
  {
   "cell_type": "code",
   "execution_count": 37,
   "metadata": {},
   "outputs": [
    {
     "data": {
      "text/plain": [
       "broad_id_20170327               1540\n",
       "broad_id_20200324                  7\n",
       "deprecated_broad_id_20180907       3\n",
       "deprecated_broad_id_20180516       1\n",
       "deprecated_broad_id_20200324       1\n",
       "Name: broad_date, dtype: int64"
      ]
     },
     "execution_count": 37,
     "metadata": {},
     "output_type": "execute_result"
    },
    {
     "data": {
      "application/javascript": [
       "\n",
       "            setTimeout(function() {\n",
       "                var nbb_cell_id = 37;\n",
       "                var nbb_unformatted_code = \"# Interpretation: This is the CLUE version the 2020 CLUE version (most recent) used to map\\nmoa_map_df.broad_date.value_counts()\";\n",
       "                var nbb_formatted_code = \"# Interpretation: This is the CLUE version the 2020 CLUE version (most recent) used to map\\nmoa_map_df.broad_date.value_counts()\";\n",
       "                var nbb_cells = Jupyter.notebook.get_cells();\n",
       "                for (var i = 0; i < nbb_cells.length; ++i) {\n",
       "                    if (nbb_cells[i].input_prompt_number == nbb_cell_id) {\n",
       "                        if (nbb_cells[i].get_text() == nbb_unformatted_code) {\n",
       "                             nbb_cells[i].set_text(nbb_formatted_code);\n",
       "                        }\n",
       "                        break;\n",
       "                    }\n",
       "                }\n",
       "            }, 500);\n",
       "            "
      ],
      "text/plain": [
       "<IPython.core.display.Javascript object>"
      ]
     },
     "metadata": {},
     "output_type": "display_data"
    }
   ],
   "source": [
    "# Interpretation: This is the CLUE version the 2020 CLUE version (most recent) used to map\n",
    "moa_map_df.broad_date.value_counts()"
   ]
  },
  {
   "cell_type": "code",
   "execution_count": 38,
   "metadata": {},
   "outputs": [
    {
     "data": {
      "application/javascript": [
       "\n",
       "            setTimeout(function() {\n",
       "                var nbb_cell_id = 38;\n",
       "                var nbb_unformatted_code = \"map_output_file = \\\"repurposing_info_external_moa_map_resolved.tsv\\\"\\nmoa_map_df.to_csv(map_output_file, sep=\\\"\\\\t\\\", index=False)\";\n",
       "                var nbb_formatted_code = \"map_output_file = \\\"repurposing_info_external_moa_map_resolved.tsv\\\"\\nmoa_map_df.to_csv(map_output_file, sep=\\\"\\\\t\\\", index=False)\";\n",
       "                var nbb_cells = Jupyter.notebook.get_cells();\n",
       "                for (var i = 0; i < nbb_cells.length; ++i) {\n",
       "                    if (nbb_cells[i].input_prompt_number == nbb_cell_id) {\n",
       "                        if (nbb_cells[i].get_text() == nbb_unformatted_code) {\n",
       "                             nbb_cells[i].set_text(nbb_formatted_code);\n",
       "                        }\n",
       "                        break;\n",
       "                    }\n",
       "                }\n",
       "            }, 500);\n",
       "            "
      ],
      "text/plain": [
       "<IPython.core.display.Javascript object>"
      ]
     },
     "metadata": {},
     "output_type": "display_data"
    }
   ],
   "source": [
    "map_output_file = \"repurposing_info_external_moa_map_resolved.tsv\"\n",
    "moa_map_df.to_csv(map_output_file, sep=\"\\t\", index=False)"
   ]
  },
  {
   "cell_type": "code",
   "execution_count": 39,
   "metadata": {},
   "outputs": [
    {
     "data": {
      "text/html": [
       "<div>\n",
       "<style scoped>\n",
       "    .dataframe tbody tr th:only-of-type {\n",
       "        vertical-align: middle;\n",
       "    }\n",
       "\n",
       "    .dataframe tbody tr th {\n",
       "        vertical-align: top;\n",
       "    }\n",
       "\n",
       "    .dataframe thead th {\n",
       "        text-align: right;\n",
       "    }\n",
       "</style>\n",
       "<table border=\"1\" class=\"dataframe\">\n",
       "  <thead>\n",
       "    <tr style=\"text-align: right;\">\n",
       "      <th></th>\n",
       "      <th>count</th>\n",
       "    </tr>\n",
       "  </thead>\n",
       "  <tbody>\n",
       "    <tr>\n",
       "      <th>All Unique Broad IDs</th>\n",
       "      <td>1570</td>\n",
       "    </tr>\n",
       "    <tr>\n",
       "      <th>One-to-One Mapping</th>\n",
       "      <td>1497</td>\n",
       "    </tr>\n",
       "    <tr>\n",
       "      <th>Missing InChiKey14</th>\n",
       "      <td>18</td>\n",
       "    </tr>\n",
       "    <tr>\n",
       "      <th>Duplicate InChIKey14 with both MOA/Target Missing</th>\n",
       "      <td>14</td>\n",
       "    </tr>\n",
       "    <tr>\n",
       "      <th>Duplicate InChIKey14 requires alternative MOA/Target annotations</th>\n",
       "      <td>41</td>\n",
       "    </tr>\n",
       "  </tbody>\n",
       "</table>\n",
       "</div>"
      ],
      "text/plain": [
       "                                                    count\n",
       "All Unique Broad IDs                                 1570\n",
       "One-to-One Mapping                                   1497\n",
       "Missing InChiKey14                                     18\n",
       "Duplicate InChIKey14 with both MOA/Target Missing      14\n",
       "Duplicate InChIKey14 requires alternative MOA/T...     41"
      ]
     },
     "execution_count": 39,
     "metadata": {},
     "output_type": "execute_result"
    },
    {
     "data": {
      "application/javascript": [
       "\n",
       "            setTimeout(function() {\n",
       "                var nbb_cell_id = 39;\n",
       "                var nbb_unformatted_code = \"pd.DataFrame(\\n    {\\n        \\\"All Unique Broad IDs\\\": len(all_unique_broad_platemap_ids),\\n        \\\"One-to-One Mapping\\\": platemap_moa_easy_df.query(\\n            \\\"broad_id not in list(@missing_inchi_key)\\\"\\n        ).shape[0],\\n        \\\"Missing InChiKey14\\\": len(missing_inchi_key),\\n        \\\"Duplicate InChIKey14 with both MOA/Target Missing\\\": first_step_resolve_df.shape[\\n            0\\n        ],\\n        \\\"Duplicate InChIKey14 requires alternative MOA/Target annotations\\\": alternative_resolved_df.shape[\\n            0\\n        ],\\n    },\\n    index=[\\\"count\\\"],\\n).transpose()\";\n",
       "                var nbb_formatted_code = \"pd.DataFrame(\\n    {\\n        \\\"All Unique Broad IDs\\\": len(all_unique_broad_platemap_ids),\\n        \\\"One-to-One Mapping\\\": platemap_moa_easy_df.query(\\n            \\\"broad_id not in list(@missing_inchi_key)\\\"\\n        ).shape[0],\\n        \\\"Missing InChiKey14\\\": len(missing_inchi_key),\\n        \\\"Duplicate InChIKey14 with both MOA/Target Missing\\\": first_step_resolve_df.shape[\\n            0\\n        ],\\n        \\\"Duplicate InChIKey14 requires alternative MOA/Target annotations\\\": alternative_resolved_df.shape[\\n            0\\n        ],\\n    },\\n    index=[\\\"count\\\"],\\n).transpose()\";\n",
       "                var nbb_cells = Jupyter.notebook.get_cells();\n",
       "                for (var i = 0; i < nbb_cells.length; ++i) {\n",
       "                    if (nbb_cells[i].input_prompt_number == nbb_cell_id) {\n",
       "                        if (nbb_cells[i].get_text() == nbb_unformatted_code) {\n",
       "                             nbb_cells[i].set_text(nbb_formatted_code);\n",
       "                        }\n",
       "                        break;\n",
       "                    }\n",
       "                }\n",
       "            }, 500);\n",
       "            "
      ],
      "text/plain": [
       "<IPython.core.display.Javascript object>"
      ]
     },
     "metadata": {},
     "output_type": "display_data"
    }
   ],
   "source": [
    "pd.DataFrame(\n",
    "    {\n",
    "        \"All Unique Broad IDs\": len(all_unique_broad_platemap_ids),\n",
    "        \"One-to-One Mapping\": platemap_moa_easy_df.query(\n",
    "            \"broad_id not in list(@missing_inchi_key)\"\n",
    "        ).shape[0],\n",
    "        \"Missing InChiKey14\": len(missing_inchi_key),\n",
    "        \"Duplicate InChIKey14 with both MOA/Target Missing\": first_step_resolve_df.shape[\n",
    "            0\n",
    "        ],\n",
    "        \"Duplicate InChIKey14 requires alternative MOA/Target annotations\": alternative_resolved_df.shape[\n",
    "            0\n",
    "        ],\n",
    "    },\n",
    "    index=[\"count\"],\n",
    ").transpose()"
   ]
  }
 ],
 "metadata": {
  "kernelspec": {
   "display_name": "Python 3",
   "language": "python",
   "name": "python3"
  },
  "language_info": {
   "codemirror_mode": {
    "name": "ipython",
    "version": 3
   },
   "file_extension": ".py",
   "mimetype": "text/x-python",
   "name": "python",
   "nbconvert_exporter": "python",
   "pygments_lexer": "ipython3",
   "version": "3.7.6"
  }
 },
 "nbformat": 4,
 "nbformat_minor": 4
}
