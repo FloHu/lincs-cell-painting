{
 "cells": [
  {
   "cell_type": "markdown",
   "id": "06db20df",
   "metadata": {},
   "source": [
    "## Generate consensus signatures of spherized profiles\n",
    "\n",
    "In `spherize-batch-effects.ipynb`, we performed feature selection and spherized level 4 profiles.\n",
    "Here, we acquire consensus signatures for these spherized data."
   ]
  },
  {
   "cell_type": "code",
   "execution_count": 1,
   "id": "5e452c4e",
   "metadata": {},
   "outputs": [
    {
     "data": {
      "application/javascript": [
       "\n",
       "            setTimeout(function() {\n",
       "                var nbb_cell_id = 1;\n",
       "                var nbb_unformatted_code = \"%load_ext nb_black\";\n",
       "                var nbb_formatted_code = \"%load_ext nb_black\";\n",
       "                var nbb_cells = Jupyter.notebook.get_cells();\n",
       "                for (var i = 0; i < nbb_cells.length; ++i) {\n",
       "                    if (nbb_cells[i].input_prompt_number == nbb_cell_id) {\n",
       "                        if (nbb_cells[i].get_text() == nbb_unformatted_code) {\n",
       "                             nbb_cells[i].set_text(nbb_formatted_code);\n",
       "                        }\n",
       "                        break;\n",
       "                    }\n",
       "                }\n",
       "            }, 500);\n",
       "            "
      ],
      "text/plain": [
       "<IPython.core.display.Javascript object>"
      ]
     },
     "metadata": {},
     "output_type": "display_data"
    }
   ],
   "source": [
    "%load_ext nb_black"
   ]
  },
  {
   "cell_type": "code",
   "execution_count": 2,
   "id": "abbd4819",
   "metadata": {},
   "outputs": [
    {
     "data": {
      "application/javascript": [
       "\n",
       "            setTimeout(function() {\n",
       "                var nbb_cell_id = 2;\n",
       "                var nbb_unformatted_code = \"import os\\nimport pathlib\\nimport numpy as np\\nimport pandas as pd\\n\\nfrom pycytominer import consensus\\nfrom pycytominer.cyto_utils import infer_cp_features, output\";\n",
       "                var nbb_formatted_code = \"import os\\nimport pathlib\\nimport numpy as np\\nimport pandas as pd\\n\\nfrom pycytominer import consensus\\nfrom pycytominer.cyto_utils import infer_cp_features, output\";\n",
       "                var nbb_cells = Jupyter.notebook.get_cells();\n",
       "                for (var i = 0; i < nbb_cells.length; ++i) {\n",
       "                    if (nbb_cells[i].input_prompt_number == nbb_cell_id) {\n",
       "                        if (nbb_cells[i].get_text() == nbb_unformatted_code) {\n",
       "                             nbb_cells[i].set_text(nbb_formatted_code);\n",
       "                        }\n",
       "                        break;\n",
       "                    }\n",
       "                }\n",
       "            }, 500);\n",
       "            "
      ],
      "text/plain": [
       "<IPython.core.display.Javascript object>"
      ]
     },
     "metadata": {},
     "output_type": "display_data"
    }
   ],
   "source": [
    "import os\n",
    "import pathlib\n",
    "import numpy as np\n",
    "import pandas as pd\n",
    "\n",
    "from pycytominer import consensus\n",
    "from pycytominer.cyto_utils import infer_cp_features, output"
   ]
  },
  {
   "cell_type": "code",
   "execution_count": 3,
   "id": "dc95fb1b",
   "metadata": {},
   "outputs": [
    {
     "data": {
      "application/javascript": [
       "\n",
       "            setTimeout(function() {\n",
       "                var nbb_cell_id = 3;\n",
       "                var nbb_unformatted_code = \"# Set constants\\nbatches = [\\\"2016_04_01_a549_48hr_batch1\\\", \\\"2017_12_05_Batch2\\\"]\\noperations = [\\\"median\\\", \\\"modz\\\"]\\nprimary_dose_mapping = [0.04, 0.12, 0.37, 1.11, 3.33, 10, 20]\\n\\n# Aggregating columns\\nreplicate_cols = [\\n    \\\"Metadata_Plate_Map_Name\\\",\\n    \\\"Metadata_cell_id\\\",\\n    \\\"Metadata_broad_sample\\\",\\n    \\\"Metadata_pert_well\\\",\\n    \\\"Metadata_mmoles_per_liter\\\",\\n    \\\"Metadata_dose_recode\\\",\\n    \\\"Metadata_time_point\\\",\\n    \\\"Metadata_moa\\\",\\n    \\\"Metadata_target\\\",\\n]\\n\\nfeatures = \\\"infer\\\"\\n\\n# Output options\\nfloat_format = \\\"%5g\\\"\\ncompression_options = {\\\"method\\\": \\\"gzip\\\", \\\"mtime\\\": 1}\\noutput_dir = pathlib.Path(\\\"consensus\\\")\\n\\n# Two different blocklist feature sets (traditional and outlier)\\ncommit = \\\"838ac2eee8bee09b50a1ec8077201c01f7882c69\\\"\\ntraditional_blocklist_file = f\\\"https://raw.githubusercontent.com/cytomining/pycytominer/{commit}/pycytominer/data/blocklist_features.txt\\\"\\noutlier_blocklist_file = pathlib.Path(\\\"../utils/outlier_blocklist_features.txt\\\")\\n\\nfull_blocklist_file = pathlib.Path(\\\"../utils/consensus_blocklist.txt\\\")\";\n",
       "                var nbb_formatted_code = \"# Set constants\\nbatches = [\\\"2016_04_01_a549_48hr_batch1\\\", \\\"2017_12_05_Batch2\\\"]\\noperations = [\\\"median\\\", \\\"modz\\\"]\\nprimary_dose_mapping = [0.04, 0.12, 0.37, 1.11, 3.33, 10, 20]\\n\\n# Aggregating columns\\nreplicate_cols = [\\n    \\\"Metadata_Plate_Map_Name\\\",\\n    \\\"Metadata_cell_id\\\",\\n    \\\"Metadata_broad_sample\\\",\\n    \\\"Metadata_pert_well\\\",\\n    \\\"Metadata_mmoles_per_liter\\\",\\n    \\\"Metadata_dose_recode\\\",\\n    \\\"Metadata_time_point\\\",\\n    \\\"Metadata_moa\\\",\\n    \\\"Metadata_target\\\",\\n]\\n\\nfeatures = \\\"infer\\\"\\n\\n# Output options\\nfloat_format = \\\"%5g\\\"\\ncompression_options = {\\\"method\\\": \\\"gzip\\\", \\\"mtime\\\": 1}\\noutput_dir = pathlib.Path(\\\"consensus\\\")\\n\\n# Two different blocklist feature sets (traditional and outlier)\\ncommit = \\\"838ac2eee8bee09b50a1ec8077201c01f7882c69\\\"\\ntraditional_blocklist_file = f\\\"https://raw.githubusercontent.com/cytomining/pycytominer/{commit}/pycytominer/data/blocklist_features.txt\\\"\\noutlier_blocklist_file = pathlib.Path(\\\"../utils/outlier_blocklist_features.txt\\\")\\n\\nfull_blocklist_file = pathlib.Path(\\\"../utils/consensus_blocklist.txt\\\")\";\n",
       "                var nbb_cells = Jupyter.notebook.get_cells();\n",
       "                for (var i = 0; i < nbb_cells.length; ++i) {\n",
       "                    if (nbb_cells[i].input_prompt_number == nbb_cell_id) {\n",
       "                        if (nbb_cells[i].get_text() == nbb_unformatted_code) {\n",
       "                             nbb_cells[i].set_text(nbb_formatted_code);\n",
       "                        }\n",
       "                        break;\n",
       "                    }\n",
       "                }\n",
       "            }, 500);\n",
       "            "
      ],
      "text/plain": [
       "<IPython.core.display.Javascript object>"
      ]
     },
     "metadata": {},
     "output_type": "display_data"
    }
   ],
   "source": [
    "# Set constants\n",
    "batches = [\"2016_04_01_a549_48hr_batch1\", \"2017_12_05_Batch2\"]\n",
    "operations = [\"median\", \"modz\"]\n",
    "primary_dose_mapping = [0.04, 0.12, 0.37, 1.11, 3.33, 10, 20]\n",
    "\n",
    "# Aggregating columns\n",
    "replicate_cols = [\n",
    "    \"Metadata_Plate_Map_Name\",\n",
    "    \"Metadata_cell_id\",\n",
    "    \"Metadata_broad_sample\",\n",
    "    \"Metadata_pert_well\",\n",
    "    \"Metadata_mmoles_per_liter\",\n",
    "    \"Metadata_dose_recode\",\n",
    "    \"Metadata_time_point\",\n",
    "    \"Metadata_moa\",\n",
    "    \"Metadata_target\",\n",
    "]\n",
    "\n",
    "features = \"infer\"\n",
    "\n",
    "# Output options\n",
    "float_format = \"%5g\"\n",
    "compression_options = {\"method\": \"gzip\", \"mtime\": 1}\n",
    "output_dir = pathlib.Path(\"consensus\")\n",
    "\n",
    "# Two different blocklist feature sets (traditional and outlier)\n",
    "commit = \"838ac2eee8bee09b50a1ec8077201c01f7882c69\"\n",
    "traditional_blocklist_file = f\"https://raw.githubusercontent.com/cytomining/pycytominer/{commit}/pycytominer/data/blocklist_features.txt\"\n",
    "outlier_blocklist_file = pathlib.Path(\"../utils/outlier_blocklist_features.txt\")\n",
    "\n",
    "full_blocklist_file = pathlib.Path(\"../utils/consensus_blocklist.txt\")"
   ]
  },
  {
   "cell_type": "code",
   "execution_count": 4,
   "id": "0a1f0b7b",
   "metadata": {},
   "outputs": [
    {
     "data": {
      "text/plain": [
       "{'2016_04_01_a549_48hr_batch1': {'dmso': PosixPath('profiles/2016_04_01_a549_48hr_batch1_dmso_spherized_profiles_with_input_normalized_by_dmso.csv.gz'),\n",
       "  'whole_plate': PosixPath('profiles/2016_04_01_a549_48hr_batch1_dmso_spherized_profiles_with_input_normalized_by_whole_plate.csv.gz')},\n",
       " '2017_12_05_Batch2': {'dmso': PosixPath('profiles/2017_12_05_Batch2_dmso_spherized_profiles_with_input_normalized_by_dmso.csv.gz'),\n",
       "  'whole_plate': PosixPath('profiles/2017_12_05_Batch2_dmso_spherized_profiles_with_input_normalized_by_whole_plate.csv.gz')}}"
      ]
     },
     "execution_count": 4,
     "metadata": {},
     "output_type": "execute_result"
    },
    {
     "data": {
      "application/javascript": [
       "\n",
       "            setTimeout(function() {\n",
       "                var nbb_cell_id = 4;\n",
       "                var nbb_unformatted_code = \"# Establish input files\\nprofile_dir = pathlib.Path(\\\"profiles\\\")\\nspherized_string = \\\"_dmso_spherized_profiles_with_input_normalized_by_\\\"\\nspherized_suffixes = [\\\"dmso\\\", \\\"whole_plate\\\"]\\n\\nprofile_files = {\\n    batch: {\\n        suffix: pathlib.Path(f\\\"{profile_dir}/{batch}{spherized_string}{suffix}.csv.gz\\\")\\n        for suffix in spherized_suffixes\\n    }\\n    for batch in batches\\n}\\n\\nprofile_files\";\n",
       "                var nbb_formatted_code = \"# Establish input files\\nprofile_dir = pathlib.Path(\\\"profiles\\\")\\nspherized_string = \\\"_dmso_spherized_profiles_with_input_normalized_by_\\\"\\nspherized_suffixes = [\\\"dmso\\\", \\\"whole_plate\\\"]\\n\\nprofile_files = {\\n    batch: {\\n        suffix: pathlib.Path(f\\\"{profile_dir}/{batch}{spherized_string}{suffix}.csv.gz\\\")\\n        for suffix in spherized_suffixes\\n    }\\n    for batch in batches\\n}\\n\\nprofile_files\";\n",
       "                var nbb_cells = Jupyter.notebook.get_cells();\n",
       "                for (var i = 0; i < nbb_cells.length; ++i) {\n",
       "                    if (nbb_cells[i].input_prompt_number == nbb_cell_id) {\n",
       "                        if (nbb_cells[i].get_text() == nbb_unformatted_code) {\n",
       "                             nbb_cells[i].set_text(nbb_formatted_code);\n",
       "                        }\n",
       "                        break;\n",
       "                    }\n",
       "                }\n",
       "            }, 500);\n",
       "            "
      ],
      "text/plain": [
       "<IPython.core.display.Javascript object>"
      ]
     },
     "metadata": {},
     "output_type": "display_data"
    }
   ],
   "source": [
    "# Establish input files\n",
    "profile_dir = pathlib.Path(\"profiles\")\n",
    "spherized_string = \"_dmso_spherized_profiles_with_input_normalized_by_\"\n",
    "spherized_suffixes = [\"dmso\", \"whole_plate\"]\n",
    "\n",
    "profile_files = {\n",
    "    batch: {\n",
    "        suffix: pathlib.Path(f\"{profile_dir}/{batch}{spherized_string}{suffix}.csv.gz\")\n",
    "        for suffix in spherized_suffixes\n",
    "    }\n",
    "    for batch in batches\n",
    "}\n",
    "\n",
    "profile_files"
   ]
  },
  {
   "cell_type": "code",
   "execution_count": 5,
   "id": "c5dc4fbf",
   "metadata": {},
   "outputs": [
    {
     "name": "stdout",
     "output_type": "stream",
     "text": [
      "Now processing batch: 2016_04_01_a549_48hr_batch1\n",
      "  Now forming consensus signature for: profiles/2016_04_01_a549_48hr_batch1_dmso_spherized_profiles_with_input_normalized_by_dmso.csv.gz\n",
      "(52223, 1055)\n",
      "    with consensus operation: median\n",
      "(10752, 1035)\n",
      "    Done.\n",
      "    with consensus operation: modz\n",
      "(10752, 1035)\n",
      "    Done.\n",
      "  Now forming consensus signature for: profiles/2016_04_01_a549_48hr_batch1_dmso_spherized_profiles_with_input_normalized_by_whole_plate.csv.gz\n",
      "(52223, 830)\n",
      "    with consensus operation: median\n",
      "(10752, 810)\n",
      "    Done.\n",
      "    with consensus operation: modz\n",
      "(10752, 810)\n",
      "    Done.\n",
      "Batch done.\n",
      "\n",
      "Now processing batch: 2017_12_05_Batch2\n",
      "  Now forming consensus signature for: profiles/2017_12_05_Batch2_dmso_spherized_profiles_with_input_normalized_by_dmso.csv.gz\n",
      "(51447, 763)\n",
      "    with consensus operation: median\n",
      "(10368, 741)\n",
      "    Done.\n",
      "    with consensus operation: modz\n",
      "(10368, 741)\n",
      "    Done.\n",
      "  Now forming consensus signature for: profiles/2017_12_05_Batch2_dmso_spherized_profiles_with_input_normalized_by_whole_plate.csv.gz\n",
      "(51447, 557)\n",
      "    with consensus operation: median\n",
      "(10368, 535)\n",
      "    Done.\n",
      "    with consensus operation: modz\n",
      "(10368, 535)\n",
      "    Done.\n",
      "Batch done.\n",
      "\n"
     ]
    },
    {
     "data": {
      "application/javascript": [
       "\n",
       "            setTimeout(function() {\n",
       "                var nbb_cell_id = 5;\n",
       "                var nbb_unformatted_code = \"all_consensus_dfs = {batch: {} for batch in batches}\\nfor batch in batches:\\n    print(f\\\"Now processing batch: {batch}\\\")\\n    batch_files = profile_files[batch]\\n    for norm_strat in batch_files:\\n        spherized_file = batch_files[norm_strat]\\n        print(f\\\"  Now forming consensus signature for: {spherized_file}\\\")\\n\\n        spherized_df = pd.read_csv(spherized_file, low_memory=False)\\n        print(spherized_df.shape)\\n\\n        # Recode missing MOA and target values to be \\\"unknown\\\"\\n        spherized_df.Metadata_moa = spherized_df.Metadata_moa.fillna(\\\"unknown\\\")\\n        spherized_df.Metadata_target = spherized_df.Metadata_target.fillna(\\\"unknown\\\")\\n\\n        # Set a timepoint variable only for batch 1\\n        if batch == \\\"2016_04_01_a549_48hr_batch1\\\":\\n            spherized_df = spherized_df.assign(Metadata_time_point=\\\"48H\\\")\\n\\n        for operation in operations:\\n            output_file = pathlib.Path(\\n                f\\\"{output_dir}/{batch}{spherized_string}{norm_strat}_consensus_{operation}.csv.gz\\\"\\n            )\\n            print(f\\\"    with consensus operation: {operation}\\\")\\n\\n            spherized_consensus_df = consensus(\\n                profiles=spherized_df,\\n                replicate_columns=replicate_cols,\\n                operation=operation,\\n                features=features,\\n            )\\n            print(spherized_consensus_df.shape)\\n\\n            output(\\n                df=spherized_consensus_df,\\n                output_filename=output_file,\\n                sep=\\\",\\\",\\n                float_format=float_format,\\n                compression_options=compression_options,\\n            )\\n            print(\\\"    Done.\\\")\\n\\n    print(\\\"Batch done.\\\\n\\\")\";\n",
       "                var nbb_formatted_code = \"all_consensus_dfs = {batch: {} for batch in batches}\\nfor batch in batches:\\n    print(f\\\"Now processing batch: {batch}\\\")\\n    batch_files = profile_files[batch]\\n    for norm_strat in batch_files:\\n        spherized_file = batch_files[norm_strat]\\n        print(f\\\"  Now forming consensus signature for: {spherized_file}\\\")\\n\\n        spherized_df = pd.read_csv(spherized_file, low_memory=False)\\n        print(spherized_df.shape)\\n\\n        # Recode missing MOA and target values to be \\\"unknown\\\"\\n        spherized_df.Metadata_moa = spherized_df.Metadata_moa.fillna(\\\"unknown\\\")\\n        spherized_df.Metadata_target = spherized_df.Metadata_target.fillna(\\\"unknown\\\")\\n\\n        # Set a timepoint variable only for batch 1\\n        if batch == \\\"2016_04_01_a549_48hr_batch1\\\":\\n            spherized_df = spherized_df.assign(Metadata_time_point=\\\"48H\\\")\\n\\n        for operation in operations:\\n            output_file = pathlib.Path(\\n                f\\\"{output_dir}/{batch}{spherized_string}{norm_strat}_consensus_{operation}.csv.gz\\\"\\n            )\\n            print(f\\\"    with consensus operation: {operation}\\\")\\n\\n            spherized_consensus_df = consensus(\\n                profiles=spherized_df,\\n                replicate_columns=replicate_cols,\\n                operation=operation,\\n                features=features,\\n            )\\n            print(spherized_consensus_df.shape)\\n\\n            output(\\n                df=spherized_consensus_df,\\n                output_filename=output_file,\\n                sep=\\\",\\\",\\n                float_format=float_format,\\n                compression_options=compression_options,\\n            )\\n            print(\\\"    Done.\\\")\\n\\n    print(\\\"Batch done.\\\\n\\\")\";\n",
       "                var nbb_cells = Jupyter.notebook.get_cells();\n",
       "                for (var i = 0; i < nbb_cells.length; ++i) {\n",
       "                    if (nbb_cells[i].input_prompt_number == nbb_cell_id) {\n",
       "                        if (nbb_cells[i].get_text() == nbb_unformatted_code) {\n",
       "                             nbb_cells[i].set_text(nbb_formatted_code);\n",
       "                        }\n",
       "                        break;\n",
       "                    }\n",
       "                }\n",
       "            }, 500);\n",
       "            "
      ],
      "text/plain": [
       "<IPython.core.display.Javascript object>"
      ]
     },
     "metadata": {},
     "output_type": "display_data"
    }
   ],
   "source": [
    "all_consensus_dfs = {batch: {} for batch in batches}\n",
    "for batch in batches:\n",
    "    print(f\"Now processing batch: {batch}\")\n",
    "    batch_files = profile_files[batch]\n",
    "    for norm_strat in batch_files:\n",
    "        spherized_file = batch_files[norm_strat]\n",
    "        print(f\"  Now forming consensus signature for: {spherized_file}\")\n",
    "\n",
    "        spherized_df = pd.read_csv(spherized_file, low_memory=False)\n",
    "        print(spherized_df.shape)\n",
    "\n",
    "        # Recode missing MOA and target values to be \"unknown\"\n",
    "        spherized_df.Metadata_moa = spherized_df.Metadata_moa.fillna(\"unknown\")\n",
    "        spherized_df.Metadata_target = spherized_df.Metadata_target.fillna(\"unknown\")\n",
    "\n",
    "        # Set a timepoint variable only for batch 1\n",
    "        if batch == \"2016_04_01_a549_48hr_batch1\":\n",
    "            spherized_df = spherized_df.assign(Metadata_time_point=\"48H\")\n",
    "\n",
    "        for operation in operations:\n",
    "            output_file = pathlib.Path(\n",
    "                f\"{output_dir}/{batch}{spherized_string}{norm_strat}_consensus_{operation}.csv.gz\"\n",
    "            )\n",
    "            print(f\"    with consensus operation: {operation}\")\n",
    "\n",
    "            spherized_consensus_df = consensus(\n",
    "                profiles=spherized_df,\n",
    "                replicate_columns=replicate_cols,\n",
    "                operation=operation,\n",
    "                features=features,\n",
    "            )\n",
    "            print(spherized_consensus_df.shape)\n",
    "\n",
    "            output(\n",
    "                df=spherized_consensus_df,\n",
    "                output_filename=output_file,\n",
    "                sep=\",\",\n",
    "                float_format=float_format,\n",
    "                compression_options=compression_options,\n",
    "            )\n",
    "            print(\"    Done.\")\n",
    "\n",
    "    print(\"Batch done.\\n\")"
   ]
  }
 ],
 "metadata": {
  "kernelspec": {
   "display_name": "Python 3",
   "language": "python",
   "name": "python3"
  },
  "language_info": {
   "codemirror_mode": {
    "name": "ipython",
    "version": 3
   },
   "file_extension": ".py",
   "mimetype": "text/x-python",
   "name": "python",
   "nbconvert_exporter": "python",
   "pygments_lexer": "ipython3",
   "version": "3.7.10"
  }
 },
 "nbformat": 4,
 "nbformat_minor": 5
}
