{
 "cells": [
  {
   "cell_type": "markdown",
   "metadata": {},
   "source": [
    "# Consensus Signatures\n",
    "\n",
    "Here, we generate consensus signatures for the LINCS Drug Repurposing Hub Cell Painting subset.\n",
    "See the project [README.md](README.md) for more details.\n",
    "\n",
    "This notebook generates eight files; one per plate normalization and consensus normalization strategy, with and without feature selection.\n",
    "\n",
    "|Feature selection | Plate Normalization | Consensus Normalization | Consensus Suffix |\n",
    "|:---------------- | :------------------: | :------------------------: | -----------------: |\n",
    "| No  | DMSO | Median | `<BATCH>_consensus_median_dmso.csv.gz` |\n",
    "| No  | DMSO | MODZ | `<BATCH>_consensus_modz_dmso.csv.gz` |\n",
    "| No  | Whole Plate | Median | `<BATCH>_consensus_median.csv.gz` |\n",
    "| No  | Whole Plate | MODZ | `<BATCH>_consensus_modz.csv.gz` |\n",
    "| Yes | DMSO | Median | `<BATCH>_consensus_median_feature_select_dmso.csv.gz` |\n",
    "| Yes | DMSO | MODZ | `<BATCH>_consensus_modz_feature_select_dmso.csv.gz` |\n",
    "| Yes | Whole Plate | Median | `<BATCH>_consensus_median_feature_select.csv.gz` |\n",
    "| Yes | Whole Plate | MODZ | `<BATCH>_consensus_modz_feature_select.csv.gz` |"
   ]
  },
  {
   "cell_type": "code",
   "execution_count": 1,
   "metadata": {},
   "outputs": [
    {
     "data": {
      "application/javascript": [
       "\n",
       "            setTimeout(function() {\n",
       "                var nbb_cell_id = 1;\n",
       "                var nbb_unformatted_code = \"%load_ext nb_black\";\n",
       "                var nbb_formatted_code = \"%load_ext nb_black\";\n",
       "                var nbb_cells = Jupyter.notebook.get_cells();\n",
       "                for (var i = 0; i < nbb_cells.length; ++i) {\n",
       "                    if (nbb_cells[i].input_prompt_number == nbb_cell_id) {\n",
       "                        if (nbb_cells[i].get_text() == nbb_unformatted_code) {\n",
       "                             nbb_cells[i].set_text(nbb_formatted_code);\n",
       "                        }\n",
       "                        break;\n",
       "                    }\n",
       "                }\n",
       "            }, 500);\n",
       "            "
      ],
      "text/plain": [
       "<IPython.core.display.Javascript object>"
      ]
     },
     "metadata": {},
     "output_type": "display_data"
    }
   ],
   "source": [
    "%load_ext nb_black"
   ]
  },
  {
   "cell_type": "code",
   "execution_count": 2,
   "metadata": {},
   "outputs": [
    {
     "data": {
      "application/javascript": [
       "\n",
       "            setTimeout(function() {\n",
       "                var nbb_cell_id = 2;\n",
       "                var nbb_unformatted_code = \"import os\\nimport pathlib\\nimport numpy as np\\nimport pandas as pd\\n\\nfrom pycytominer.aggregate import aggregate\\nfrom pycytominer.consensus import modz_base\\nfrom pycytominer.feature_select import feature_select\\n\\nfrom pycytominer.cyto_utils import infer_cp_features\";\n",
       "                var nbb_formatted_code = \"import os\\nimport pathlib\\nimport numpy as np\\nimport pandas as pd\\n\\nfrom pycytominer.aggregate import aggregate\\nfrom pycytominer.consensus import modz_base\\nfrom pycytominer.feature_select import feature_select\\n\\nfrom pycytominer.cyto_utils import infer_cp_features\";\n",
       "                var nbb_cells = Jupyter.notebook.get_cells();\n",
       "                for (var i = 0; i < nbb_cells.length; ++i) {\n",
       "                    if (nbb_cells[i].input_prompt_number == nbb_cell_id) {\n",
       "                        if (nbb_cells[i].get_text() == nbb_unformatted_code) {\n",
       "                             nbb_cells[i].set_text(nbb_formatted_code);\n",
       "                        }\n",
       "                        break;\n",
       "                    }\n",
       "                }\n",
       "            }, 500);\n",
       "            "
      ],
      "text/plain": [
       "<IPython.core.display.Javascript object>"
      ]
     },
     "metadata": {},
     "output_type": "display_data"
    }
   ],
   "source": [
    "import os\n",
    "import pathlib\n",
    "import numpy as np\n",
    "import pandas as pd\n",
    "\n",
    "from pycytominer.aggregate import aggregate\n",
    "from pycytominer.consensus import modz_base\n",
    "from pycytominer.feature_select import feature_select\n",
    "\n",
    "from pycytominer.cyto_utils import infer_cp_features"
   ]
  },
  {
   "cell_type": "code",
   "execution_count": 3,
   "metadata": {},
   "outputs": [
    {
     "data": {
      "application/javascript": [
       "\n",
       "            setTimeout(function() {\n",
       "                var nbb_cell_id = 3;\n",
       "                var nbb_unformatted_code = \"def recode_dose(x, doses, return_level=False):\\n    closest_index = np.argmin([np.abs(dose - x) for dose in doses])\\n    if np.isnan(x):\\n        return 0\\n    if return_level:\\n        return closest_index + 1\\n    else:\\n        return doses[closest_index]\\n\\n\\ndef consensus_apply(df, operation, cp_features, replicate_cols):\\n    if operation == \\\"modz\\\":\\n        consensus_df = (\\n            df.groupby(replicate_cols)\\n            .apply(lambda x: modz_base(x.loc[:, cp_features]))\\n            .reset_index()\\n        )\\n    elif operation == \\\"median\\\":\\n        consensus_df = aggregate(\\n            df, operation=\\\"median\\\", features=\\\"infer\\\", strata=replicate_cols\\n        )\\n    return consensus_df\";\n",
       "                var nbb_formatted_code = \"def recode_dose(x, doses, return_level=False):\\n    closest_index = np.argmin([np.abs(dose - x) for dose in doses])\\n    if np.isnan(x):\\n        return 0\\n    if return_level:\\n        return closest_index + 1\\n    else:\\n        return doses[closest_index]\\n\\n\\ndef consensus_apply(df, operation, cp_features, replicate_cols):\\n    if operation == \\\"modz\\\":\\n        consensus_df = (\\n            df.groupby(replicate_cols)\\n            .apply(lambda x: modz_base(x.loc[:, cp_features]))\\n            .reset_index()\\n        )\\n    elif operation == \\\"median\\\":\\n        consensus_df = aggregate(\\n            df, operation=\\\"median\\\", features=\\\"infer\\\", strata=replicate_cols\\n        )\\n    return consensus_df\";\n",
       "                var nbb_cells = Jupyter.notebook.get_cells();\n",
       "                for (var i = 0; i < nbb_cells.length; ++i) {\n",
       "                    if (nbb_cells[i].input_prompt_number == nbb_cell_id) {\n",
       "                        if (nbb_cells[i].get_text() == nbb_unformatted_code) {\n",
       "                             nbb_cells[i].set_text(nbb_formatted_code);\n",
       "                        }\n",
       "                        break;\n",
       "                    }\n",
       "                }\n",
       "            }, 500);\n",
       "            "
      ],
      "text/plain": [
       "<IPython.core.display.Javascript object>"
      ]
     },
     "metadata": {},
     "output_type": "display_data"
    }
   ],
   "source": [
    "def recode_dose(x, doses, return_level=False):\n",
    "    closest_index = np.argmin([np.abs(dose - x) for dose in doses])\n",
    "    if np.isnan(x):\n",
    "        return 0\n",
    "    if return_level:\n",
    "        return closest_index + 1\n",
    "    else:\n",
    "        return doses[closest_index]\n",
    "\n",
    "\n",
    "def consensus_apply(df, operation, cp_features, replicate_cols):\n",
    "    if operation == \"modz\":\n",
    "        consensus_df = (\n",
    "            df.groupby(replicate_cols)\n",
    "            .apply(lambda x: modz_base(x.loc[:, cp_features]))\n",
    "            .reset_index()\n",
    "        )\n",
    "    elif operation == \"median\":\n",
    "        consensus_df = aggregate(\n",
    "            df, operation=\"median\", features=\"infer\", strata=replicate_cols\n",
    "        )\n",
    "    return consensus_df"
   ]
  },
  {
   "cell_type": "code",
   "execution_count": 4,
   "metadata": {},
   "outputs": [
    {
     "name": "stdout",
     "output_type": "stream",
     "text": [
      "136\n"
     ]
    },
    {
     "data": {
      "application/javascript": [
       "\n",
       "            setTimeout(function() {\n",
       "                var nbb_cell_id = 4;\n",
       "                var nbb_unformatted_code = \"# Set constants\\nfile_bases = {\\n    \\\"whole_plate\\\": {\\n        \\\"input_file_suffix\\\": \\\"_normalized.csv.gz\\\",\\n        \\\"output_file_suffix\\\": \\\".csv.gz\\\",\\n    },\\n    \\\"dmso\\\": {\\n        \\\"input_file_suffix\\\": \\\"_normalized_dmso.csv.gz\\\",\\n        \\\"output_file_suffix\\\": \\\"_dmso.csv.gz\\\",\\n    },\\n}\\noperations = [\\\"median\\\", \\\"modz\\\"]\\nbatch = \\\"2016_04_01_a549_48hr_batch1\\\"\\nprimary_dose_mapping = [0.04, 0.12, 0.37, 1.11, 3.33, 10, 20]\\n\\n# Set file paths\\nprofile_dir = pathlib.Path(\\\"..\\\", \\\"profiles\\\", batch)\\nplate_dirs = [x for x in profile_dir.iterdir() if x.name != \\\".DS_Store\\\"]\\nplates = [x.name for x in plate_dirs]\\nprint(len(plates))\";\n",
       "                var nbb_formatted_code = \"# Set constants\\nfile_bases = {\\n    \\\"whole_plate\\\": {\\n        \\\"input_file_suffix\\\": \\\"_normalized.csv.gz\\\",\\n        \\\"output_file_suffix\\\": \\\".csv.gz\\\",\\n    },\\n    \\\"dmso\\\": {\\n        \\\"input_file_suffix\\\": \\\"_normalized_dmso.csv.gz\\\",\\n        \\\"output_file_suffix\\\": \\\"_dmso.csv.gz\\\",\\n    },\\n}\\noperations = [\\\"median\\\", \\\"modz\\\"]\\nbatch = \\\"2016_04_01_a549_48hr_batch1\\\"\\nprimary_dose_mapping = [0.04, 0.12, 0.37, 1.11, 3.33, 10, 20]\\n\\n# Set file paths\\nprofile_dir = pathlib.Path(\\\"..\\\", \\\"profiles\\\", batch)\\nplate_dirs = [x for x in profile_dir.iterdir() if x.name != \\\".DS_Store\\\"]\\nplates = [x.name for x in plate_dirs]\\nprint(len(plates))\";\n",
       "                var nbb_cells = Jupyter.notebook.get_cells();\n",
       "                for (var i = 0; i < nbb_cells.length; ++i) {\n",
       "                    if (nbb_cells[i].input_prompt_number == nbb_cell_id) {\n",
       "                        if (nbb_cells[i].get_text() == nbb_unformatted_code) {\n",
       "                             nbb_cells[i].set_text(nbb_formatted_code);\n",
       "                        }\n",
       "                        break;\n",
       "                    }\n",
       "                }\n",
       "            }, 500);\n",
       "            "
      ],
      "text/plain": [
       "<IPython.core.display.Javascript object>"
      ]
     },
     "metadata": {},
     "output_type": "display_data"
    }
   ],
   "source": [
    "# Set constants\n",
    "file_bases = {\n",
    "    \"whole_plate\": {\n",
    "        \"input_file_suffix\": \"_normalized.csv.gz\",\n",
    "        \"output_file_suffix\": \".csv.gz\",\n",
    "    },\n",
    "    \"dmso\": {\n",
    "        \"input_file_suffix\": \"_normalized_dmso.csv.gz\",\n",
    "        \"output_file_suffix\": \"_dmso.csv.gz\",\n",
    "    },\n",
    "}\n",
    "operations = [\"median\", \"modz\"]\n",
    "batch = \"2016_04_01_a549_48hr_batch1\"\n",
    "primary_dose_mapping = [0.04, 0.12, 0.37, 1.11, 3.33, 10, 20]\n",
    "\n",
    "# Set file paths\n",
    "profile_dir = pathlib.Path(\"..\", \"profiles\", batch)\n",
    "plate_dirs = [x for x in profile_dir.iterdir() if x.name != \".DS_Store\"]\n",
    "plates = [x.name for x in plate_dirs]\n",
    "print(len(plates))"
   ]
  },
  {
   "cell_type": "code",
   "execution_count": 5,
   "metadata": {},
   "outputs": [
    {
     "data": {
      "application/javascript": [
       "\n",
       "            setTimeout(function() {\n",
       "                var nbb_cell_id = 5;\n",
       "                var nbb_unformatted_code = \"# The output directory is also the batch name\\npathlib.Path(batch).mkdir(exist_ok=True)\";\n",
       "                var nbb_formatted_code = \"# The output directory is also the batch name\\npathlib.Path(batch).mkdir(exist_ok=True)\";\n",
       "                var nbb_cells = Jupyter.notebook.get_cells();\n",
       "                for (var i = 0; i < nbb_cells.length; ++i) {\n",
       "                    if (nbb_cells[i].input_prompt_number == nbb_cell_id) {\n",
       "                        if (nbb_cells[i].get_text() == nbb_unformatted_code) {\n",
       "                             nbb_cells[i].set_text(nbb_formatted_code);\n",
       "                        }\n",
       "                        break;\n",
       "                    }\n",
       "                }\n",
       "            }, 500);\n",
       "            "
      ],
      "text/plain": [
       "<IPython.core.display.Javascript object>"
      ]
     },
     "metadata": {},
     "output_type": "display_data"
    }
   ],
   "source": [
    "# The output directory is also the batch name\n",
    "pathlib.Path(batch).mkdir(exist_ok=True)"
   ]
  },
  {
   "cell_type": "markdown",
   "metadata": {},
   "source": [
    "## Load and Process Data\n",
    "\n",
    "We load data per plate, concatenate, and recode dose information"
   ]
  },
  {
   "cell_type": "code",
   "execution_count": 6,
   "metadata": {},
   "outputs": [
    {
     "name": "stdout",
     "output_type": "stream",
     "text": [
      "(52223, 1810)\n",
      "(52223, 1810)\n"
     ]
    },
    {
     "data": {
      "application/javascript": [
       "\n",
       "            setTimeout(function() {\n",
       "                var nbb_cell_id = 6;\n",
       "                var nbb_unformatted_code = \"# Load Data\\nall_profiles_dfs = {}\\ncp_features = {}\\nfor norm_strat, norm_file_base in file_bases.items():\\n    file_base = norm_file_base[\\\"input_file_suffix\\\"]\\n    all_profiles_df = []\\n    for plate_dir in plate_dirs:\\n        plate = plate_dir.name\\n        plate_file = plate_dir / f\\\"{plate}{file_base}\\\"\\n        plate_df = pd.read_csv(plate_file)\\n        all_profiles_df.append(plate_df)\\n\\n    # Concatenate profiles\\n    all_profiles_df = pd.concat(all_profiles_df, axis=\\\"rows\\\")\\n\\n    # Recode dose\\n    all_profiles_df = all_profiles_df.assign(\\n        Metadata_dose_recode=(\\n            all_profiles_df.Metadata_mmoles_per_liter.apply(\\n                lambda x: recode_dose(x, primary_dose_mapping, return_level=True)\\n            )\\n        )\\n    )\\n\\n    # Make sure DMSO profiles recieve a zero dose level\\n    all_profiles_df.loc[\\n        all_profiles_df.Metadata_broad_sample == \\\"DMSO\\\", \\\"Metadata_dose_recode\\\"\\n    ] = 0\\n\\n    # Store concatenated data frame\\n    all_profiles_dfs[norm_strat] = all_profiles_df\\n\\n    # Determine every CellProfiler feature measured\\n    cp_features[norm_strat] = infer_cp_features(all_profiles_dfs[norm_strat])\\n\\n    # Clean up\\n    print(all_profiles_df.shape)\\n    del all_profiles_df\";\n",
       "                var nbb_formatted_code = \"# Load Data\\nall_profiles_dfs = {}\\ncp_features = {}\\nfor norm_strat, norm_file_base in file_bases.items():\\n    file_base = norm_file_base[\\\"input_file_suffix\\\"]\\n    all_profiles_df = []\\n    for plate_dir in plate_dirs:\\n        plate = plate_dir.name\\n        plate_file = plate_dir / f\\\"{plate}{file_base}\\\"\\n        plate_df = pd.read_csv(plate_file)\\n        all_profiles_df.append(plate_df)\\n\\n    # Concatenate profiles\\n    all_profiles_df = pd.concat(all_profiles_df, axis=\\\"rows\\\")\\n\\n    # Recode dose\\n    all_profiles_df = all_profiles_df.assign(\\n        Metadata_dose_recode=(\\n            all_profiles_df.Metadata_mmoles_per_liter.apply(\\n                lambda x: recode_dose(x, primary_dose_mapping, return_level=True)\\n            )\\n        )\\n    )\\n\\n    # Make sure DMSO profiles recieve a zero dose level\\n    all_profiles_df.loc[\\n        all_profiles_df.Metadata_broad_sample == \\\"DMSO\\\", \\\"Metadata_dose_recode\\\"\\n    ] = 0\\n\\n    # Store concatenated data frame\\n    all_profiles_dfs[norm_strat] = all_profiles_df\\n\\n    # Determine every CellProfiler feature measured\\n    cp_features[norm_strat] = infer_cp_features(all_profiles_dfs[norm_strat])\\n\\n    # Clean up\\n    print(all_profiles_df.shape)\\n    del all_profiles_df\";\n",
       "                var nbb_cells = Jupyter.notebook.get_cells();\n",
       "                for (var i = 0; i < nbb_cells.length; ++i) {\n",
       "                    if (nbb_cells[i].input_prompt_number == nbb_cell_id) {\n",
       "                        if (nbb_cells[i].get_text() == nbb_unformatted_code) {\n",
       "                             nbb_cells[i].set_text(nbb_formatted_code);\n",
       "                        }\n",
       "                        break;\n",
       "                    }\n",
       "                }\n",
       "            }, 500);\n",
       "            "
      ],
      "text/plain": [
       "<IPython.core.display.Javascript object>"
      ]
     },
     "metadata": {},
     "output_type": "display_data"
    }
   ],
   "source": [
    "# Load Data\n",
    "all_profiles_dfs = {}\n",
    "cp_features = {}\n",
    "for norm_strat, norm_file_base in file_bases.items():\n",
    "    file_base = norm_file_base[\"input_file_suffix\"]\n",
    "    all_profiles_df = []\n",
    "    for plate_dir in plate_dirs:\n",
    "        plate = plate_dir.name\n",
    "        plate_file = plate_dir / f\"{plate}{file_base}\"\n",
    "        plate_df = pd.read_csv(plate_file)\n",
    "        all_profiles_df.append(plate_df)\n",
    "\n",
    "    # Concatenate profiles\n",
    "    all_profiles_df = pd.concat(all_profiles_df, axis=\"rows\")\n",
    "\n",
    "    # Recode dose\n",
    "    all_profiles_df = all_profiles_df.assign(\n",
    "        Metadata_dose_recode=(\n",
    "            all_profiles_df.Metadata_mmoles_per_liter.apply(\n",
    "                lambda x: recode_dose(x, primary_dose_mapping, return_level=True)\n",
    "            )\n",
    "        )\n",
    "    )\n",
    "\n",
    "    # Make sure DMSO profiles recieve a zero dose level\n",
    "    all_profiles_df.loc[\n",
    "        all_profiles_df.Metadata_broad_sample == \"DMSO\", \"Metadata_dose_recode\"\n",
    "    ] = 0\n",
    "\n",
    "    # Store concatenated data frame\n",
    "    all_profiles_dfs[norm_strat] = all_profiles_df\n",
    "\n",
    "    # Determine every CellProfiler feature measured\n",
    "    cp_features[norm_strat] = infer_cp_features(all_profiles_dfs[norm_strat])\n",
    "\n",
    "    # Clean up\n",
    "    print(all_profiles_df.shape)\n",
    "    del all_profiles_df"
   ]
  },
  {
   "cell_type": "markdown",
   "metadata": {},
   "source": [
    "## Create Consensus Profiles, with and without feature selection\n",
    "\n",
    "We generate two different consensus profiles for each of the normalization strategies, with and without feature selection. This generates eight different files."
   ]
  },
  {
   "cell_type": "code",
   "execution_count": 7,
   "metadata": {},
   "outputs": [
    {
     "data": {
      "application/javascript": [
       "\n",
       "            setTimeout(function() {\n",
       "                var nbb_cell_id = 7;\n",
       "                var nbb_unformatted_code = \"# Aggregating columns\\nreplicate_cols = [\\n    \\\"Metadata_Plate_Map_Name\\\",\\n    \\\"Metadata_broad_sample\\\",\\n    \\\"Metadata_pert_well\\\",\\n    \\\"Metadata_mmoles_per_liter\\\",\\n    \\\"Metadata_dose_recode\\\",\\n    \\\"Metadata_moa\\\",\\n    \\\"Metadata_target\\\",\\n]\";\n",
       "                var nbb_formatted_code = \"# Aggregating columns\\nreplicate_cols = [\\n    \\\"Metadata_Plate_Map_Name\\\",\\n    \\\"Metadata_broad_sample\\\",\\n    \\\"Metadata_pert_well\\\",\\n    \\\"Metadata_mmoles_per_liter\\\",\\n    \\\"Metadata_dose_recode\\\",\\n    \\\"Metadata_moa\\\",\\n    \\\"Metadata_target\\\",\\n]\";\n",
       "                var nbb_cells = Jupyter.notebook.get_cells();\n",
       "                for (var i = 0; i < nbb_cells.length; ++i) {\n",
       "                    if (nbb_cells[i].input_prompt_number == nbb_cell_id) {\n",
       "                        if (nbb_cells[i].get_text() == nbb_unformatted_code) {\n",
       "                             nbb_cells[i].set_text(nbb_formatted_code);\n",
       "                        }\n",
       "                        break;\n",
       "                    }\n",
       "                }\n",
       "            }, 500);\n",
       "            "
      ],
      "text/plain": [
       "<IPython.core.display.Javascript object>"
      ]
     },
     "metadata": {},
     "output_type": "display_data"
    }
   ],
   "source": [
    "# Aggregating columns\n",
    "replicate_cols = [\n",
    "    \"Metadata_Plate_Map_Name\",\n",
    "    \"Metadata_broad_sample\",\n",
    "    \"Metadata_pert_well\",\n",
    "    \"Metadata_mmoles_per_liter\",\n",
    "    \"Metadata_dose_recode\",\n",
    "    \"Metadata_moa\",\n",
    "    \"Metadata_target\",\n",
    "]"
   ]
  },
  {
   "cell_type": "code",
   "execution_count": 8,
   "metadata": {},
   "outputs": [
    {
     "name": "stdout",
     "output_type": "stream",
     "text": [
      "Now calculating median consensus for whole_plate normalization\n",
      "There are 8340 median consensus profiles for whole_plate normalization\n",
      "Now feature selecting on median consensus for whole_plate normalization\n",
      "There are 510 features in median consensus profiles for whole_plate normalization\n",
      "Now calculating modz consensus for whole_plate normalization\n",
      "There are 8340 modz consensus profiles for whole_plate normalization\n",
      "Now feature selecting on modz consensus for whole_plate normalization\n",
      "There are 447 features in modz consensus profiles for whole_plate normalization\n",
      "Now calculating median consensus for dmso normalization\n",
      "There are 8340 median consensus profiles for dmso normalization\n",
      "Now feature selecting on median consensus for dmso normalization\n",
      "There are 592 features in median consensus profiles for dmso normalization\n",
      "Now calculating modz consensus for dmso normalization\n",
      "There are 8340 modz consensus profiles for dmso normalization\n",
      "Now feature selecting on modz consensus for dmso normalization\n",
      "There are 527 features in modz consensus profiles for dmso normalization\n"
     ]
    },
    {
     "data": {
      "application/javascript": [
       "\n",
       "            setTimeout(function() {\n",
       "                var nbb_cell_id = 8;\n",
       "                var nbb_unformatted_code = \"# feature selection operations\\nfeature_select_ops = [\\n    \\\"drop_na_columns\\\",\\n    \\\"variance_threshold\\\",\\n    \\\"correlation_threshold\\\",\\n    \\\"blacklist\\\",\\n]\\n\\nall_consensus_dfs = {}\\nfor norm_strat in file_bases:\\n    all_profiles_df = all_profiles_dfs[norm_strat]\\n    cp_norm_features = cp_features[norm_strat]\\n\\n    consensus_profiles = {}\\n    for operation in operations:\\n        print(f\\\"Now calculating {operation} consensus for {norm_strat} normalization\\\")\\n\\n        consensus_profiles[operation] = {}\\n\\n        consensus_profiles[operation][\\\"no_feat_select\\\"] = consensus_apply(\\n            all_profiles_df,\\n            operation=operation,\\n            cp_features=cp_norm_features,\\n            replicate_cols=replicate_cols,\\n        )\\n\\n        # How many DMSO profiles per well?\\n        print(\\n            f\\\"There are {consensus_profiles[operation]['no_feat_select'].shape[0]} {operation} consensus profiles for {norm_strat} normalization\\\"\\n        )\\n\\n        # feature selection\\n        print(\\n            f\\\"Now feature selecting on {operation} consensus for {norm_strat} normalization\\\"\\n        )\\n\\n        consensus_profiles[operation][\\\"feat_select\\\"] = feature_select(\\n            profiles=consensus_profiles[operation][\\\"no_feat_select\\\"],\\n            features=\\\"infer\\\",\\n            operation=feature_select_ops,\\n        )\\n\\n        # How many features in feature selected profile?\\n        print(\\n            f\\\"There are {consensus_profiles[operation]['feat_select'].shape[1]} features in {operation} consensus profiles for {norm_strat} normalization\\\"\\n        )\\n\\n    all_consensus_dfs[norm_strat] = consensus_profiles\";\n",
       "                var nbb_formatted_code = \"# feature selection operations\\nfeature_select_ops = [\\n    \\\"drop_na_columns\\\",\\n    \\\"variance_threshold\\\",\\n    \\\"correlation_threshold\\\",\\n    \\\"blacklist\\\",\\n]\\n\\nall_consensus_dfs = {}\\nfor norm_strat in file_bases:\\n    all_profiles_df = all_profiles_dfs[norm_strat]\\n    cp_norm_features = cp_features[norm_strat]\\n\\n    consensus_profiles = {}\\n    for operation in operations:\\n        print(f\\\"Now calculating {operation} consensus for {norm_strat} normalization\\\")\\n\\n        consensus_profiles[operation] = {}\\n\\n        consensus_profiles[operation][\\\"no_feat_select\\\"] = consensus_apply(\\n            all_profiles_df,\\n            operation=operation,\\n            cp_features=cp_norm_features,\\n            replicate_cols=replicate_cols,\\n        )\\n\\n        # How many DMSO profiles per well?\\n        print(\\n            f\\\"There are {consensus_profiles[operation]['no_feat_select'].shape[0]} {operation} consensus profiles for {norm_strat} normalization\\\"\\n        )\\n\\n        # feature selection\\n        print(\\n            f\\\"Now feature selecting on {operation} consensus for {norm_strat} normalization\\\"\\n        )\\n\\n        consensus_profiles[operation][\\\"feat_select\\\"] = feature_select(\\n            profiles=consensus_profiles[operation][\\\"no_feat_select\\\"],\\n            features=\\\"infer\\\",\\n            operation=feature_select_ops,\\n        )\\n\\n        # How many features in feature selected profile?\\n        print(\\n            f\\\"There are {consensus_profiles[operation]['feat_select'].shape[1]} features in {operation} consensus profiles for {norm_strat} normalization\\\"\\n        )\\n\\n    all_consensus_dfs[norm_strat] = consensus_profiles\";\n",
       "                var nbb_cells = Jupyter.notebook.get_cells();\n",
       "                for (var i = 0; i < nbb_cells.length; ++i) {\n",
       "                    if (nbb_cells[i].input_prompt_number == nbb_cell_id) {\n",
       "                        if (nbb_cells[i].get_text() == nbb_unformatted_code) {\n",
       "                             nbb_cells[i].set_text(nbb_formatted_code);\n",
       "                        }\n",
       "                        break;\n",
       "                    }\n",
       "                }\n",
       "            }, 500);\n",
       "            "
      ],
      "text/plain": [
       "<IPython.core.display.Javascript object>"
      ]
     },
     "metadata": {},
     "output_type": "display_data"
    }
   ],
   "source": [
    "# feature selection operations\n",
    "feature_select_ops = [\n",
    "    \"drop_na_columns\",\n",
    "    \"variance_threshold\",\n",
    "    \"correlation_threshold\",\n",
    "    \"blacklist\",\n",
    "]\n",
    "\n",
    "all_consensus_dfs = {}\n",
    "for norm_strat in file_bases:\n",
    "    all_profiles_df = all_profiles_dfs[norm_strat]\n",
    "    cp_norm_features = cp_features[norm_strat]\n",
    "\n",
    "    consensus_profiles = {}\n",
    "    for operation in operations:\n",
    "        print(f\"Now calculating {operation} consensus for {norm_strat} normalization\")\n",
    "\n",
    "        consensus_profiles[operation] = {}\n",
    "\n",
    "        consensus_profiles[operation][\"no_feat_select\"] = consensus_apply(\n",
    "            all_profiles_df,\n",
    "            operation=operation,\n",
    "            cp_features=cp_norm_features,\n",
    "            replicate_cols=replicate_cols,\n",
    "        )\n",
    "\n",
    "        # How many DMSO profiles per well?\n",
    "        print(\n",
    "            f\"There are {consensus_profiles[operation]['no_feat_select'].shape[0]} {operation} consensus profiles for {norm_strat} normalization\"\n",
    "        )\n",
    "\n",
    "        # feature selection\n",
    "        print(\n",
    "            f\"Now feature selecting on {operation} consensus for {norm_strat} normalization\"\n",
    "        )\n",
    "\n",
    "        consensus_profiles[operation][\"feat_select\"] = feature_select(\n",
    "            profiles=consensus_profiles[operation][\"no_feat_select\"],\n",
    "            features=\"infer\",\n",
    "            operation=feature_select_ops,\n",
    "        )\n",
    "\n",
    "        # How many features in feature selected profile?\n",
    "        print(\n",
    "            f\"There are {consensus_profiles[operation]['feat_select'].shape[1]} features in {operation} consensus profiles for {norm_strat} normalization\"\n",
    "        )\n",
    "\n",
    "    all_consensus_dfs[norm_strat] = consensus_profiles"
   ]
  },
  {
   "cell_type": "markdown",
   "metadata": {},
   "source": [
    "## Merge and Output Consensus Signatures, with and without feature selection"
   ]
  },
  {
   "cell_type": "code",
   "execution_count": 9,
   "metadata": {},
   "outputs": [
    {
     "name": "stdout",
     "output_type": "stream",
     "text": [
      "Now Writing: Feature selection: No; Consensus Operation: median; Norm Strategy: whole_plate\n",
      "File: 2016_04_01_a549_48hr_batch1/2016_04_01_a549_48hr_batch1_consensus_median.csv.gz\n",
      "(8340, 1790)\n",
      "Now Writing: Feature selection: Yes; Consensus Operation: median; Norm Strategy: whole_plate\n",
      "File: 2016_04_01_a549_48hr_batch1/2016_04_01_a549_48hr_batch1_consensus_median_feature_select.csv.gz\n",
      "(8340, 510)\n",
      "Now Writing: Feature selection: No; Consensus Operation: modz; Norm Strategy: whole_plate\n",
      "File: 2016_04_01_a549_48hr_batch1/2016_04_01_a549_48hr_batch1_consensus_modz.csv.gz\n",
      "(8340, 1790)\n",
      "Now Writing: Feature selection: Yes; Consensus Operation: modz; Norm Strategy: whole_plate\n",
      "File: 2016_04_01_a549_48hr_batch1/2016_04_01_a549_48hr_batch1_consensus_modz_feature_select.csv.gz\n",
      "(8340, 447)\n",
      "Now Writing: Feature selection: No; Consensus Operation: median; Norm Strategy: dmso\n",
      "File: 2016_04_01_a549_48hr_batch1/2016_04_01_a549_48hr_batch1_consensus_median_dmso.csv.gz\n",
      "(8340, 1790)\n",
      "Now Writing: Feature selection: Yes; Consensus Operation: median; Norm Strategy: dmso\n",
      "File: 2016_04_01_a549_48hr_batch1/2016_04_01_a549_48hr_batch1_consensus_median_feature_select_dmso.csv.gz\n",
      "(8340, 592)\n",
      "Now Writing: Feature selection: No; Consensus Operation: modz; Norm Strategy: dmso\n",
      "File: 2016_04_01_a549_48hr_batch1/2016_04_01_a549_48hr_batch1_consensus_modz_dmso.csv.gz\n",
      "(8340, 1790)\n",
      "Now Writing: Feature selection: Yes; Consensus Operation: modz; Norm Strategy: dmso\n",
      "File: 2016_04_01_a549_48hr_batch1/2016_04_01_a549_48hr_batch1_consensus_modz_feature_select_dmso.csv.gz\n",
      "(8340, 527)\n"
     ]
    },
    {
     "data": {
      "application/javascript": [
       "\n",
       "            setTimeout(function() {\n",
       "                var nbb_cell_id = 9;\n",
       "                var nbb_unformatted_code = \"float_format = \\\"%5g\\\"\\ncompression = \\\"gzip\\\"\\n\\nfor norm_strat in file_bases:\\n    file_suffix = file_bases[norm_strat][\\\"output_file_suffix\\\"]\\n    for operation in operations:\\n\\n        # No feature selection\\n        consensus_file = f\\\"{batch}_consensus_{operation}{file_suffix}\\\"\\n        consensus_file = pathlib.Path(batch, consensus_file)\\n\\n        consensus_df = all_consensus_dfs[norm_strat][operation][\\\"no_feat_select\\\"]\\n\\n        print(\\n            f\\\"Now Writing: Feature selection: No; Consensus Operation: {operation}; Norm Strategy: {norm_strat}\\\\nFile: {consensus_file}\\\"\\n        )\\n        print(consensus_df.shape)\\n\\n        consensus_df.to_csv(\\n            consensus_file,\\n            sep=\\\",\\\",\\n            compression=compression,\\n            float_format=float_format,\\n            index=False,\\n        )\\n\\n        # With feature selection\\n        consensus_feat_df = all_consensus_dfs[norm_strat][operation][\\\"feat_select\\\"]\\n\\n        consensus_feat_file = (\\n            f\\\"{batch}_consensus_{operation}_feature_select{file_suffix}\\\"\\n        )\\n        consensus_feat_file = pathlib.Path(batch, consensus_feat_file)\\n\\n        print(\\n            f\\\"Now Writing: Feature selection: Yes; Consensus Operation: {operation}; Norm Strategy: {norm_strat}\\\\nFile: {consensus_feat_file}\\\"\\n        )\\n        print(consensus_feat_df.shape)\\n\\n        consensus_feat_df.to_csv(\\n            consensus_feat_file,\\n            sep=\\\",\\\",\\n            compression=compression,\\n            float_format=float_format,\\n            index=False,\\n        )\";\n",
       "                var nbb_formatted_code = \"float_format = \\\"%5g\\\"\\ncompression = \\\"gzip\\\"\\n\\nfor norm_strat in file_bases:\\n    file_suffix = file_bases[norm_strat][\\\"output_file_suffix\\\"]\\n    for operation in operations:\\n\\n        # No feature selection\\n        consensus_file = f\\\"{batch}_consensus_{operation}{file_suffix}\\\"\\n        consensus_file = pathlib.Path(batch, consensus_file)\\n\\n        consensus_df = all_consensus_dfs[norm_strat][operation][\\\"no_feat_select\\\"]\\n\\n        print(\\n            f\\\"Now Writing: Feature selection: No; Consensus Operation: {operation}; Norm Strategy: {norm_strat}\\\\nFile: {consensus_file}\\\"\\n        )\\n        print(consensus_df.shape)\\n\\n        consensus_df.to_csv(\\n            consensus_file,\\n            sep=\\\",\\\",\\n            compression=compression,\\n            float_format=float_format,\\n            index=False,\\n        )\\n\\n        # With feature selection\\n        consensus_feat_df = all_consensus_dfs[norm_strat][operation][\\\"feat_select\\\"]\\n\\n        consensus_feat_file = (\\n            f\\\"{batch}_consensus_{operation}_feature_select{file_suffix}\\\"\\n        )\\n        consensus_feat_file = pathlib.Path(batch, consensus_feat_file)\\n\\n        print(\\n            f\\\"Now Writing: Feature selection: Yes; Consensus Operation: {operation}; Norm Strategy: {norm_strat}\\\\nFile: {consensus_feat_file}\\\"\\n        )\\n        print(consensus_feat_df.shape)\\n\\n        consensus_feat_df.to_csv(\\n            consensus_feat_file,\\n            sep=\\\",\\\",\\n            compression=compression,\\n            float_format=float_format,\\n            index=False,\\n        )\";\n",
       "                var nbb_cells = Jupyter.notebook.get_cells();\n",
       "                for (var i = 0; i < nbb_cells.length; ++i) {\n",
       "                    if (nbb_cells[i].input_prompt_number == nbb_cell_id) {\n",
       "                        if (nbb_cells[i].get_text() == nbb_unformatted_code) {\n",
       "                             nbb_cells[i].set_text(nbb_formatted_code);\n",
       "                        }\n",
       "                        break;\n",
       "                    }\n",
       "                }\n",
       "            }, 500);\n",
       "            "
      ],
      "text/plain": [
       "<IPython.core.display.Javascript object>"
      ]
     },
     "metadata": {},
     "output_type": "display_data"
    }
   ],
   "source": [
    "float_format = \"%5g\"\n",
    "compression = \"gzip\"\n",
    "\n",
    "for norm_strat in file_bases:\n",
    "    file_suffix = file_bases[norm_strat][\"output_file_suffix\"]\n",
    "    for operation in operations:\n",
    "\n",
    "        # No feature selection\n",
    "        consensus_file = f\"{batch}_consensus_{operation}{file_suffix}\"\n",
    "        consensus_file = pathlib.Path(batch, consensus_file)\n",
    "\n",
    "        consensus_df = all_consensus_dfs[norm_strat][operation][\"no_feat_select\"]\n",
    "\n",
    "        print(\n",
    "            f\"Now Writing: Feature selection: No; Consensus Operation: {operation}; Norm Strategy: {norm_strat}\\nFile: {consensus_file}\"\n",
    "        )\n",
    "        print(consensus_df.shape)\n",
    "\n",
    "        consensus_df.to_csv(\n",
    "            consensus_file,\n",
    "            sep=\",\",\n",
    "            compression=compression,\n",
    "            float_format=float_format,\n",
    "            index=False,\n",
    "        )\n",
    "\n",
    "        # With feature selection\n",
    "        consensus_feat_df = all_consensus_dfs[norm_strat][operation][\"feat_select\"]\n",
    "\n",
    "        consensus_feat_file = (\n",
    "            f\"{batch}_consensus_{operation}_feature_select{file_suffix}\"\n",
    "        )\n",
    "        consensus_feat_file = pathlib.Path(batch, consensus_feat_file)\n",
    "\n",
    "        print(\n",
    "            f\"Now Writing: Feature selection: Yes; Consensus Operation: {operation}; Norm Strategy: {norm_strat}\\nFile: {consensus_feat_file}\"\n",
    "        )\n",
    "        print(consensus_feat_df.shape)\n",
    "\n",
    "        consensus_feat_df.to_csv(\n",
    "            consensus_feat_file,\n",
    "            sep=\",\",\n",
    "            compression=compression,\n",
    "            float_format=float_format,\n",
    "            index=False,\n",
    "        )"
   ]
  },
  {
   "cell_type": "markdown",
   "metadata": {},
   "source": [
    "## Save whole plate MODZ consensus signature as GCT\n",
    "\n",
    "Whole-plate-normalized + MODZ aggregated consensus profiles will be made available on clue.io/morphology as a GCT file."
   ]
  },
  {
   "cell_type": "code",
   "execution_count": 11,
   "metadata": {},
   "outputs": [
    {
     "name": "stdout",
     "output_type": "stream",
     "text": [
      "Now Writing: Consensus Operation: modz; Norm Strategy: whole_plate\n",
      "File: 2016_04_01_a549_48hr_batch1/2016_04_01_a549_48hr_batch1_consensus_modz.gct\n",
      "(8340, 1790)\n"
     ]
    },
    {
     "data": {
      "application/javascript": [
       "\n",
       "            setTimeout(function() {\n",
       "                var nbb_cell_id = 11;\n",
       "                var nbb_unformatted_code = \"import pycytominer.write_gct\\n\\noperation = \\\"modz\\\"\\nnorm_strat = \\\"whole_plate\\\"\\nfile_suffix = \\\".gct\\\"\\nconsensus_file = f\\\"{batch}_consensus_{operation}{file_suffix}\\\"\\nconsensus_file = pathlib.Path(batch, consensus_file)\\n\\nconsensus_df = all_consensus_dfs[norm_strat][operation][\\\"no_feat_select\\\"]\\n\\nprint(\\n    f\\\"Now Writing: Consensus Operation: {operation}; Norm Strategy: {norm_strat}\\\\nFile: {consensus_file}\\\"\\n)\\nprint(consensus_df.shape)\\n\\npycytominer.write_gct(consensus_df, consensus_file)\";\n",
       "                var nbb_formatted_code = \"import pycytominer.write_gct\\n\\noperation = \\\"modz\\\"\\nnorm_strat = \\\"whole_plate\\\"\\nfile_suffix = \\\".gct\\\"\\nconsensus_file = f\\\"{batch}_consensus_{operation}{file_suffix}\\\"\\nconsensus_file = pathlib.Path(batch, consensus_file)\\n\\nconsensus_df = all_consensus_dfs[norm_strat][operation][\\\"no_feat_select\\\"]\\n\\nprint(\\n    f\\\"Now Writing: Consensus Operation: {operation}; Norm Strategy: {norm_strat}\\\\nFile: {consensus_file}\\\"\\n)\\nprint(consensus_df.shape)\\n\\npycytominer.write_gct(consensus_df, consensus_file)\";\n",
       "                var nbb_cells = Jupyter.notebook.get_cells();\n",
       "                for (var i = 0; i < nbb_cells.length; ++i) {\n",
       "                    if (nbb_cells[i].input_prompt_number == nbb_cell_id) {\n",
       "                        if (nbb_cells[i].get_text() == nbb_unformatted_code) {\n",
       "                             nbb_cells[i].set_text(nbb_formatted_code);\n",
       "                        }\n",
       "                        break;\n",
       "                    }\n",
       "                }\n",
       "            }, 500);\n",
       "            "
      ],
      "text/plain": [
       "<IPython.core.display.Javascript object>"
      ]
     },
     "metadata": {},
     "output_type": "display_data"
    }
   ],
   "source": [
    "import pycytominer.write_gct\n",
    "\n",
    "operation = \"modz\"\n",
    "norm_strat = \"whole_plate\"\n",
    "file_suffix = \".gct\"\n",
    "consensus_file = f\"{batch}_consensus_{operation}{file_suffix}\"\n",
    "consensus_file = pathlib.Path(batch, consensus_file)\n",
    "\n",
    "consensus_df = all_consensus_dfs[norm_strat][operation][\"no_feat_select\"]\n",
    "\n",
    "print(\n",
    "    f\"Now Writing: Consensus Operation: {operation}; Norm Strategy: {norm_strat}\\nFile: {consensus_file}\"\n",
    ")\n",
    "print(consensus_df.shape)\n",
    "\n",
    "pycytominer.write_gct(consensus_df, consensus_file)"
   ]
  },
  {
   "cell_type": "code",
   "execution_count": null,
   "metadata": {},
   "outputs": [],
   "source": []
  }
 ],
 "metadata": {
  "kernelspec": {
   "display_name": "Python 3",
   "language": "python",
   "name": "python3"
  },
  "language_info": {
   "codemirror_mode": {
    "name": "ipython",
    "version": 3
   },
   "file_extension": ".py",
   "mimetype": "text/x-python",
   "name": "python",
   "nbconvert_exporter": "python",
   "pygments_lexer": "ipython3",
   "version": "3.7.10"
  }
 },
 "nbformat": 4,
 "nbformat_minor": 4
}
